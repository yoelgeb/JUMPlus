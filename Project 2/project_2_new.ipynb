{
 "cells": [
  {
   "cell_type": "code",
   "execution_count": 57,
   "metadata": {},
   "outputs": [],
   "source": [
    "import polars as pl\n",
    "import plotly.express as px\n",
    "import plotly.graph_objects as go\n",
    "from plotly.subplots import make_subplots\n",
    "from IPython.display import clear_output\n",
    "import matplotlib.colors as mcolors\n",
    "import random"
   ]
  },
  {
   "cell_type": "code",
   "execution_count": 2,
   "metadata": {},
   "outputs": [],
   "source": [
    "data = pl.read_csv('charcters_stats.csv')"
   ]
  },
  {
   "attachments": {},
   "cell_type": "markdown",
   "metadata": {},
   "source": [
    "Minor Data Cleaning"
   ]
  },
  {
   "cell_type": "code",
   "execution_count": 3,
   "metadata": {},
   "outputs": [
    {
     "data": {
      "text/html": [
       "<div><style>\n",
       ".dataframe > thead > tr > th,\n",
       ".dataframe > tbody > tr > td {\n",
       "  text-align: right;\n",
       "}\n",
       "</style>\n",
       "<small>shape: (432, 9)</small><table border=\"1\" class=\"dataframe\"><thead><tr><th>Name</th><th>Alignment</th><th>Intelligence</th><th>Strength</th><th>Speed</th><th>Durability</th><th>Power</th><th>Combat</th><th>Total</th></tr><tr><td>str</td><td>str</td><td>i64</td><td>i64</td><td>i64</td><td>i64</td><td>i64</td><td>i64</td><td>i64</td></tr></thead><tbody><tr><td>&quot;3-D Man&quot;</td><td>&quot;good&quot;</td><td>50</td><td>31</td><td>43</td><td>32</td><td>25</td><td>52</td><td>233</td></tr><tr><td>&quot;A-Bomb&quot;</td><td>&quot;good&quot;</td><td>38</td><td>100</td><td>17</td><td>80</td><td>17</td><td>64</td><td>316</td></tr><tr><td>&quot;Abe Sapien&quot;</td><td>&quot;good&quot;</td><td>88</td><td>14</td><td>35</td><td>42</td><td>35</td><td>85</td><td>299</td></tr><tr><td>&quot;Abin Sur&quot;</td><td>&quot;good&quot;</td><td>50</td><td>90</td><td>53</td><td>64</td><td>84</td><td>65</td><td>406</td></tr><tr><td>&quot;Abomination&quot;</td><td>&quot;bad&quot;</td><td>63</td><td>80</td><td>53</td><td>90</td><td>55</td><td>95</td><td>436</td></tr><tr><td>&quot;Abraxas&quot;</td><td>&quot;bad&quot;</td><td>88</td><td>100</td><td>83</td><td>99</td><td>100</td><td>56</td><td>526</td></tr><tr><td>&quot;Adam Monroe&quot;</td><td>&quot;good&quot;</td><td>63</td><td>10</td><td>12</td><td>100</td><td>71</td><td>64</td><td>320</td></tr><tr><td>&quot;Agent Bob&quot;</td><td>&quot;good&quot;</td><td>10</td><td>8</td><td>13</td><td>5</td><td>5</td><td>20</td><td>61</td></tr><tr><td>&quot;Agent Zero&quot;</td><td>&quot;good&quot;</td><td>75</td><td>28</td><td>38</td><td>80</td><td>72</td><td>95</td><td>388</td></tr><tr><td>&quot;Air-Walker&quot;</td><td>&quot;bad&quot;</td><td>50</td><td>85</td><td>100</td><td>85</td><td>100</td><td>40</td><td>460</td></tr><tr><td>&quot;Alan Scott&quot;</td><td>&quot;good&quot;</td><td>63</td><td>80</td><td>23</td><td>90</td><td>98</td><td>32</td><td>386</td></tr><tr><td>&quot;Alfred Pennywo…</td><td>&quot;good&quot;</td><td>63</td><td>10</td><td>17</td><td>10</td><td>7</td><td>55</td><td>162</td></tr><tr><td>&hellip;</td><td>&hellip;</td><td>&hellip;</td><td>&hellip;</td><td>&hellip;</td><td>&hellip;</td><td>&hellip;</td><td>&hellip;</td><td>&hellip;</td></tr><tr><td>&quot;Wolverine&quot;</td><td>&quot;good&quot;</td><td>55</td><td>32</td><td>38</td><td>100</td><td>44</td><td>100</td><td>369</td></tr><tr><td>&quot;Wonder Girl&quot;</td><td>&quot;good&quot;</td><td>75</td><td>90</td><td>25</td><td>80</td><td>39</td><td>60</td><td>369</td></tr><tr><td>&quot;Wonder Man&quot;</td><td>&quot;good&quot;</td><td>75</td><td>100</td><td>53</td><td>90</td><td>64</td><td>64</td><td>446</td></tr><tr><td>&quot;Wonder Woman&quot;</td><td>&quot;good&quot;</td><td>88</td><td>100</td><td>50</td><td>100</td><td>42</td><td>100</td><td>480</td></tr><tr><td>&quot;Wyatt Wingfoot…</td><td>&quot;good&quot;</td><td>10</td><td>10</td><td>12</td><td>1</td><td>1</td><td>56</td><td>90</td></tr><tr><td>&quot;X-23&quot;</td><td>&quot;good&quot;</td><td>75</td><td>24</td><td>35</td><td>90</td><td>27</td><td>85</td><td>336</td></tr><tr><td>&quot;X-Man&quot;</td><td>&quot;good&quot;</td><td>88</td><td>53</td><td>53</td><td>95</td><td>92</td><td>84</td><td>465</td></tr><tr><td>&quot;Yellowjacket&quot;</td><td>&quot;good&quot;</td><td>88</td><td>10</td><td>12</td><td>28</td><td>12</td><td>14</td><td>164</td></tr><tr><td>&quot;Yellowjacket I…</td><td>&quot;good&quot;</td><td>50</td><td>10</td><td>35</td><td>28</td><td>31</td><td>28</td><td>182</td></tr><tr><td>&quot;Ymir&quot;</td><td>&quot;good&quot;</td><td>50</td><td>100</td><td>27</td><td>100</td><td>83</td><td>28</td><td>388</td></tr><tr><td>&quot;Zatanna&quot;</td><td>&quot;good&quot;</td><td>75</td><td>10</td><td>23</td><td>28</td><td>100</td><td>56</td><td>292</td></tr><tr><td>&quot;Zoom&quot;</td><td>&quot;bad&quot;</td><td>50</td><td>10</td><td>100</td><td>28</td><td>72</td><td>28</td><td>288</td></tr></tbody></table></div>"
      ],
      "text/plain": [
       "shape: (432, 9)\n",
       "┌─────────────────┬───────────┬──────────────┬──────────┬───┬────────────┬───────┬────────┬───────┐\n",
       "│ Name            ┆ Alignment ┆ Intelligence ┆ Strength ┆ … ┆ Durability ┆ Power ┆ Combat ┆ Total │\n",
       "│ ---             ┆ ---       ┆ ---          ┆ ---      ┆   ┆ ---        ┆ ---   ┆ ---    ┆ ---   │\n",
       "│ str             ┆ str       ┆ i64          ┆ i64      ┆   ┆ i64        ┆ i64   ┆ i64    ┆ i64   │\n",
       "╞═════════════════╪═══════════╪══════════════╪══════════╪═══╪════════════╪═══════╪════════╪═══════╡\n",
       "│ 3-D Man         ┆ good      ┆ 50           ┆ 31       ┆ … ┆ 32         ┆ 25    ┆ 52     ┆ 233   │\n",
       "│ A-Bomb          ┆ good      ┆ 38           ┆ 100      ┆ … ┆ 80         ┆ 17    ┆ 64     ┆ 316   │\n",
       "│ Abe Sapien      ┆ good      ┆ 88           ┆ 14       ┆ … ┆ 42         ┆ 35    ┆ 85     ┆ 299   │\n",
       "│ Abin Sur        ┆ good      ┆ 50           ┆ 90       ┆ … ┆ 64         ┆ 84    ┆ 65     ┆ 406   │\n",
       "│ …               ┆ …         ┆ …            ┆ …        ┆ … ┆ …          ┆ …     ┆ …      ┆ …     │\n",
       "│ Yellowjacket II ┆ good      ┆ 50           ┆ 10       ┆ … ┆ 28         ┆ 31    ┆ 28     ┆ 182   │\n",
       "│ Ymir            ┆ good      ┆ 50           ┆ 100      ┆ … ┆ 100        ┆ 83    ┆ 28     ┆ 388   │\n",
       "│ Zatanna         ┆ good      ┆ 75           ┆ 10       ┆ … ┆ 28         ┆ 100   ┆ 56     ┆ 292   │\n",
       "│ Zoom            ┆ bad       ┆ 50           ┆ 10       ┆ … ┆ 28         ┆ 72    ┆ 28     ┆ 288   │\n",
       "└─────────────────┴───────────┴──────────────┴──────────┴───┴────────────┴───────┴────────┴───────┘"
      ]
     },
     "execution_count": 3,
     "metadata": {},
     "output_type": "execute_result"
    }
   ],
   "source": [
    "data = data.filter(data['Total'] != 5)\n",
    "data = data.drop_nulls()\n",
    "data"
   ]
  },
  {
   "attachments": {},
   "cell_type": "markdown",
   "metadata": {},
   "source": [
    "3.\tShow the first record from the csv"
   ]
  },
  {
   "cell_type": "code",
   "execution_count": 4,
   "metadata": {},
   "outputs": [
    {
     "data": {
      "text/html": [
       "<div><style>\n",
       ".dataframe > thead > tr > th,\n",
       ".dataframe > tbody > tr > td {\n",
       "  text-align: right;\n",
       "}\n",
       "</style>\n",
       "<small>shape: (1, 9)</small><table border=\"1\" class=\"dataframe\"><thead><tr><th>Name</th><th>Alignment</th><th>Intelligence</th><th>Strength</th><th>Speed</th><th>Durability</th><th>Power</th><th>Combat</th><th>Total</th></tr><tr><td>str</td><td>str</td><td>i64</td><td>i64</td><td>i64</td><td>i64</td><td>i64</td><td>i64</td><td>i64</td></tr></thead><tbody><tr><td>&quot;3-D Man&quot;</td><td>&quot;good&quot;</td><td>50</td><td>31</td><td>43</td><td>32</td><td>25</td><td>52</td><td>233</td></tr></tbody></table></div>"
      ],
      "text/plain": [
       "shape: (1, 9)\n",
       "┌─────────┬───────────┬──────────────┬──────────┬───┬────────────┬───────┬────────┬───────┐\n",
       "│ Name    ┆ Alignment ┆ Intelligence ┆ Strength ┆ … ┆ Durability ┆ Power ┆ Combat ┆ Total │\n",
       "│ ---     ┆ ---       ┆ ---          ┆ ---      ┆   ┆ ---        ┆ ---   ┆ ---    ┆ ---   │\n",
       "│ str     ┆ str       ┆ i64          ┆ i64      ┆   ┆ i64        ┆ i64   ┆ i64    ┆ i64   │\n",
       "╞═════════╪═══════════╪══════════════╪══════════╪═══╪════════════╪═══════╪════════╪═══════╡\n",
       "│ 3-D Man ┆ good      ┆ 50           ┆ 31       ┆ … ┆ 32         ┆ 25    ┆ 52     ┆ 233   │\n",
       "└─────────┴───────────┴──────────────┴──────────┴───┴────────────┴───────┴────────┴───────┘"
      ]
     },
     "execution_count": 4,
     "metadata": {},
     "output_type": "execute_result"
    }
   ],
   "source": [
    "data.head(1)"
   ]
  },
  {
   "attachments": {},
   "cell_type": "markdown",
   "metadata": {},
   "source": [
    "4.\tShow the number of rows and columns"
   ]
  },
  {
   "cell_type": "code",
   "execution_count": 5,
   "metadata": {},
   "outputs": [
    {
     "name": "stdout",
     "output_type": "stream",
     "text": [
      "There are 432 rows\n",
      "There are 9 columns\n"
     ]
    }
   ],
   "source": [
    "print(f'There are {data.shape[0]} rows')\n",
    "print(f'There are {data.shape[1]} columns')"
   ]
  },
  {
   "attachments": {},
   "cell_type": "markdown",
   "metadata": {},
   "source": [
    "5.\tFind the amount of characters who fall under each alignment, you can use value_counts()"
   ]
  },
  {
   "cell_type": "code",
   "execution_count": 6,
   "metadata": {},
   "outputs": [
    {
     "data": {
      "text/html": [
       "<div><style>\n",
       ".dataframe > thead > tr > th,\n",
       ".dataframe > tbody > tr > td {\n",
       "  text-align: right;\n",
       "}\n",
       "</style>\n",
       "<small>shape: (3, 2)</small><table border=\"1\" class=\"dataframe\"><thead><tr><th>Alignment</th><th>count</th></tr><tr><td>str</td><td>u32</td></tr></thead><tbody><tr><td>&quot;good&quot;</td><td>299</td></tr><tr><td>&quot;neutral&quot;</td><td>11</td></tr><tr><td>&quot;bad&quot;</td><td>122</td></tr></tbody></table></div>"
      ],
      "text/plain": [
       "shape: (3, 2)\n",
       "┌───────────┬───────┐\n",
       "│ Alignment ┆ count │\n",
       "│ ---       ┆ ---   │\n",
       "│ str       ┆ u32   │\n",
       "╞═══════════╪═══════╡\n",
       "│ good      ┆ 299   │\n",
       "│ neutral   ┆ 11    │\n",
       "│ bad       ┆ 122   │\n",
       "└───────────┴───────┘"
      ]
     },
     "execution_count": 6,
     "metadata": {},
     "output_type": "execute_result"
    }
   ],
   "source": [
    "data.groupby('Alignment').count()"
   ]
  },
  {
   "attachments": {},
   "cell_type": "markdown",
   "metadata": {},
   "source": [
    "6.\tFind only the good alignment characters"
   ]
  },
  {
   "cell_type": "code",
   "execution_count": 7,
   "metadata": {},
   "outputs": [
    {
     "data": {
      "text/html": [
       "<div><style>\n",
       ".dataframe > thead > tr > th,\n",
       ".dataframe > tbody > tr > td {\n",
       "  text-align: right;\n",
       "}\n",
       "</style>\n",
       "<small>shape: (299, 9)</small><table border=\"1\" class=\"dataframe\"><thead><tr><th>Name</th><th>Alignment</th><th>Intelligence</th><th>Strength</th><th>Speed</th><th>Durability</th><th>Power</th><th>Combat</th><th>Total</th></tr><tr><td>str</td><td>str</td><td>i64</td><td>i64</td><td>i64</td><td>i64</td><td>i64</td><td>i64</td><td>i64</td></tr></thead><tbody><tr><td>&quot;3-D Man&quot;</td><td>&quot;good&quot;</td><td>50</td><td>31</td><td>43</td><td>32</td><td>25</td><td>52</td><td>233</td></tr><tr><td>&quot;A-Bomb&quot;</td><td>&quot;good&quot;</td><td>38</td><td>100</td><td>17</td><td>80</td><td>17</td><td>64</td><td>316</td></tr><tr><td>&quot;Abe Sapien&quot;</td><td>&quot;good&quot;</td><td>88</td><td>14</td><td>35</td><td>42</td><td>35</td><td>85</td><td>299</td></tr><tr><td>&quot;Abin Sur&quot;</td><td>&quot;good&quot;</td><td>50</td><td>90</td><td>53</td><td>64</td><td>84</td><td>65</td><td>406</td></tr><tr><td>&quot;Adam Monroe&quot;</td><td>&quot;good&quot;</td><td>63</td><td>10</td><td>12</td><td>100</td><td>71</td><td>64</td><td>320</td></tr><tr><td>&quot;Agent Bob&quot;</td><td>&quot;good&quot;</td><td>10</td><td>8</td><td>13</td><td>5</td><td>5</td><td>20</td><td>61</td></tr><tr><td>&quot;Agent Zero&quot;</td><td>&quot;good&quot;</td><td>75</td><td>28</td><td>38</td><td>80</td><td>72</td><td>95</td><td>388</td></tr><tr><td>&quot;Alan Scott&quot;</td><td>&quot;good&quot;</td><td>63</td><td>80</td><td>23</td><td>90</td><td>98</td><td>32</td><td>386</td></tr><tr><td>&quot;Alfred Pennywo…</td><td>&quot;good&quot;</td><td>63</td><td>10</td><td>17</td><td>10</td><td>7</td><td>55</td><td>162</td></tr><tr><td>&quot;Angel&quot;</td><td>&quot;good&quot;</td><td>63</td><td>13</td><td>46</td><td>64</td><td>17</td><td>42</td><td>245</td></tr><tr><td>&quot;Angel Salvador…</td><td>&quot;good&quot;</td><td>38</td><td>10</td><td>28</td><td>28</td><td>46</td><td>60</td><td>210</td></tr><tr><td>&quot;Animal Man&quot;</td><td>&quot;good&quot;</td><td>56</td><td>48</td><td>47</td><td>85</td><td>73</td><td>80</td><td>389</td></tr><tr><td>&hellip;</td><td>&hellip;</td><td>&hellip;</td><td>&hellip;</td><td>&hellip;</td><td>&hellip;</td><td>&hellip;</td><td>&hellip;</td><td>&hellip;</td></tr><tr><td>&quot;Wolfsbane&quot;</td><td>&quot;good&quot;</td><td>38</td><td>16</td><td>35</td><td>42</td><td>26</td><td>42</td><td>199</td></tr><tr><td>&quot;Wolverine&quot;</td><td>&quot;good&quot;</td><td>55</td><td>32</td><td>38</td><td>100</td><td>44</td><td>100</td><td>369</td></tr><tr><td>&quot;Wonder Girl&quot;</td><td>&quot;good&quot;</td><td>75</td><td>90</td><td>25</td><td>80</td><td>39</td><td>60</td><td>369</td></tr><tr><td>&quot;Wonder Man&quot;</td><td>&quot;good&quot;</td><td>75</td><td>100</td><td>53</td><td>90</td><td>64</td><td>64</td><td>446</td></tr><tr><td>&quot;Wonder Woman&quot;</td><td>&quot;good&quot;</td><td>88</td><td>100</td><td>50</td><td>100</td><td>42</td><td>100</td><td>480</td></tr><tr><td>&quot;Wyatt Wingfoot…</td><td>&quot;good&quot;</td><td>10</td><td>10</td><td>12</td><td>1</td><td>1</td><td>56</td><td>90</td></tr><tr><td>&quot;X-23&quot;</td><td>&quot;good&quot;</td><td>75</td><td>24</td><td>35</td><td>90</td><td>27</td><td>85</td><td>336</td></tr><tr><td>&quot;X-Man&quot;</td><td>&quot;good&quot;</td><td>88</td><td>53</td><td>53</td><td>95</td><td>92</td><td>84</td><td>465</td></tr><tr><td>&quot;Yellowjacket&quot;</td><td>&quot;good&quot;</td><td>88</td><td>10</td><td>12</td><td>28</td><td>12</td><td>14</td><td>164</td></tr><tr><td>&quot;Yellowjacket I…</td><td>&quot;good&quot;</td><td>50</td><td>10</td><td>35</td><td>28</td><td>31</td><td>28</td><td>182</td></tr><tr><td>&quot;Ymir&quot;</td><td>&quot;good&quot;</td><td>50</td><td>100</td><td>27</td><td>100</td><td>83</td><td>28</td><td>388</td></tr><tr><td>&quot;Zatanna&quot;</td><td>&quot;good&quot;</td><td>75</td><td>10</td><td>23</td><td>28</td><td>100</td><td>56</td><td>292</td></tr></tbody></table></div>"
      ],
      "text/plain": [
       "shape: (299, 9)\n",
       "┌─────────────────┬───────────┬──────────────┬──────────┬───┬────────────┬───────┬────────┬───────┐\n",
       "│ Name            ┆ Alignment ┆ Intelligence ┆ Strength ┆ … ┆ Durability ┆ Power ┆ Combat ┆ Total │\n",
       "│ ---             ┆ ---       ┆ ---          ┆ ---      ┆   ┆ ---        ┆ ---   ┆ ---    ┆ ---   │\n",
       "│ str             ┆ str       ┆ i64          ┆ i64      ┆   ┆ i64        ┆ i64   ┆ i64    ┆ i64   │\n",
       "╞═════════════════╪═══════════╪══════════════╪══════════╪═══╪════════════╪═══════╪════════╪═══════╡\n",
       "│ 3-D Man         ┆ good      ┆ 50           ┆ 31       ┆ … ┆ 32         ┆ 25    ┆ 52     ┆ 233   │\n",
       "│ A-Bomb          ┆ good      ┆ 38           ┆ 100      ┆ … ┆ 80         ┆ 17    ┆ 64     ┆ 316   │\n",
       "│ Abe Sapien      ┆ good      ┆ 88           ┆ 14       ┆ … ┆ 42         ┆ 35    ┆ 85     ┆ 299   │\n",
       "│ Abin Sur        ┆ good      ┆ 50           ┆ 90       ┆ … ┆ 64         ┆ 84    ┆ 65     ┆ 406   │\n",
       "│ …               ┆ …         ┆ …            ┆ …        ┆ … ┆ …          ┆ …     ┆ …      ┆ …     │\n",
       "│ Yellowjacket    ┆ good      ┆ 88           ┆ 10       ┆ … ┆ 28         ┆ 12    ┆ 14     ┆ 164   │\n",
       "│ Yellowjacket II ┆ good      ┆ 50           ┆ 10       ┆ … ┆ 28         ┆ 31    ┆ 28     ┆ 182   │\n",
       "│ Ymir            ┆ good      ┆ 50           ┆ 100      ┆ … ┆ 100        ┆ 83    ┆ 28     ┆ 388   │\n",
       "│ Zatanna         ┆ good      ┆ 75           ┆ 10       ┆ … ┆ 28         ┆ 100   ┆ 56     ┆ 292   │\n",
       "└─────────────────┴───────────┴──────────────┴──────────┴───┴────────────┴───────┴────────┴───────┘"
      ]
     },
     "execution_count": 7,
     "metadata": {},
     "output_type": "execute_result"
    }
   ],
   "source": [
    "good_guys = data.filter(data['Alignment'] == 'good')\n",
    "good_guys"
   ]
  },
  {
   "attachments": {},
   "cell_type": "markdown",
   "metadata": {},
   "source": [
    "7.\tShow only the first five records from the previous bullet point"
   ]
  },
  {
   "cell_type": "code",
   "execution_count": 8,
   "metadata": {},
   "outputs": [
    {
     "data": {
      "text/html": [
       "<div><style>\n",
       ".dataframe > thead > tr > th,\n",
       ".dataframe > tbody > tr > td {\n",
       "  text-align: right;\n",
       "}\n",
       "</style>\n",
       "<small>shape: (5, 9)</small><table border=\"1\" class=\"dataframe\"><thead><tr><th>Name</th><th>Alignment</th><th>Intelligence</th><th>Strength</th><th>Speed</th><th>Durability</th><th>Power</th><th>Combat</th><th>Total</th></tr><tr><td>str</td><td>str</td><td>i64</td><td>i64</td><td>i64</td><td>i64</td><td>i64</td><td>i64</td><td>i64</td></tr></thead><tbody><tr><td>&quot;3-D Man&quot;</td><td>&quot;good&quot;</td><td>50</td><td>31</td><td>43</td><td>32</td><td>25</td><td>52</td><td>233</td></tr><tr><td>&quot;A-Bomb&quot;</td><td>&quot;good&quot;</td><td>38</td><td>100</td><td>17</td><td>80</td><td>17</td><td>64</td><td>316</td></tr><tr><td>&quot;Abe Sapien&quot;</td><td>&quot;good&quot;</td><td>88</td><td>14</td><td>35</td><td>42</td><td>35</td><td>85</td><td>299</td></tr><tr><td>&quot;Abin Sur&quot;</td><td>&quot;good&quot;</td><td>50</td><td>90</td><td>53</td><td>64</td><td>84</td><td>65</td><td>406</td></tr><tr><td>&quot;Adam Monroe&quot;</td><td>&quot;good&quot;</td><td>63</td><td>10</td><td>12</td><td>100</td><td>71</td><td>64</td><td>320</td></tr></tbody></table></div>"
      ],
      "text/plain": [
       "shape: (5, 9)\n",
       "┌─────────────┬───────────┬──────────────┬──────────┬───┬────────────┬───────┬────────┬───────┐\n",
       "│ Name        ┆ Alignment ┆ Intelligence ┆ Strength ┆ … ┆ Durability ┆ Power ┆ Combat ┆ Total │\n",
       "│ ---         ┆ ---       ┆ ---          ┆ ---      ┆   ┆ ---        ┆ ---   ┆ ---    ┆ ---   │\n",
       "│ str         ┆ str       ┆ i64          ┆ i64      ┆   ┆ i64        ┆ i64   ┆ i64    ┆ i64   │\n",
       "╞═════════════╪═══════════╪══════════════╪══════════╪═══╪════════════╪═══════╪════════╪═══════╡\n",
       "│ 3-D Man     ┆ good      ┆ 50           ┆ 31       ┆ … ┆ 32         ┆ 25    ┆ 52     ┆ 233   │\n",
       "│ A-Bomb      ┆ good      ┆ 38           ┆ 100      ┆ … ┆ 80         ┆ 17    ┆ 64     ┆ 316   │\n",
       "│ Abe Sapien  ┆ good      ┆ 88           ┆ 14       ┆ … ┆ 42         ┆ 35    ┆ 85     ┆ 299   │\n",
       "│ Abin Sur    ┆ good      ┆ 50           ┆ 90       ┆ … ┆ 64         ┆ 84    ┆ 65     ┆ 406   │\n",
       "│ Adam Monroe ┆ good      ┆ 63           ┆ 10       ┆ … ┆ 100        ┆ 71    ┆ 64     ┆ 320   │\n",
       "└─────────────┴───────────┴──────────────┴──────────┴───┴────────────┴───────┴────────┴───────┘"
      ]
     },
     "execution_count": 8,
     "metadata": {},
     "output_type": "execute_result"
    }
   ],
   "source": [
    "good_guys.head(5)"
   ]
  },
  {
   "attachments": {},
   "cell_type": "markdown",
   "metadata": {},
   "source": [
    "8.\tSelect the top five heroes with the highest speed who have a good alignment"
   ]
  },
  {
   "cell_type": "code",
   "execution_count": 9,
   "metadata": {},
   "outputs": [
    {
     "data": {
      "text/html": [
       "<div><style>\n",
       ".dataframe > thead > tr > th,\n",
       ".dataframe > tbody > tr > td {\n",
       "  text-align: right;\n",
       "}\n",
       "</style>\n",
       "<small>shape: (5, 9)</small><table border=\"1\" class=\"dataframe\"><thead><tr><th>Name</th><th>Alignment</th><th>Intelligence</th><th>Strength</th><th>Speed</th><th>Durability</th><th>Power</th><th>Combat</th><th>Total</th></tr><tr><td>str</td><td>str</td><td>i64</td><td>i64</td><td>i64</td><td>i64</td><td>i64</td><td>i64</td><td>i64</td></tr></thead><tbody><tr><td>&quot;Black Bolt&quot;</td><td>&quot;good&quot;</td><td>75</td><td>67</td><td>100</td><td>84</td><td>100</td><td>56</td><td>482</td></tr><tr><td>&quot;Flash I&quot;</td><td>&quot;good&quot;</td><td>63</td><td>10</td><td>100</td><td>50</td><td>57</td><td>32</td><td>312</td></tr><tr><td>&quot;Flash II&quot;</td><td>&quot;good&quot;</td><td>63</td><td>10</td><td>100</td><td>60</td><td>66</td><td>32</td><td>331</td></tr><tr><td>&quot;Flash III&quot;</td><td>&quot;good&quot;</td><td>63</td><td>10</td><td>100</td><td>60</td><td>83</td><td>32</td><td>348</td></tr><tr><td>&quot;Flash IV&quot;</td><td>&quot;good&quot;</td><td>63</td><td>10</td><td>100</td><td>32</td><td>59</td><td>48</td><td>312</td></tr></tbody></table></div>"
      ],
      "text/plain": [
       "shape: (5, 9)\n",
       "┌────────────┬───────────┬──────────────┬──────────┬───┬────────────┬───────┬────────┬───────┐\n",
       "│ Name       ┆ Alignment ┆ Intelligence ┆ Strength ┆ … ┆ Durability ┆ Power ┆ Combat ┆ Total │\n",
       "│ ---        ┆ ---       ┆ ---          ┆ ---      ┆   ┆ ---        ┆ ---   ┆ ---    ┆ ---   │\n",
       "│ str        ┆ str       ┆ i64          ┆ i64      ┆   ┆ i64        ┆ i64   ┆ i64    ┆ i64   │\n",
       "╞════════════╪═══════════╪══════════════╪══════════╪═══╪════════════╪═══════╪════════╪═══════╡\n",
       "│ Black Bolt ┆ good      ┆ 75           ┆ 67       ┆ … ┆ 84         ┆ 100   ┆ 56     ┆ 482   │\n",
       "│ Flash I    ┆ good      ┆ 63           ┆ 10       ┆ … ┆ 50         ┆ 57    ┆ 32     ┆ 312   │\n",
       "│ Flash II   ┆ good      ┆ 63           ┆ 10       ┆ … ┆ 60         ┆ 66    ┆ 32     ┆ 331   │\n",
       "│ Flash III  ┆ good      ┆ 63           ┆ 10       ┆ … ┆ 60         ┆ 83    ┆ 32     ┆ 348   │\n",
       "│ Flash IV   ┆ good      ┆ 63           ┆ 10       ┆ … ┆ 32         ┆ 59    ┆ 48     ┆ 312   │\n",
       "└────────────┴───────────┴──────────────┴──────────┴───┴────────────┴───────┴────────┴───────┘"
      ]
     },
     "execution_count": 9,
     "metadata": {},
     "output_type": "execute_result"
    }
   ],
   "source": [
    "good_guys_speed = good_guys.sort(by='Speed', descending=True)\n",
    "good_guys_speed.head(5)"
   ]
  },
  {
   "attachments": {},
   "cell_type": "markdown",
   "metadata": {},
   "source": [
    "9.\tSelect five heroes with maximum power who have a good alignment"
   ]
  },
  {
   "cell_type": "code",
   "execution_count": 10,
   "metadata": {},
   "outputs": [
    {
     "data": {
      "text/html": [
       "<div><style>\n",
       ".dataframe > thead > tr > th,\n",
       ".dataframe > tbody > tr > td {\n",
       "  text-align: right;\n",
       "}\n",
       "</style>\n",
       "<small>shape: (5, 9)</small><table border=\"1\" class=\"dataframe\"><thead><tr><th>Name</th><th>Alignment</th><th>Intelligence</th><th>Strength</th><th>Speed</th><th>Durability</th><th>Power</th><th>Combat</th><th>Total</th></tr><tr><td>str</td><td>str</td><td>i64</td><td>i64</td><td>i64</td><td>i64</td><td>i64</td><td>i64</td><td>i64</td></tr></thead><tbody><tr><td>&quot;Beta Ray Bill&quot;</td><td>&quot;good&quot;</td><td>63</td><td>80</td><td>35</td><td>95</td><td>100</td><td>84</td><td>457</td></tr><tr><td>&quot;Beyonder&quot;</td><td>&quot;good&quot;</td><td>88</td><td>100</td><td>23</td><td>100</td><td>100</td><td>56</td><td>467</td></tr><tr><td>&quot;Black Bolt&quot;</td><td>&quot;good&quot;</td><td>75</td><td>67</td><td>100</td><td>84</td><td>100</td><td>56</td><td>482</td></tr><tr><td>&quot;Cable&quot;</td><td>&quot;good&quot;</td><td>88</td><td>48</td><td>23</td><td>56</td><td>100</td><td>80</td><td>395</td></tr><tr><td>&quot;Deadman&quot;</td><td>&quot;good&quot;</td><td>50</td><td>10</td><td>33</td><td>100</td><td>100</td><td>42</td><td>335</td></tr></tbody></table></div>"
      ],
      "text/plain": [
       "shape: (5, 9)\n",
       "┌───────────────┬───────────┬──────────────┬──────────┬───┬────────────┬───────┬────────┬───────┐\n",
       "│ Name          ┆ Alignment ┆ Intelligence ┆ Strength ┆ … ┆ Durability ┆ Power ┆ Combat ┆ Total │\n",
       "│ ---           ┆ ---       ┆ ---          ┆ ---      ┆   ┆ ---        ┆ ---   ┆ ---    ┆ ---   │\n",
       "│ str           ┆ str       ┆ i64          ┆ i64      ┆   ┆ i64        ┆ i64   ┆ i64    ┆ i64   │\n",
       "╞═══════════════╪═══════════╪══════════════╪══════════╪═══╪════════════╪═══════╪════════╪═══════╡\n",
       "│ Beta Ray Bill ┆ good      ┆ 63           ┆ 80       ┆ … ┆ 95         ┆ 100   ┆ 84     ┆ 457   │\n",
       "│ Beyonder      ┆ good      ┆ 88           ┆ 100      ┆ … ┆ 100        ┆ 100   ┆ 56     ┆ 467   │\n",
       "│ Black Bolt    ┆ good      ┆ 75           ┆ 67       ┆ … ┆ 84         ┆ 100   ┆ 56     ┆ 482   │\n",
       "│ Cable         ┆ good      ┆ 88           ┆ 48       ┆ … ┆ 56         ┆ 100   ┆ 80     ┆ 395   │\n",
       "│ Deadman       ┆ good      ┆ 50           ┆ 10       ┆ … ┆ 100        ┆ 100   ┆ 42     ┆ 335   │\n",
       "└───────────────┴───────────┴──────────────┴──────────┴───┴────────────┴───────┴────────┴───────┘"
      ]
     },
     "execution_count": 10,
     "metadata": {},
     "output_type": "execute_result"
    }
   ],
   "source": [
    "good_guys_power = good_guys.sort(by='Power', descending=True)\n",
    "good_guys_power.head(5)"
   ]
  },
  {
   "attachments": {},
   "cell_type": "markdown",
   "metadata": {},
   "source": [
    "10.\tFind out how many superheroes there are with power of 100 with good alignment\n",
    "11.\tShape them what you got in point 10\n",
    "12.\tShow all records from point 10"
   ]
  },
  {
   "cell_type": "code",
   "execution_count": 11,
   "metadata": {},
   "outputs": [
    {
     "name": "stdout",
     "output_type": "stream",
     "text": [
      "There are 33 with a 100 Power stat\n"
     ]
    },
    {
     "data": {
      "text/html": [
       "<div><style>\n",
       ".dataframe > thead > tr > th,\n",
       ".dataframe > tbody > tr > td {\n",
       "  text-align: right;\n",
       "}\n",
       "</style>\n",
       "<small>shape: (33, 9)</small><table border=\"1\" class=\"dataframe\"><thead><tr><th>Name</th><th>Alignment</th><th>Intelligence</th><th>Strength</th><th>Speed</th><th>Durability</th><th>Power</th><th>Combat</th><th>Total</th></tr><tr><td>str</td><td>str</td><td>i64</td><td>i64</td><td>i64</td><td>i64</td><td>i64</td><td>i64</td><td>i64</td></tr></thead><tbody><tr><td>&quot;Beta Ray Bill&quot;</td><td>&quot;good&quot;</td><td>63</td><td>80</td><td>35</td><td>95</td><td>100</td><td>84</td><td>457</td></tr><tr><td>&quot;Beyonder&quot;</td><td>&quot;good&quot;</td><td>88</td><td>100</td><td>23</td><td>100</td><td>100</td><td>56</td><td>467</td></tr><tr><td>&quot;Black Bolt&quot;</td><td>&quot;good&quot;</td><td>75</td><td>67</td><td>100</td><td>84</td><td>100</td><td>56</td><td>482</td></tr><tr><td>&quot;Cable&quot;</td><td>&quot;good&quot;</td><td>88</td><td>48</td><td>23</td><td>56</td><td>100</td><td>80</td><td>395</td></tr><tr><td>&quot;Deadman&quot;</td><td>&quot;good&quot;</td><td>50</td><td>10</td><td>33</td><td>100</td><td>100</td><td>42</td><td>335</td></tr><tr><td>&quot;Doctor Fate&quot;</td><td>&quot;good&quot;</td><td>81</td><td>16</td><td>25</td><td>80</td><td>100</td><td>50</td><td>352</td></tr><tr><td>&quot;Doctor Strange…</td><td>&quot;good&quot;</td><td>100</td><td>10</td><td>12</td><td>84</td><td>100</td><td>60</td><td>366</td></tr><tr><td>&quot;Dr Manhattan&quot;</td><td>&quot;good&quot;</td><td>88</td><td>32</td><td>42</td><td>95</td><td>100</td><td>42</td><td>399</td></tr><tr><td>&quot;Firestorm&quot;</td><td>&quot;good&quot;</td><td>50</td><td>53</td><td>58</td><td>56</td><td>100</td><td>42</td><td>359</td></tr><tr><td>&quot;Goku&quot;</td><td>&quot;good&quot;</td><td>56</td><td>100</td><td>75</td><td>90</td><td>100</td><td>100</td><td>521</td></tr><tr><td>&quot;Hal Jordan&quot;</td><td>&quot;good&quot;</td><td>63</td><td>90</td><td>53</td><td>64</td><td>100</td><td>56</td><td>426</td></tr><tr><td>&quot;Iceman&quot;</td><td>&quot;good&quot;</td><td>63</td><td>32</td><td>53</td><td>100</td><td>100</td><td>64</td><td>412</td></tr><tr><td>&hellip;</td><td>&hellip;</td><td>&hellip;</td><td>&hellip;</td><td>&hellip;</td><td>&hellip;</td><td>&hellip;</td><td>&hellip;</td><td>&hellip;</td></tr><tr><td>&quot;Offspring&quot;</td><td>&quot;good&quot;</td><td>50</td><td>10</td><td>35</td><td>99</td><td>100</td><td>56</td><td>350</td></tr><tr><td>&quot;Phoenix&quot;</td><td>&quot;good&quot;</td><td>100</td><td>80</td><td>67</td><td>100</td><td>100</td><td>70</td><td>517</td></tr><tr><td>&quot;Plastic Man&quot;</td><td>&quot;good&quot;</td><td>50</td><td>63</td><td>23</td><td>100</td><td>100</td><td>56</td><td>392</td></tr><tr><td>&quot;Shadow King&quot;</td><td>&quot;good&quot;</td><td>75</td><td>12</td><td>27</td><td>100</td><td>100</td><td>75</td><td>389</td></tr><tr><td>&quot;Silver Surfer&quot;</td><td>&quot;good&quot;</td><td>63</td><td>100</td><td>84</td><td>101</td><td>100</td><td>32</td><td>480</td></tr><tr><td>&quot;Spawn&quot;</td><td>&quot;good&quot;</td><td>75</td><td>60</td><td>50</td><td>90</td><td>100</td><td>95</td><td>470</td></tr><tr><td>&quot;Stardust&quot;</td><td>&quot;good&quot;</td><td>88</td><td>85</td><td>100</td><td>110</td><td>100</td><td>85</td><td>568</td></tr><tr><td>&quot;Thor&quot;</td><td>&quot;good&quot;</td><td>69</td><td>100</td><td>92</td><td>100</td><td>100</td><td>85</td><td>546</td></tr><tr><td>&quot;Thor Girl&quot;</td><td>&quot;good&quot;</td><td>75</td><td>83</td><td>70</td><td>84</td><td>100</td><td>70</td><td>482</td></tr><tr><td>&quot;War Machine&quot;</td><td>&quot;good&quot;</td><td>63</td><td>80</td><td>63</td><td>100</td><td>100</td><td>85</td><td>491</td></tr><tr><td>&quot;Watcher&quot;</td><td>&quot;good&quot;</td><td>100</td><td>80</td><td>67</td><td>89</td><td>100</td><td>56</td><td>492</td></tr><tr><td>&quot;Zatanna&quot;</td><td>&quot;good&quot;</td><td>75</td><td>10</td><td>23</td><td>28</td><td>100</td><td>56</td><td>292</td></tr></tbody></table></div>"
      ],
      "text/plain": [
       "shape: (33, 9)\n",
       "┌───────────────┬───────────┬──────────────┬──────────┬───┬────────────┬───────┬────────┬───────┐\n",
       "│ Name          ┆ Alignment ┆ Intelligence ┆ Strength ┆ … ┆ Durability ┆ Power ┆ Combat ┆ Total │\n",
       "│ ---           ┆ ---       ┆ ---          ┆ ---      ┆   ┆ ---        ┆ ---   ┆ ---    ┆ ---   │\n",
       "│ str           ┆ str       ┆ i64          ┆ i64      ┆   ┆ i64        ┆ i64   ┆ i64    ┆ i64   │\n",
       "╞═══════════════╪═══════════╪══════════════╪══════════╪═══╪════════════╪═══════╪════════╪═══════╡\n",
       "│ Beta Ray Bill ┆ good      ┆ 63           ┆ 80       ┆ … ┆ 95         ┆ 100   ┆ 84     ┆ 457   │\n",
       "│ Beyonder      ┆ good      ┆ 88           ┆ 100      ┆ … ┆ 100        ┆ 100   ┆ 56     ┆ 467   │\n",
       "│ Black Bolt    ┆ good      ┆ 75           ┆ 67       ┆ … ┆ 84         ┆ 100   ┆ 56     ┆ 482   │\n",
       "│ Cable         ┆ good      ┆ 88           ┆ 48       ┆ … ┆ 56         ┆ 100   ┆ 80     ┆ 395   │\n",
       "│ …             ┆ …         ┆ …            ┆ …        ┆ … ┆ …          ┆ …     ┆ …      ┆ …     │\n",
       "│ Thor Girl     ┆ good      ┆ 75           ┆ 83       ┆ … ┆ 84         ┆ 100   ┆ 70     ┆ 482   │\n",
       "│ War Machine   ┆ good      ┆ 63           ┆ 80       ┆ … ┆ 100        ┆ 100   ┆ 85     ┆ 491   │\n",
       "│ Watcher       ┆ good      ┆ 100          ┆ 80       ┆ … ┆ 89         ┆ 100   ┆ 56     ┆ 492   │\n",
       "│ Zatanna       ┆ good      ┆ 75           ┆ 10       ┆ … ┆ 28         ┆ 100   ┆ 56     ┆ 292   │\n",
       "└───────────────┴───────────┴──────────────┴──────────┴───┴────────────┴───────┴────────┴───────┘"
      ]
     },
     "execution_count": 11,
     "metadata": {},
     "output_type": "execute_result"
    }
   ],
   "source": [
    "good_guys_power_100 = good_guys_power.filter(good_guys_power['Power'] == 100)\n",
    "print(f'There are {good_guys_power_100.shape[0]} with a 100 Power stat')\n",
    "good_guys_power_100"
   ]
  },
  {
   "attachments": {},
   "cell_type": "markdown",
   "metadata": {},
   "source": [
    "13.\tRetrieve the first five records with max power and has good alignment"
   ]
  },
  {
   "cell_type": "code",
   "execution_count": 12,
   "metadata": {},
   "outputs": [
    {
     "data": {
      "text/html": [
       "<div><style>\n",
       ".dataframe > thead > tr > th,\n",
       ".dataframe > tbody > tr > td {\n",
       "  text-align: right;\n",
       "}\n",
       "</style>\n",
       "<small>shape: (5, 9)</small><table border=\"1\" class=\"dataframe\"><thead><tr><th>Name</th><th>Alignment</th><th>Intelligence</th><th>Strength</th><th>Speed</th><th>Durability</th><th>Power</th><th>Combat</th><th>Total</th></tr><tr><td>str</td><td>str</td><td>i64</td><td>i64</td><td>i64</td><td>i64</td><td>i64</td><td>i64</td><td>i64</td></tr></thead><tbody><tr><td>&quot;Black Bolt&quot;</td><td>&quot;good&quot;</td><td>75</td><td>67</td><td>100</td><td>84</td><td>100</td><td>56</td><td>482</td></tr><tr><td>&quot;Beyonder&quot;</td><td>&quot;good&quot;</td><td>88</td><td>100</td><td>23</td><td>100</td><td>100</td><td>56</td><td>467</td></tr><tr><td>&quot;Beta Ray Bill&quot;</td><td>&quot;good&quot;</td><td>63</td><td>80</td><td>35</td><td>95</td><td>100</td><td>84</td><td>457</td></tr><tr><td>&quot;Cable&quot;</td><td>&quot;good&quot;</td><td>88</td><td>48</td><td>23</td><td>56</td><td>100</td><td>80</td><td>395</td></tr><tr><td>&quot;Deadman&quot;</td><td>&quot;good&quot;</td><td>50</td><td>10</td><td>33</td><td>100</td><td>100</td><td>42</td><td>335</td></tr></tbody></table></div>"
      ],
      "text/plain": [
       "shape: (5, 9)\n",
       "┌───────────────┬───────────┬──────────────┬──────────┬───┬────────────┬───────┬────────┬───────┐\n",
       "│ Name          ┆ Alignment ┆ Intelligence ┆ Strength ┆ … ┆ Durability ┆ Power ┆ Combat ┆ Total │\n",
       "│ ---           ┆ ---       ┆ ---          ┆ ---      ┆   ┆ ---        ┆ ---   ┆ ---    ┆ ---   │\n",
       "│ str           ┆ str       ┆ i64          ┆ i64      ┆   ┆ i64        ┆ i64   ┆ i64    ┆ i64   │\n",
       "╞═══════════════╪═══════════╪══════════════╪══════════╪═══╪════════════╪═══════╪════════╪═══════╡\n",
       "│ Black Bolt    ┆ good      ┆ 75           ┆ 67       ┆ … ┆ 84         ┆ 100   ┆ 56     ┆ 482   │\n",
       "│ Beyonder      ┆ good      ┆ 88           ┆ 100      ┆ … ┆ 100        ┆ 100   ┆ 56     ┆ 467   │\n",
       "│ Beta Ray Bill ┆ good      ┆ 63           ┆ 80       ┆ … ┆ 95         ┆ 100   ┆ 84     ┆ 457   │\n",
       "│ Cable         ┆ good      ┆ 88           ┆ 48       ┆ … ┆ 56         ┆ 100   ┆ 80     ┆ 395   │\n",
       "│ Deadman       ┆ good      ┆ 50           ┆ 10       ┆ … ┆ 100        ┆ 100   ┆ 42     ┆ 335   │\n",
       "└───────────────┴───────────┴──────────────┴──────────┴───┴────────────┴───────┴────────┴───────┘"
      ]
     },
     "execution_count": 12,
     "metadata": {},
     "output_type": "execute_result"
    }
   ],
   "source": [
    "good_power_100_5 = good_guys_power_100.head(5).sort(by='Total', descending=True)\n",
    "good_power_100_5"
   ]
  },
  {
   "attachments": {},
   "cell_type": "markdown",
   "metadata": {},
   "source": [
    "14.\tDraw a bar plot of all superheroes who are having good alignment and a max power of the top five heroes only , take the same object of point 13, show name and total in plot with green bars"
   ]
  },
  {
   "cell_type": "code",
   "execution_count": 13,
   "metadata": {},
   "outputs": [
    {
     "data": {
      "application/vnd.plotly.v1+json": {
       "config": {
        "plotlyServerURL": "https://plot.ly"
       },
       "data": [
        {
         "alignmentgroup": "True",
         "hovertemplate": "Name=%{x}<br>Total=%{y}<extra></extra>",
         "legendgroup": "",
         "marker": {
          "color": "green",
          "pattern": {
           "shape": ""
          }
         },
         "name": "",
         "offsetgroup": "",
         "orientation": "v",
         "showlegend": false,
         "textposition": "outside",
         "texttemplate": "%{y}",
         "type": "bar",
         "x": [
          "Black Bolt",
          "Beyonder",
          "Beta Ray Bill",
          "Cable",
          "Deadman"
         ],
         "xaxis": "x",
         "y": [
          482,
          467,
          457,
          395,
          335
         ],
         "yaxis": "y"
        }
       ],
       "layout": {
        "barmode": "relative",
        "legend": {
         "tracegroupgap": 0
        },
        "margin": {
         "t": 60
        },
        "template": {
         "data": {
          "bar": [
           {
            "error_x": {
             "color": "#2a3f5f"
            },
            "error_y": {
             "color": "#2a3f5f"
            },
            "marker": {
             "line": {
              "color": "#E5ECF6",
              "width": 0.5
             },
             "pattern": {
              "fillmode": "overlay",
              "size": 10,
              "solidity": 0.2
             }
            },
            "type": "bar"
           }
          ],
          "barpolar": [
           {
            "marker": {
             "line": {
              "color": "#E5ECF6",
              "width": 0.5
             },
             "pattern": {
              "fillmode": "overlay",
              "size": 10,
              "solidity": 0.2
             }
            },
            "type": "barpolar"
           }
          ],
          "carpet": [
           {
            "aaxis": {
             "endlinecolor": "#2a3f5f",
             "gridcolor": "white",
             "linecolor": "white",
             "minorgridcolor": "white",
             "startlinecolor": "#2a3f5f"
            },
            "baxis": {
             "endlinecolor": "#2a3f5f",
             "gridcolor": "white",
             "linecolor": "white",
             "minorgridcolor": "white",
             "startlinecolor": "#2a3f5f"
            },
            "type": "carpet"
           }
          ],
          "choropleth": [
           {
            "colorbar": {
             "outlinewidth": 0,
             "ticks": ""
            },
            "type": "choropleth"
           }
          ],
          "contour": [
           {
            "colorbar": {
             "outlinewidth": 0,
             "ticks": ""
            },
            "colorscale": [
             [
              0,
              "#0d0887"
             ],
             [
              0.1111111111111111,
              "#46039f"
             ],
             [
              0.2222222222222222,
              "#7201a8"
             ],
             [
              0.3333333333333333,
              "#9c179e"
             ],
             [
              0.4444444444444444,
              "#bd3786"
             ],
             [
              0.5555555555555556,
              "#d8576b"
             ],
             [
              0.6666666666666666,
              "#ed7953"
             ],
             [
              0.7777777777777778,
              "#fb9f3a"
             ],
             [
              0.8888888888888888,
              "#fdca26"
             ],
             [
              1,
              "#f0f921"
             ]
            ],
            "type": "contour"
           }
          ],
          "contourcarpet": [
           {
            "colorbar": {
             "outlinewidth": 0,
             "ticks": ""
            },
            "type": "contourcarpet"
           }
          ],
          "heatmap": [
           {
            "colorbar": {
             "outlinewidth": 0,
             "ticks": ""
            },
            "colorscale": [
             [
              0,
              "#0d0887"
             ],
             [
              0.1111111111111111,
              "#46039f"
             ],
             [
              0.2222222222222222,
              "#7201a8"
             ],
             [
              0.3333333333333333,
              "#9c179e"
             ],
             [
              0.4444444444444444,
              "#bd3786"
             ],
             [
              0.5555555555555556,
              "#d8576b"
             ],
             [
              0.6666666666666666,
              "#ed7953"
             ],
             [
              0.7777777777777778,
              "#fb9f3a"
             ],
             [
              0.8888888888888888,
              "#fdca26"
             ],
             [
              1,
              "#f0f921"
             ]
            ],
            "type": "heatmap"
           }
          ],
          "heatmapgl": [
           {
            "colorbar": {
             "outlinewidth": 0,
             "ticks": ""
            },
            "colorscale": [
             [
              0,
              "#0d0887"
             ],
             [
              0.1111111111111111,
              "#46039f"
             ],
             [
              0.2222222222222222,
              "#7201a8"
             ],
             [
              0.3333333333333333,
              "#9c179e"
             ],
             [
              0.4444444444444444,
              "#bd3786"
             ],
             [
              0.5555555555555556,
              "#d8576b"
             ],
             [
              0.6666666666666666,
              "#ed7953"
             ],
             [
              0.7777777777777778,
              "#fb9f3a"
             ],
             [
              0.8888888888888888,
              "#fdca26"
             ],
             [
              1,
              "#f0f921"
             ]
            ],
            "type": "heatmapgl"
           }
          ],
          "histogram": [
           {
            "marker": {
             "pattern": {
              "fillmode": "overlay",
              "size": 10,
              "solidity": 0.2
             }
            },
            "type": "histogram"
           }
          ],
          "histogram2d": [
           {
            "colorbar": {
             "outlinewidth": 0,
             "ticks": ""
            },
            "colorscale": [
             [
              0,
              "#0d0887"
             ],
             [
              0.1111111111111111,
              "#46039f"
             ],
             [
              0.2222222222222222,
              "#7201a8"
             ],
             [
              0.3333333333333333,
              "#9c179e"
             ],
             [
              0.4444444444444444,
              "#bd3786"
             ],
             [
              0.5555555555555556,
              "#d8576b"
             ],
             [
              0.6666666666666666,
              "#ed7953"
             ],
             [
              0.7777777777777778,
              "#fb9f3a"
             ],
             [
              0.8888888888888888,
              "#fdca26"
             ],
             [
              1,
              "#f0f921"
             ]
            ],
            "type": "histogram2d"
           }
          ],
          "histogram2dcontour": [
           {
            "colorbar": {
             "outlinewidth": 0,
             "ticks": ""
            },
            "colorscale": [
             [
              0,
              "#0d0887"
             ],
             [
              0.1111111111111111,
              "#46039f"
             ],
             [
              0.2222222222222222,
              "#7201a8"
             ],
             [
              0.3333333333333333,
              "#9c179e"
             ],
             [
              0.4444444444444444,
              "#bd3786"
             ],
             [
              0.5555555555555556,
              "#d8576b"
             ],
             [
              0.6666666666666666,
              "#ed7953"
             ],
             [
              0.7777777777777778,
              "#fb9f3a"
             ],
             [
              0.8888888888888888,
              "#fdca26"
             ],
             [
              1,
              "#f0f921"
             ]
            ],
            "type": "histogram2dcontour"
           }
          ],
          "mesh3d": [
           {
            "colorbar": {
             "outlinewidth": 0,
             "ticks": ""
            },
            "type": "mesh3d"
           }
          ],
          "parcoords": [
           {
            "line": {
             "colorbar": {
              "outlinewidth": 0,
              "ticks": ""
             }
            },
            "type": "parcoords"
           }
          ],
          "pie": [
           {
            "automargin": true,
            "type": "pie"
           }
          ],
          "scatter": [
           {
            "fillpattern": {
             "fillmode": "overlay",
             "size": 10,
             "solidity": 0.2
            },
            "type": "scatter"
           }
          ],
          "scatter3d": [
           {
            "line": {
             "colorbar": {
              "outlinewidth": 0,
              "ticks": ""
             }
            },
            "marker": {
             "colorbar": {
              "outlinewidth": 0,
              "ticks": ""
             }
            },
            "type": "scatter3d"
           }
          ],
          "scattercarpet": [
           {
            "marker": {
             "colorbar": {
              "outlinewidth": 0,
              "ticks": ""
             }
            },
            "type": "scattercarpet"
           }
          ],
          "scattergeo": [
           {
            "marker": {
             "colorbar": {
              "outlinewidth": 0,
              "ticks": ""
             }
            },
            "type": "scattergeo"
           }
          ],
          "scattergl": [
           {
            "marker": {
             "colorbar": {
              "outlinewidth": 0,
              "ticks": ""
             }
            },
            "type": "scattergl"
           }
          ],
          "scattermapbox": [
           {
            "marker": {
             "colorbar": {
              "outlinewidth": 0,
              "ticks": ""
             }
            },
            "type": "scattermapbox"
           }
          ],
          "scatterpolar": [
           {
            "marker": {
             "colorbar": {
              "outlinewidth": 0,
              "ticks": ""
             }
            },
            "type": "scatterpolar"
           }
          ],
          "scatterpolargl": [
           {
            "marker": {
             "colorbar": {
              "outlinewidth": 0,
              "ticks": ""
             }
            },
            "type": "scatterpolargl"
           }
          ],
          "scatterternary": [
           {
            "marker": {
             "colorbar": {
              "outlinewidth": 0,
              "ticks": ""
             }
            },
            "type": "scatterternary"
           }
          ],
          "surface": [
           {
            "colorbar": {
             "outlinewidth": 0,
             "ticks": ""
            },
            "colorscale": [
             [
              0,
              "#0d0887"
             ],
             [
              0.1111111111111111,
              "#46039f"
             ],
             [
              0.2222222222222222,
              "#7201a8"
             ],
             [
              0.3333333333333333,
              "#9c179e"
             ],
             [
              0.4444444444444444,
              "#bd3786"
             ],
             [
              0.5555555555555556,
              "#d8576b"
             ],
             [
              0.6666666666666666,
              "#ed7953"
             ],
             [
              0.7777777777777778,
              "#fb9f3a"
             ],
             [
              0.8888888888888888,
              "#fdca26"
             ],
             [
              1,
              "#f0f921"
             ]
            ],
            "type": "surface"
           }
          ],
          "table": [
           {
            "cells": {
             "fill": {
              "color": "#EBF0F8"
             },
             "line": {
              "color": "white"
             }
            },
            "header": {
             "fill": {
              "color": "#C8D4E3"
             },
             "line": {
              "color": "white"
             }
            },
            "type": "table"
           }
          ]
         },
         "layout": {
          "annotationdefaults": {
           "arrowcolor": "#2a3f5f",
           "arrowhead": 0,
           "arrowwidth": 1
          },
          "autotypenumbers": "strict",
          "coloraxis": {
           "colorbar": {
            "outlinewidth": 0,
            "ticks": ""
           }
          },
          "colorscale": {
           "diverging": [
            [
             0,
             "#8e0152"
            ],
            [
             0.1,
             "#c51b7d"
            ],
            [
             0.2,
             "#de77ae"
            ],
            [
             0.3,
             "#f1b6da"
            ],
            [
             0.4,
             "#fde0ef"
            ],
            [
             0.5,
             "#f7f7f7"
            ],
            [
             0.6,
             "#e6f5d0"
            ],
            [
             0.7,
             "#b8e186"
            ],
            [
             0.8,
             "#7fbc41"
            ],
            [
             0.9,
             "#4d9221"
            ],
            [
             1,
             "#276419"
            ]
           ],
           "sequential": [
            [
             0,
             "#0d0887"
            ],
            [
             0.1111111111111111,
             "#46039f"
            ],
            [
             0.2222222222222222,
             "#7201a8"
            ],
            [
             0.3333333333333333,
             "#9c179e"
            ],
            [
             0.4444444444444444,
             "#bd3786"
            ],
            [
             0.5555555555555556,
             "#d8576b"
            ],
            [
             0.6666666666666666,
             "#ed7953"
            ],
            [
             0.7777777777777778,
             "#fb9f3a"
            ],
            [
             0.8888888888888888,
             "#fdca26"
            ],
            [
             1,
             "#f0f921"
            ]
           ],
           "sequentialminus": [
            [
             0,
             "#0d0887"
            ],
            [
             0.1111111111111111,
             "#46039f"
            ],
            [
             0.2222222222222222,
             "#7201a8"
            ],
            [
             0.3333333333333333,
             "#9c179e"
            ],
            [
             0.4444444444444444,
             "#bd3786"
            ],
            [
             0.5555555555555556,
             "#d8576b"
            ],
            [
             0.6666666666666666,
             "#ed7953"
            ],
            [
             0.7777777777777778,
             "#fb9f3a"
            ],
            [
             0.8888888888888888,
             "#fdca26"
            ],
            [
             1,
             "#f0f921"
            ]
           ]
          },
          "colorway": [
           "#636efa",
           "#EF553B",
           "#00cc96",
           "#ab63fa",
           "#FFA15A",
           "#19d3f3",
           "#FF6692",
           "#B6E880",
           "#FF97FF",
           "#FECB52"
          ],
          "font": {
           "color": "#2a3f5f"
          },
          "geo": {
           "bgcolor": "white",
           "lakecolor": "white",
           "landcolor": "#E5ECF6",
           "showlakes": true,
           "showland": true,
           "subunitcolor": "white"
          },
          "hoverlabel": {
           "align": "left"
          },
          "hovermode": "closest",
          "mapbox": {
           "style": "light"
          },
          "paper_bgcolor": "white",
          "plot_bgcolor": "#E5ECF6",
          "polar": {
           "angularaxis": {
            "gridcolor": "white",
            "linecolor": "white",
            "ticks": ""
           },
           "bgcolor": "#E5ECF6",
           "radialaxis": {
            "gridcolor": "white",
            "linecolor": "white",
            "ticks": ""
           }
          },
          "scene": {
           "xaxis": {
            "backgroundcolor": "#E5ECF6",
            "gridcolor": "white",
            "gridwidth": 2,
            "linecolor": "white",
            "showbackground": true,
            "ticks": "",
            "zerolinecolor": "white"
           },
           "yaxis": {
            "backgroundcolor": "#E5ECF6",
            "gridcolor": "white",
            "gridwidth": 2,
            "linecolor": "white",
            "showbackground": true,
            "ticks": "",
            "zerolinecolor": "white"
           },
           "zaxis": {
            "backgroundcolor": "#E5ECF6",
            "gridcolor": "white",
            "gridwidth": 2,
            "linecolor": "white",
            "showbackground": true,
            "ticks": "",
            "zerolinecolor": "white"
           }
          },
          "shapedefaults": {
           "line": {
            "color": "#2a3f5f"
           }
          },
          "ternary": {
           "aaxis": {
            "gridcolor": "white",
            "linecolor": "white",
            "ticks": ""
           },
           "baxis": {
            "gridcolor": "white",
            "linecolor": "white",
            "ticks": ""
           },
           "bgcolor": "#E5ECF6",
           "caxis": {
            "gridcolor": "white",
            "linecolor": "white",
            "ticks": ""
           }
          },
          "title": {
           "x": 0.05
          },
          "xaxis": {
           "automargin": true,
           "gridcolor": "white",
           "linecolor": "white",
           "ticks": "",
           "title": {
            "standoff": 15
           },
           "zerolinecolor": "white",
           "zerolinewidth": 2
          },
          "yaxis": {
           "automargin": true,
           "gridcolor": "white",
           "linecolor": "white",
           "ticks": "",
           "title": {
            "standoff": 15
           },
           "zerolinecolor": "white",
           "zerolinewidth": 2
          }
         }
        },
        "xaxis": {
         "anchor": "y",
         "domain": [
          0,
          1
         ],
         "title": {
          "text": "Name"
         }
        },
        "yaxis": {
         "anchor": "x",
         "domain": [
          0,
          1
         ],
         "title": {
          "text": "Total"
         }
        }
       }
      }
     },
     "metadata": {},
     "output_type": "display_data"
    }
   ],
   "source": [
    "fig = px.bar(\n",
    "    x=good_power_100_5['Name'],\n",
    "    y=good_power_100_5['Total'],\n",
    "    color_discrete_sequence=['green'],\n",
    "    labels= {\n",
    "        \"x\" : 'Name',\n",
    "        'y' : 'Total'\n",
    "    },\n",
    "    text_auto= True\n",
    "    )\n",
    "fig.update_traces(textposition=\"outside\")"
   ]
  },
  {
   "attachments": {},
   "cell_type": "markdown",
   "metadata": {},
   "source": [
    "15.\tExtract villains who having a bad alignment"
   ]
  },
  {
   "cell_type": "code",
   "execution_count": 14,
   "metadata": {},
   "outputs": [
    {
     "data": {
      "text/html": [
       "<div><style>\n",
       ".dataframe > thead > tr > th,\n",
       ".dataframe > tbody > tr > td {\n",
       "  text-align: right;\n",
       "}\n",
       "</style>\n",
       "<small>shape: (122, 9)</small><table border=\"1\" class=\"dataframe\"><thead><tr><th>Name</th><th>Alignment</th><th>Intelligence</th><th>Strength</th><th>Speed</th><th>Durability</th><th>Power</th><th>Combat</th><th>Total</th></tr><tr><td>str</td><td>str</td><td>i64</td><td>i64</td><td>i64</td><td>i64</td><td>i64</td><td>i64</td><td>i64</td></tr></thead><tbody><tr><td>&quot;Abomination&quot;</td><td>&quot;bad&quot;</td><td>63</td><td>80</td><td>53</td><td>90</td><td>55</td><td>95</td><td>436</td></tr><tr><td>&quot;Abraxas&quot;</td><td>&quot;bad&quot;</td><td>88</td><td>100</td><td>83</td><td>99</td><td>100</td><td>56</td><td>526</td></tr><tr><td>&quot;Air-Walker&quot;</td><td>&quot;bad&quot;</td><td>50</td><td>85</td><td>100</td><td>85</td><td>100</td><td>40</td><td>460</td></tr><tr><td>&quot;Amazo&quot;</td><td>&quot;bad&quot;</td><td>75</td><td>100</td><td>100</td><td>100</td><td>100</td><td>100</td><td>575</td></tr><tr><td>&quot;Annihilus&quot;</td><td>&quot;bad&quot;</td><td>75</td><td>80</td><td>47</td><td>56</td><td>59</td><td>64</td><td>381</td></tr><tr><td>&quot;Anti-Monitor&quot;</td><td>&quot;bad&quot;</td><td>88</td><td>90</td><td>38</td><td>90</td><td>100</td><td>90</td><td>496</td></tr><tr><td>&quot;Apocalypse&quot;</td><td>&quot;bad&quot;</td><td>100</td><td>100</td><td>33</td><td>100</td><td>100</td><td>60</td><td>493</td></tr><tr><td>&quot;Arclight&quot;</td><td>&quot;bad&quot;</td><td>38</td><td>63</td><td>23</td><td>42</td><td>52</td><td>70</td><td>288</td></tr><tr><td>&quot;Azazel&quot;</td><td>&quot;bad&quot;</td><td>50</td><td>11</td><td>47</td><td>95</td><td>87</td><td>80</td><td>370</td></tr><tr><td>&quot;Bane&quot;</td><td>&quot;bad&quot;</td><td>88</td><td>53</td><td>23</td><td>56</td><td>51</td><td>95</td><td>366</td></tr><tr><td>&quot;Big Man&quot;</td><td>&quot;bad&quot;</td><td>75</td><td>12</td><td>23</td><td>28</td><td>19</td><td>70</td><td>227</td></tr><tr><td>&quot;Black Adam&quot;</td><td>&quot;bad&quot;</td><td>88</td><td>100</td><td>92</td><td>100</td><td>89</td><td>56</td><td>525</td></tr><tr><td>&hellip;</td><td>&hellip;</td><td>&hellip;</td><td>&hellip;</td><td>&hellip;</td><td>&hellip;</td><td>&hellip;</td><td>&hellip;</td><td>&hellip;</td></tr><tr><td>&quot;Two-Face&quot;</td><td>&quot;bad&quot;</td><td>88</td><td>10</td><td>12</td><td>14</td><td>9</td><td>28</td><td>161</td></tr><tr><td>&quot;Ultron&quot;</td><td>&quot;bad&quot;</td><td>88</td><td>83</td><td>42</td><td>100</td><td>100</td><td>64</td><td>477</td></tr><tr><td>&quot;Utgard-Loki&quot;</td><td>&quot;bad&quot;</td><td>50</td><td>80</td><td>23</td><td>84</td><td>72</td><td>64</td><td>373</td></tr><tr><td>&quot;Vanisher&quot;</td><td>&quot;bad&quot;</td><td>63</td><td>10</td><td>75</td><td>56</td><td>39</td><td>42</td><td>285</td></tr><tr><td>&quot;Venom&quot;</td><td>&quot;bad&quot;</td><td>75</td><td>57</td><td>65</td><td>84</td><td>79</td><td>84</td><td>444</td></tr><tr><td>&quot;Venom II&quot;</td><td>&quot;bad&quot;</td><td>50</td><td>57</td><td>47</td><td>70</td><td>54</td><td>56</td><td>334</td></tr><tr><td>&quot;Venom III&quot;</td><td>&quot;bad&quot;</td><td>63</td><td>73</td><td>35</td><td>90</td><td>66</td><td>56</td><td>383</td></tr><tr><td>&quot;Vulture&quot;</td><td>&quot;bad&quot;</td><td>63</td><td>22</td><td>47</td><td>56</td><td>40</td><td>56</td><td>284</td></tr><tr><td>&quot;Walrus&quot;</td><td>&quot;bad&quot;</td><td>50</td><td>28</td><td>8</td><td>50</td><td>11</td><td>20</td><td>167</td></tr><tr><td>&quot;Warp&quot;</td><td>&quot;bad&quot;</td><td>38</td><td>10</td><td>23</td><td>28</td><td>63</td><td>50</td><td>212</td></tr><tr><td>&quot;Willis Stryker…</td><td>&quot;bad&quot;</td><td>38</td><td>16</td><td>23</td><td>28</td><td>41</td><td>60</td><td>206</td></tr><tr><td>&quot;Zoom&quot;</td><td>&quot;bad&quot;</td><td>50</td><td>10</td><td>100</td><td>28</td><td>72</td><td>28</td><td>288</td></tr></tbody></table></div>"
      ],
      "text/plain": [
       "shape: (122, 9)\n",
       "┌────────────────┬───────────┬──────────────┬──────────┬───┬────────────┬───────┬────────┬───────┐\n",
       "│ Name           ┆ Alignment ┆ Intelligence ┆ Strength ┆ … ┆ Durability ┆ Power ┆ Combat ┆ Total │\n",
       "│ ---            ┆ ---       ┆ ---          ┆ ---      ┆   ┆ ---        ┆ ---   ┆ ---    ┆ ---   │\n",
       "│ str            ┆ str       ┆ i64          ┆ i64      ┆   ┆ i64        ┆ i64   ┆ i64    ┆ i64   │\n",
       "╞════════════════╪═══════════╪══════════════╪══════════╪═══╪════════════╪═══════╪════════╪═══════╡\n",
       "│ Abomination    ┆ bad       ┆ 63           ┆ 80       ┆ … ┆ 90         ┆ 55    ┆ 95     ┆ 436   │\n",
       "│ Abraxas        ┆ bad       ┆ 88           ┆ 100      ┆ … ┆ 99         ┆ 100   ┆ 56     ┆ 526   │\n",
       "│ Air-Walker     ┆ bad       ┆ 50           ┆ 85       ┆ … ┆ 85         ┆ 100   ┆ 40     ┆ 460   │\n",
       "│ Amazo          ┆ bad       ┆ 75           ┆ 100      ┆ … ┆ 100        ┆ 100   ┆ 100    ┆ 575   │\n",
       "│ …              ┆ …         ┆ …            ┆ …        ┆ … ┆ …          ┆ …     ┆ …      ┆ …     │\n",
       "│ Walrus         ┆ bad       ┆ 50           ┆ 28       ┆ … ┆ 50         ┆ 11    ┆ 20     ┆ 167   │\n",
       "│ Warp           ┆ bad       ┆ 38           ┆ 10       ┆ … ┆ 28         ┆ 63    ┆ 50     ┆ 212   │\n",
       "│ Willis Stryker ┆ bad       ┆ 38           ┆ 16       ┆ … ┆ 28         ┆ 41    ┆ 60     ┆ 206   │\n",
       "│ Zoom           ┆ bad       ┆ 50           ┆ 10       ┆ … ┆ 28         ┆ 72    ┆ 28     ┆ 288   │\n",
       "└────────────────┴───────────┴──────────────┴──────────┴───┴────────────┴───────┴────────┴───────┘"
      ]
     },
     "execution_count": 14,
     "metadata": {},
     "output_type": "execute_result"
    }
   ],
   "source": [
    "vil = data.filter(data['Alignment'] == 'bad')\n",
    "vil"
   ]
  },
  {
   "attachments": {},
   "cell_type": "markdown",
   "metadata": {},
   "source": [
    "16.\tShow first five records of point 15"
   ]
  },
  {
   "cell_type": "code",
   "execution_count": 15,
   "metadata": {},
   "outputs": [
    {
     "data": {
      "text/html": [
       "<div><style>\n",
       ".dataframe > thead > tr > th,\n",
       ".dataframe > tbody > tr > td {\n",
       "  text-align: right;\n",
       "}\n",
       "</style>\n",
       "<small>shape: (5, 9)</small><table border=\"1\" class=\"dataframe\"><thead><tr><th>Name</th><th>Alignment</th><th>Intelligence</th><th>Strength</th><th>Speed</th><th>Durability</th><th>Power</th><th>Combat</th><th>Total</th></tr><tr><td>str</td><td>str</td><td>i64</td><td>i64</td><td>i64</td><td>i64</td><td>i64</td><td>i64</td><td>i64</td></tr></thead><tbody><tr><td>&quot;Abomination&quot;</td><td>&quot;bad&quot;</td><td>63</td><td>80</td><td>53</td><td>90</td><td>55</td><td>95</td><td>436</td></tr><tr><td>&quot;Abraxas&quot;</td><td>&quot;bad&quot;</td><td>88</td><td>100</td><td>83</td><td>99</td><td>100</td><td>56</td><td>526</td></tr><tr><td>&quot;Air-Walker&quot;</td><td>&quot;bad&quot;</td><td>50</td><td>85</td><td>100</td><td>85</td><td>100</td><td>40</td><td>460</td></tr><tr><td>&quot;Amazo&quot;</td><td>&quot;bad&quot;</td><td>75</td><td>100</td><td>100</td><td>100</td><td>100</td><td>100</td><td>575</td></tr><tr><td>&quot;Annihilus&quot;</td><td>&quot;bad&quot;</td><td>75</td><td>80</td><td>47</td><td>56</td><td>59</td><td>64</td><td>381</td></tr></tbody></table></div>"
      ],
      "text/plain": [
       "shape: (5, 9)\n",
       "┌─────────────┬───────────┬──────────────┬──────────┬───┬────────────┬───────┬────────┬───────┐\n",
       "│ Name        ┆ Alignment ┆ Intelligence ┆ Strength ┆ … ┆ Durability ┆ Power ┆ Combat ┆ Total │\n",
       "│ ---         ┆ ---       ┆ ---          ┆ ---      ┆   ┆ ---        ┆ ---   ┆ ---    ┆ ---   │\n",
       "│ str         ┆ str       ┆ i64          ┆ i64      ┆   ┆ i64        ┆ i64   ┆ i64    ┆ i64   │\n",
       "╞═════════════╪═══════════╪══════════════╪══════════╪═══╪════════════╪═══════╪════════╪═══════╡\n",
       "│ Abomination ┆ bad       ┆ 63           ┆ 80       ┆ … ┆ 90         ┆ 55    ┆ 95     ┆ 436   │\n",
       "│ Abraxas     ┆ bad       ┆ 88           ┆ 100      ┆ … ┆ 99         ┆ 100   ┆ 56     ┆ 526   │\n",
       "│ Air-Walker  ┆ bad       ┆ 50           ┆ 85       ┆ … ┆ 85         ┆ 100   ┆ 40     ┆ 460   │\n",
       "│ Amazo       ┆ bad       ┆ 75           ┆ 100      ┆ … ┆ 100        ┆ 100   ┆ 100    ┆ 575   │\n",
       "│ Annihilus   ┆ bad       ┆ 75           ┆ 80       ┆ … ┆ 56         ┆ 59    ┆ 64     ┆ 381   │\n",
       "└─────────────┴───────────┴──────────────┴──────────┴───┴────────────┴───────┴────────┴───────┘"
      ]
     },
     "execution_count": 15,
     "metadata": {},
     "output_type": "execute_result"
    }
   ],
   "source": [
    "vil.head(5)"
   ]
  },
  {
   "attachments": {},
   "cell_type": "markdown",
   "metadata": {},
   "source": [
    "17.\tShow top five fastest super villains in terms of super speed"
   ]
  },
  {
   "cell_type": "code",
   "execution_count": 16,
   "metadata": {},
   "outputs": [
    {
     "data": {
      "text/html": [
       "<div><style>\n",
       ".dataframe > thead > tr > th,\n",
       ".dataframe > tbody > tr > td {\n",
       "  text-align: right;\n",
       "}\n",
       "</style>\n",
       "<small>shape: (5, 9)</small><table border=\"1\" class=\"dataframe\"><thead><tr><th>Name</th><th>Alignment</th><th>Intelligence</th><th>Strength</th><th>Speed</th><th>Durability</th><th>Power</th><th>Combat</th><th>Total</th></tr><tr><td>str</td><td>str</td><td>i64</td><td>i64</td><td>i64</td><td>i64</td><td>i64</td><td>i64</td><td>i64</td></tr></thead><tbody><tr><td>&quot;Air-Walker&quot;</td><td>&quot;bad&quot;</td><td>50</td><td>85</td><td>100</td><td>85</td><td>100</td><td>40</td><td>460</td></tr><tr><td>&quot;Amazo&quot;</td><td>&quot;bad&quot;</td><td>75</td><td>100</td><td>100</td><td>100</td><td>100</td><td>100</td><td>575</td></tr><tr><td>&quot;Superboy-Prime…</td><td>&quot;bad&quot;</td><td>94</td><td>100</td><td>100</td><td>100</td><td>100</td><td>85</td><td>579</td></tr><tr><td>&quot;Zoom&quot;</td><td>&quot;bad&quot;</td><td>50</td><td>10</td><td>100</td><td>28</td><td>72</td><td>28</td><td>288</td></tr><tr><td>&quot;General Zod&quot;</td><td>&quot;bad&quot;</td><td>94</td><td>100</td><td>96</td><td>100</td><td>94</td><td>95</td><td>579</td></tr></tbody></table></div>"
      ],
      "text/plain": [
       "shape: (5, 9)\n",
       "┌────────────────┬───────────┬──────────────┬──────────┬───┬────────────┬───────┬────────┬───────┐\n",
       "│ Name           ┆ Alignment ┆ Intelligence ┆ Strength ┆ … ┆ Durability ┆ Power ┆ Combat ┆ Total │\n",
       "│ ---            ┆ ---       ┆ ---          ┆ ---      ┆   ┆ ---        ┆ ---   ┆ ---    ┆ ---   │\n",
       "│ str            ┆ str       ┆ i64          ┆ i64      ┆   ┆ i64        ┆ i64   ┆ i64    ┆ i64   │\n",
       "╞════════════════╪═══════════╪══════════════╪══════════╪═══╪════════════╪═══════╪════════╪═══════╡\n",
       "│ Air-Walker     ┆ bad       ┆ 50           ┆ 85       ┆ … ┆ 85         ┆ 100   ┆ 40     ┆ 460   │\n",
       "│ Amazo          ┆ bad       ┆ 75           ┆ 100      ┆ … ┆ 100        ┆ 100   ┆ 100    ┆ 575   │\n",
       "│ Superboy-Prime ┆ bad       ┆ 94           ┆ 100      ┆ … ┆ 100        ┆ 100   ┆ 85     ┆ 579   │\n",
       "│ Zoom           ┆ bad       ┆ 50           ┆ 10       ┆ … ┆ 28         ┆ 72    ┆ 28     ┆ 288   │\n",
       "│ General Zod    ┆ bad       ┆ 94           ┆ 100      ┆ … ┆ 100        ┆ 94    ┆ 95     ┆ 579   │\n",
       "└────────────────┴───────────┴──────────────┴──────────┴───┴────────────┴───────┴────────┴───────┘"
      ]
     },
     "execution_count": 16,
     "metadata": {},
     "output_type": "execute_result"
    }
   ],
   "source": [
    "vil_speed = vil.sort(by='Speed', descending=True).head(5)\n",
    "vil_speed"
   ]
  },
  {
   "attachments": {},
   "cell_type": "markdown",
   "metadata": {},
   "source": [
    "18.\tTop five super villains in terms of intelligence"
   ]
  },
  {
   "cell_type": "code",
   "execution_count": 17,
   "metadata": {},
   "outputs": [
    {
     "data": {
      "text/html": [
       "<div><style>\n",
       ".dataframe > thead > tr > th,\n",
       ".dataframe > tbody > tr > td {\n",
       "  text-align: right;\n",
       "}\n",
       "</style>\n",
       "<small>shape: (5, 9)</small><table border=\"1\" class=\"dataframe\"><thead><tr><th>Name</th><th>Alignment</th><th>Intelligence</th><th>Strength</th><th>Speed</th><th>Durability</th><th>Power</th><th>Combat</th><th>Total</th></tr><tr><td>str</td><td>str</td><td>i64</td><td>i64</td><td>i64</td><td>i64</td><td>i64</td><td>i64</td><td>i64</td></tr></thead><tbody><tr><td>&quot;Mister Mxyzptl…</td><td>&quot;bad&quot;</td><td>113</td><td>10</td><td>12</td><td>14</td><td>100</td><td>28</td><td>277</td></tr><tr><td>&quot;Apocalypse&quot;</td><td>&quot;bad&quot;</td><td>100</td><td>100</td><td>33</td><td>100</td><td>100</td><td>60</td><td>493</td></tr><tr><td>&quot;Brainiac&quot;</td><td>&quot;bad&quot;</td><td>100</td><td>28</td><td>63</td><td>90</td><td>60</td><td>75</td><td>416</td></tr><tr><td>&quot;Doctor Doom&quot;</td><td>&quot;bad&quot;</td><td>100</td><td>32</td><td>20</td><td>100</td><td>93</td><td>84</td><td>429</td></tr><tr><td>&quot;Joker&quot;</td><td>&quot;bad&quot;</td><td>100</td><td>10</td><td>12</td><td>56</td><td>22</td><td>90</td><td>290</td></tr></tbody></table></div>"
      ],
      "text/plain": [
       "shape: (5, 9)\n",
       "┌─────────────────┬───────────┬──────────────┬──────────┬───┬────────────┬───────┬────────┬───────┐\n",
       "│ Name            ┆ Alignment ┆ Intelligence ┆ Strength ┆ … ┆ Durability ┆ Power ┆ Combat ┆ Total │\n",
       "│ ---             ┆ ---       ┆ ---          ┆ ---      ┆   ┆ ---        ┆ ---   ┆ ---    ┆ ---   │\n",
       "│ str             ┆ str       ┆ i64          ┆ i64      ┆   ┆ i64        ┆ i64   ┆ i64    ┆ i64   │\n",
       "╞═════════════════╪═══════════╪══════════════╪══════════╪═══╪════════════╪═══════╪════════╪═══════╡\n",
       "│ Mister Mxyzptlk ┆ bad       ┆ 113          ┆ 10       ┆ … ┆ 14         ┆ 100   ┆ 28     ┆ 277   │\n",
       "│ Apocalypse      ┆ bad       ┆ 100          ┆ 100      ┆ … ┆ 100        ┆ 100   ┆ 60     ┆ 493   │\n",
       "│ Brainiac        ┆ bad       ┆ 100          ┆ 28       ┆ … ┆ 90         ┆ 60    ┆ 75     ┆ 416   │\n",
       "│ Doctor Doom     ┆ bad       ┆ 100          ┆ 32       ┆ … ┆ 100        ┆ 93    ┆ 84     ┆ 429   │\n",
       "│ Joker           ┆ bad       ┆ 100          ┆ 10       ┆ … ┆ 56         ┆ 22    ┆ 90     ┆ 290   │\n",
       "└─────────────────┴───────────┴──────────────┴──────────┴───┴────────────┴───────┴────────┴───────┘"
      ]
     },
     "execution_count": 17,
     "metadata": {},
     "output_type": "execute_result"
    }
   ],
   "source": [
    "vil_int = vil.sort(by='Intelligence', descending=True)\n",
    "vil_int.head(5)"
   ]
  },
  {
   "attachments": {},
   "cell_type": "markdown",
   "metadata": {},
   "source": [
    "19.\tShow who is most dangerous super villain after calculating their total (top 5 only)"
   ]
  },
  {
   "cell_type": "code",
   "execution_count": 18,
   "metadata": {},
   "outputs": [
    {
     "data": {
      "text/html": [
       "<div><style>\n",
       ".dataframe > thead > tr > th,\n",
       ".dataframe > tbody > tr > td {\n",
       "  text-align: right;\n",
       "}\n",
       "</style>\n",
       "<small>shape: (5, 9)</small><table border=\"1\" class=\"dataframe\"><thead><tr><th>Name</th><th>Alignment</th><th>Intelligence</th><th>Strength</th><th>Speed</th><th>Durability</th><th>Power</th><th>Combat</th><th>Total</th></tr><tr><td>str</td><td>str</td><td>i64</td><td>i64</td><td>i64</td><td>i64</td><td>i64</td><td>i64</td><td>i64</td></tr></thead><tbody><tr><td>&quot;General Zod&quot;</td><td>&quot;bad&quot;</td><td>94</td><td>100</td><td>96</td><td>100</td><td>94</td><td>95</td><td>579</td></tr><tr><td>&quot;Superboy-Prime…</td><td>&quot;bad&quot;</td><td>94</td><td>100</td><td>100</td><td>100</td><td>100</td><td>85</td><td>579</td></tr><tr><td>&quot;Amazo&quot;</td><td>&quot;bad&quot;</td><td>75</td><td>100</td><td>100</td><td>100</td><td>100</td><td>100</td><td>575</td></tr><tr><td>&quot;Dormammu&quot;</td><td>&quot;bad&quot;</td><td>88</td><td>95</td><td>83</td><td>100</td><td>100</td><td>80</td><td>546</td></tr><tr><td>&quot;Doomsday&quot;</td><td>&quot;bad&quot;</td><td>88</td><td>80</td><td>67</td><td>120</td><td>100</td><td>90</td><td>545</td></tr></tbody></table></div>"
      ],
      "text/plain": [
       "shape: (5, 9)\n",
       "┌────────────────┬───────────┬──────────────┬──────────┬───┬────────────┬───────┬────────┬───────┐\n",
       "│ Name           ┆ Alignment ┆ Intelligence ┆ Strength ┆ … ┆ Durability ┆ Power ┆ Combat ┆ Total │\n",
       "│ ---            ┆ ---       ┆ ---          ┆ ---      ┆   ┆ ---        ┆ ---   ┆ ---    ┆ ---   │\n",
       "│ str            ┆ str       ┆ i64          ┆ i64      ┆   ┆ i64        ┆ i64   ┆ i64    ┆ i64   │\n",
       "╞════════════════╪═══════════╪══════════════╪══════════╪═══╪════════════╪═══════╪════════╪═══════╡\n",
       "│ General Zod    ┆ bad       ┆ 94           ┆ 100      ┆ … ┆ 100        ┆ 94    ┆ 95     ┆ 579   │\n",
       "│ Superboy-Prime ┆ bad       ┆ 94           ┆ 100      ┆ … ┆ 100        ┆ 100   ┆ 85     ┆ 579   │\n",
       "│ Amazo          ┆ bad       ┆ 75           ┆ 100      ┆ … ┆ 100        ┆ 100   ┆ 100    ┆ 575   │\n",
       "│ Dormammu       ┆ bad       ┆ 88           ┆ 95       ┆ … ┆ 100        ┆ 100   ┆ 80     ┆ 546   │\n",
       "│ Doomsday       ┆ bad       ┆ 88           ┆ 80       ┆ … ┆ 120        ┆ 100   ┆ 90     ┆ 545   │\n",
       "└────────────────┴───────────┴──────────────┴──────────┴───┴────────────┴───────┴────────┴───────┘"
      ]
     },
     "execution_count": 18,
     "metadata": {},
     "output_type": "execute_result"
    }
   ],
   "source": [
    "vil_danger = vil.sort(by='Total', descending=True)\n",
    "vil_danger.head(5)"
   ]
  },
  {
   "attachments": {},
   "cell_type": "markdown",
   "metadata": {},
   "source": [
    "20.\tDraw a histogram for speed of super heroes having fig size 10.5, provide speed in histogram for only good alignment superheroes, title should be \"distribution of speed\", xlabel should be \"speed\""
   ]
  },
  {
   "cell_type": "code",
   "execution_count": 42,
   "metadata": {},
   "outputs": [
    {
     "data": {
      "application/vnd.plotly.v1+json": {
       "config": {
        "plotlyServerURL": "https://plot.ly"
       },
       "data": [
        {
         "alignmentgroup": "True",
         "bingroup": "x",
         "hovertemplate": "Speed=%{x}<br>count=%{y}<extra></extra>",
         "legendgroup": "",
         "marker": {
          "color": "goldenrod",
          "pattern": {
           "shape": ""
          }
         },
         "name": "",
         "offsetgroup": "",
         "orientation": "v",
         "showlegend": false,
         "type": "histogram",
         "x": [
          43,
          17,
          35,
          53,
          12,
          13,
          38,
          23,
          17,
          46,
          28,
          47,
          23,
          23,
          12,
          42,
          50,
          58,
          35,
          12,
          12,
          23,
          23,
          83,
          17,
          58,
          23,
          27,
          23,
          27,
          33,
          35,
          35,
          50,
          8,
          35,
          23,
          23,
          12,
          33,
          35,
          23,
          100,
          33,
          8,
          53,
          30,
          27,
          38,
          12,
          20,
          50,
          58,
          12,
          53,
          23,
          23,
          25,
          8,
          23,
          23,
          67,
          35,
          50,
          67,
          27,
          33,
          53,
          20,
          47,
          12,
          47,
          33,
          12,
          42,
          23,
          35,
          8,
          27,
          33,
          23,
          35,
          83,
          35,
          33,
          30,
          12,
          33,
          25,
          12,
          27,
          42,
          12,
          30,
          27,
          35,
          50,
          45,
          23,
          40,
          75,
          54,
          58,
          100,
          100,
          100,
          100,
          12,
          1,
          23,
          8,
          25,
          75,
          33,
          35,
          33,
          27,
          53,
          65,
          25,
          35,
          23,
          8,
          53,
          23,
          23,
          46,
          23,
          12,
          47,
          63,
          23,
          35,
          75,
          53,
          100,
          17,
          27,
          35,
          58,
          75,
          100,
          67,
          67,
          35,
          23,
          8,
          27,
          35,
          27,
          22,
          33,
          23,
          92,
          53,
          12,
          100,
          12,
          35,
          23,
          27,
          23,
          83,
          35,
          23,
          8,
          35,
          96,
          47,
          35,
          12,
          12,
          12,
          35,
          12,
          54,
          47,
          12,
          27,
          47,
          23,
          58,
          18,
          35,
          23,
          47,
          35,
          47,
          23,
          23,
          42,
          47,
          32,
          23,
          47,
          33,
          35,
          8,
          83,
          67,
          100,
          35,
          23,
          60,
          23,
          23,
          67,
          23,
          67,
          12,
          23,
          27,
          100,
          12,
          8,
          25,
          47,
          27,
          67,
          27,
          27,
          33,
          23,
          12,
          27,
          29,
          12,
          23,
          54,
          60,
          60,
          58,
          27,
          21,
          30,
          45,
          42,
          23,
          25,
          84,
          35,
          27,
          27,
          23,
          27,
          33,
          50,
          60,
          60,
          42,
          27,
          17,
          100,
          33,
          27,
          53,
          54,
          47,
          47,
          35,
          1,
          83,
          92,
          100,
          23,
          45,
          23,
          21,
          92,
          70,
          27,
          70,
          32,
          53,
          70,
          23,
          35,
          53,
          12,
          54,
          63,
          79,
          47,
          58,
          67,
          23,
          35,
          35,
          38,
          25,
          53,
          50,
          12,
          35,
          53,
          12,
          35,
          27,
          23
         ],
         "xaxis": "x",
         "yaxis": "y"
        }
       ],
       "layout": {
        "barmode": "relative",
        "legend": {
         "tracegroupgap": 0
        },
        "template": {
         "data": {
          "bar": [
           {
            "error_x": {
             "color": "#2a3f5f"
            },
            "error_y": {
             "color": "#2a3f5f"
            },
            "marker": {
             "line": {
              "color": "#E5ECF6",
              "width": 0.5
             },
             "pattern": {
              "fillmode": "overlay",
              "size": 10,
              "solidity": 0.2
             }
            },
            "type": "bar"
           }
          ],
          "barpolar": [
           {
            "marker": {
             "line": {
              "color": "#E5ECF6",
              "width": 0.5
             },
             "pattern": {
              "fillmode": "overlay",
              "size": 10,
              "solidity": 0.2
             }
            },
            "type": "barpolar"
           }
          ],
          "carpet": [
           {
            "aaxis": {
             "endlinecolor": "#2a3f5f",
             "gridcolor": "white",
             "linecolor": "white",
             "minorgridcolor": "white",
             "startlinecolor": "#2a3f5f"
            },
            "baxis": {
             "endlinecolor": "#2a3f5f",
             "gridcolor": "white",
             "linecolor": "white",
             "minorgridcolor": "white",
             "startlinecolor": "#2a3f5f"
            },
            "type": "carpet"
           }
          ],
          "choropleth": [
           {
            "colorbar": {
             "outlinewidth": 0,
             "ticks": ""
            },
            "type": "choropleth"
           }
          ],
          "contour": [
           {
            "colorbar": {
             "outlinewidth": 0,
             "ticks": ""
            },
            "colorscale": [
             [
              0,
              "#0d0887"
             ],
             [
              0.1111111111111111,
              "#46039f"
             ],
             [
              0.2222222222222222,
              "#7201a8"
             ],
             [
              0.3333333333333333,
              "#9c179e"
             ],
             [
              0.4444444444444444,
              "#bd3786"
             ],
             [
              0.5555555555555556,
              "#d8576b"
             ],
             [
              0.6666666666666666,
              "#ed7953"
             ],
             [
              0.7777777777777778,
              "#fb9f3a"
             ],
             [
              0.8888888888888888,
              "#fdca26"
             ],
             [
              1,
              "#f0f921"
             ]
            ],
            "type": "contour"
           }
          ],
          "contourcarpet": [
           {
            "colorbar": {
             "outlinewidth": 0,
             "ticks": ""
            },
            "type": "contourcarpet"
           }
          ],
          "heatmap": [
           {
            "colorbar": {
             "outlinewidth": 0,
             "ticks": ""
            },
            "colorscale": [
             [
              0,
              "#0d0887"
             ],
             [
              0.1111111111111111,
              "#46039f"
             ],
             [
              0.2222222222222222,
              "#7201a8"
             ],
             [
              0.3333333333333333,
              "#9c179e"
             ],
             [
              0.4444444444444444,
              "#bd3786"
             ],
             [
              0.5555555555555556,
              "#d8576b"
             ],
             [
              0.6666666666666666,
              "#ed7953"
             ],
             [
              0.7777777777777778,
              "#fb9f3a"
             ],
             [
              0.8888888888888888,
              "#fdca26"
             ],
             [
              1,
              "#f0f921"
             ]
            ],
            "type": "heatmap"
           }
          ],
          "heatmapgl": [
           {
            "colorbar": {
             "outlinewidth": 0,
             "ticks": ""
            },
            "colorscale": [
             [
              0,
              "#0d0887"
             ],
             [
              0.1111111111111111,
              "#46039f"
             ],
             [
              0.2222222222222222,
              "#7201a8"
             ],
             [
              0.3333333333333333,
              "#9c179e"
             ],
             [
              0.4444444444444444,
              "#bd3786"
             ],
             [
              0.5555555555555556,
              "#d8576b"
             ],
             [
              0.6666666666666666,
              "#ed7953"
             ],
             [
              0.7777777777777778,
              "#fb9f3a"
             ],
             [
              0.8888888888888888,
              "#fdca26"
             ],
             [
              1,
              "#f0f921"
             ]
            ],
            "type": "heatmapgl"
           }
          ],
          "histogram": [
           {
            "marker": {
             "pattern": {
              "fillmode": "overlay",
              "size": 10,
              "solidity": 0.2
             }
            },
            "type": "histogram"
           }
          ],
          "histogram2d": [
           {
            "colorbar": {
             "outlinewidth": 0,
             "ticks": ""
            },
            "colorscale": [
             [
              0,
              "#0d0887"
             ],
             [
              0.1111111111111111,
              "#46039f"
             ],
             [
              0.2222222222222222,
              "#7201a8"
             ],
             [
              0.3333333333333333,
              "#9c179e"
             ],
             [
              0.4444444444444444,
              "#bd3786"
             ],
             [
              0.5555555555555556,
              "#d8576b"
             ],
             [
              0.6666666666666666,
              "#ed7953"
             ],
             [
              0.7777777777777778,
              "#fb9f3a"
             ],
             [
              0.8888888888888888,
              "#fdca26"
             ],
             [
              1,
              "#f0f921"
             ]
            ],
            "type": "histogram2d"
           }
          ],
          "histogram2dcontour": [
           {
            "colorbar": {
             "outlinewidth": 0,
             "ticks": ""
            },
            "colorscale": [
             [
              0,
              "#0d0887"
             ],
             [
              0.1111111111111111,
              "#46039f"
             ],
             [
              0.2222222222222222,
              "#7201a8"
             ],
             [
              0.3333333333333333,
              "#9c179e"
             ],
             [
              0.4444444444444444,
              "#bd3786"
             ],
             [
              0.5555555555555556,
              "#d8576b"
             ],
             [
              0.6666666666666666,
              "#ed7953"
             ],
             [
              0.7777777777777778,
              "#fb9f3a"
             ],
             [
              0.8888888888888888,
              "#fdca26"
             ],
             [
              1,
              "#f0f921"
             ]
            ],
            "type": "histogram2dcontour"
           }
          ],
          "mesh3d": [
           {
            "colorbar": {
             "outlinewidth": 0,
             "ticks": ""
            },
            "type": "mesh3d"
           }
          ],
          "parcoords": [
           {
            "line": {
             "colorbar": {
              "outlinewidth": 0,
              "ticks": ""
             }
            },
            "type": "parcoords"
           }
          ],
          "pie": [
           {
            "automargin": true,
            "type": "pie"
           }
          ],
          "scatter": [
           {
            "fillpattern": {
             "fillmode": "overlay",
             "size": 10,
             "solidity": 0.2
            },
            "type": "scatter"
           }
          ],
          "scatter3d": [
           {
            "line": {
             "colorbar": {
              "outlinewidth": 0,
              "ticks": ""
             }
            },
            "marker": {
             "colorbar": {
              "outlinewidth": 0,
              "ticks": ""
             }
            },
            "type": "scatter3d"
           }
          ],
          "scattercarpet": [
           {
            "marker": {
             "colorbar": {
              "outlinewidth": 0,
              "ticks": ""
             }
            },
            "type": "scattercarpet"
           }
          ],
          "scattergeo": [
           {
            "marker": {
             "colorbar": {
              "outlinewidth": 0,
              "ticks": ""
             }
            },
            "type": "scattergeo"
           }
          ],
          "scattergl": [
           {
            "marker": {
             "colorbar": {
              "outlinewidth": 0,
              "ticks": ""
             }
            },
            "type": "scattergl"
           }
          ],
          "scattermapbox": [
           {
            "marker": {
             "colorbar": {
              "outlinewidth": 0,
              "ticks": ""
             }
            },
            "type": "scattermapbox"
           }
          ],
          "scatterpolar": [
           {
            "marker": {
             "colorbar": {
              "outlinewidth": 0,
              "ticks": ""
             }
            },
            "type": "scatterpolar"
           }
          ],
          "scatterpolargl": [
           {
            "marker": {
             "colorbar": {
              "outlinewidth": 0,
              "ticks": ""
             }
            },
            "type": "scatterpolargl"
           }
          ],
          "scatterternary": [
           {
            "marker": {
             "colorbar": {
              "outlinewidth": 0,
              "ticks": ""
             }
            },
            "type": "scatterternary"
           }
          ],
          "surface": [
           {
            "colorbar": {
             "outlinewidth": 0,
             "ticks": ""
            },
            "colorscale": [
             [
              0,
              "#0d0887"
             ],
             [
              0.1111111111111111,
              "#46039f"
             ],
             [
              0.2222222222222222,
              "#7201a8"
             ],
             [
              0.3333333333333333,
              "#9c179e"
             ],
             [
              0.4444444444444444,
              "#bd3786"
             ],
             [
              0.5555555555555556,
              "#d8576b"
             ],
             [
              0.6666666666666666,
              "#ed7953"
             ],
             [
              0.7777777777777778,
              "#fb9f3a"
             ],
             [
              0.8888888888888888,
              "#fdca26"
             ],
             [
              1,
              "#f0f921"
             ]
            ],
            "type": "surface"
           }
          ],
          "table": [
           {
            "cells": {
             "fill": {
              "color": "#EBF0F8"
             },
             "line": {
              "color": "white"
             }
            },
            "header": {
             "fill": {
              "color": "#C8D4E3"
             },
             "line": {
              "color": "white"
             }
            },
            "type": "table"
           }
          ]
         },
         "layout": {
          "annotationdefaults": {
           "arrowcolor": "#2a3f5f",
           "arrowhead": 0,
           "arrowwidth": 1
          },
          "autotypenumbers": "strict",
          "coloraxis": {
           "colorbar": {
            "outlinewidth": 0,
            "ticks": ""
           }
          },
          "colorscale": {
           "diverging": [
            [
             0,
             "#8e0152"
            ],
            [
             0.1,
             "#c51b7d"
            ],
            [
             0.2,
             "#de77ae"
            ],
            [
             0.3,
             "#f1b6da"
            ],
            [
             0.4,
             "#fde0ef"
            ],
            [
             0.5,
             "#f7f7f7"
            ],
            [
             0.6,
             "#e6f5d0"
            ],
            [
             0.7,
             "#b8e186"
            ],
            [
             0.8,
             "#7fbc41"
            ],
            [
             0.9,
             "#4d9221"
            ],
            [
             1,
             "#276419"
            ]
           ],
           "sequential": [
            [
             0,
             "#0d0887"
            ],
            [
             0.1111111111111111,
             "#46039f"
            ],
            [
             0.2222222222222222,
             "#7201a8"
            ],
            [
             0.3333333333333333,
             "#9c179e"
            ],
            [
             0.4444444444444444,
             "#bd3786"
            ],
            [
             0.5555555555555556,
             "#d8576b"
            ],
            [
             0.6666666666666666,
             "#ed7953"
            ],
            [
             0.7777777777777778,
             "#fb9f3a"
            ],
            [
             0.8888888888888888,
             "#fdca26"
            ],
            [
             1,
             "#f0f921"
            ]
           ],
           "sequentialminus": [
            [
             0,
             "#0d0887"
            ],
            [
             0.1111111111111111,
             "#46039f"
            ],
            [
             0.2222222222222222,
             "#7201a8"
            ],
            [
             0.3333333333333333,
             "#9c179e"
            ],
            [
             0.4444444444444444,
             "#bd3786"
            ],
            [
             0.5555555555555556,
             "#d8576b"
            ],
            [
             0.6666666666666666,
             "#ed7953"
            ],
            [
             0.7777777777777778,
             "#fb9f3a"
            ],
            [
             0.8888888888888888,
             "#fdca26"
            ],
            [
             1,
             "#f0f921"
            ]
           ]
          },
          "colorway": [
           "#636efa",
           "#EF553B",
           "#00cc96",
           "#ab63fa",
           "#FFA15A",
           "#19d3f3",
           "#FF6692",
           "#B6E880",
           "#FF97FF",
           "#FECB52"
          ],
          "font": {
           "color": "#2a3f5f"
          },
          "geo": {
           "bgcolor": "white",
           "lakecolor": "white",
           "landcolor": "#E5ECF6",
           "showlakes": true,
           "showland": true,
           "subunitcolor": "white"
          },
          "hoverlabel": {
           "align": "left"
          },
          "hovermode": "closest",
          "mapbox": {
           "style": "light"
          },
          "paper_bgcolor": "white",
          "plot_bgcolor": "#E5ECF6",
          "polar": {
           "angularaxis": {
            "gridcolor": "white",
            "linecolor": "white",
            "ticks": ""
           },
           "bgcolor": "#E5ECF6",
           "radialaxis": {
            "gridcolor": "white",
            "linecolor": "white",
            "ticks": ""
           }
          },
          "scene": {
           "xaxis": {
            "backgroundcolor": "#E5ECF6",
            "gridcolor": "white",
            "gridwidth": 2,
            "linecolor": "white",
            "showbackground": true,
            "ticks": "",
            "zerolinecolor": "white"
           },
           "yaxis": {
            "backgroundcolor": "#E5ECF6",
            "gridcolor": "white",
            "gridwidth": 2,
            "linecolor": "white",
            "showbackground": true,
            "ticks": "",
            "zerolinecolor": "white"
           },
           "zaxis": {
            "backgroundcolor": "#E5ECF6",
            "gridcolor": "white",
            "gridwidth": 2,
            "linecolor": "white",
            "showbackground": true,
            "ticks": "",
            "zerolinecolor": "white"
           }
          },
          "shapedefaults": {
           "line": {
            "color": "#2a3f5f"
           }
          },
          "ternary": {
           "aaxis": {
            "gridcolor": "white",
            "linecolor": "white",
            "ticks": ""
           },
           "baxis": {
            "gridcolor": "white",
            "linecolor": "white",
            "ticks": ""
           },
           "bgcolor": "#E5ECF6",
           "caxis": {
            "gridcolor": "white",
            "linecolor": "white",
            "ticks": ""
           }
          },
          "title": {
           "x": 0.05
          },
          "xaxis": {
           "automargin": true,
           "gridcolor": "white",
           "linecolor": "white",
           "ticks": "",
           "title": {
            "standoff": 15
           },
           "zerolinecolor": "white",
           "zerolinewidth": 2
          },
          "yaxis": {
           "automargin": true,
           "gridcolor": "white",
           "linecolor": "white",
           "ticks": "",
           "title": {
            "standoff": 15
           },
           "zerolinecolor": "white",
           "zerolinewidth": 2
          }
         }
        },
        "title": {
         "text": "Distribution of Speed"
        },
        "xaxis": {
         "anchor": "y",
         "domain": [
          0,
          1
         ],
         "title": {
          "text": "Speed"
         }
        },
        "yaxis": {
         "anchor": "x",
         "domain": [
          0,
          1
         ],
         "title": {
          "text": "count"
         }
        }
       }
      }
     },
     "metadata": {},
     "output_type": "display_data"
    }
   ],
   "source": [
    "fig = px.histogram(\n",
    "    x=good_guys['Speed'],\n",
    "    labels= {'x' : 'Speed'},\n",
    "    title= 'Distribution of Speed',\n",
    "    color_discrete_sequence=['goldenrod']\n",
    ")\n",
    "fig"
   ]
  },
  {
   "attachments": {},
   "cell_type": "markdown",
   "metadata": {},
   "source": [
    "21.\tDraw a histogram for combat of super villains having fig size 10.5, provide combat in histogram for only bad alignment superheroes, title should be \"distribution of combat\", xlabel should be \"combat\""
   ]
  },
  {
   "cell_type": "code",
   "execution_count": 39,
   "metadata": {},
   "outputs": [
    {
     "data": {
      "application/vnd.plotly.v1+json": {
       "config": {
        "plotlyServerURL": "https://plot.ly"
       },
       "data": [
        {
         "alignmentgroup": "True",
         "bingroup": "x",
         "hovertemplate": "Combat=%{x}<br>count=%{y}<extra></extra>",
         "legendgroup": "",
         "marker": {
          "color": "lightcoral",
          "pattern": {
           "shape": ""
          }
         },
         "name": "",
         "offsetgroup": "",
         "orientation": "v",
         "showlegend": false,
         "type": "histogram",
         "x": [
          95,
          56,
          40,
          100,
          64,
          90,
          60,
          70,
          80,
          95,
          70,
          56,
          65,
          65,
          56,
          56,
          72,
          84,
          75,
          70,
          85,
          90,
          28,
          64,
          80,
          95,
          80,
          60,
          70,
          84,
          1,
          90,
          84,
          80,
          28,
          64,
          42,
          64,
          70,
          56,
          90,
          52,
          95,
          42,
          56,
          56,
          28,
          26,
          80,
          50,
          56,
          90,
          30,
          70,
          40,
          60,
          70,
          60,
          85,
          85,
          42,
          28,
          42,
          28,
          56,
          85,
          56,
          56,
          80,
          74,
          95,
          70,
          75,
          42,
          64,
          28,
          28,
          56,
          56,
          56,
          56,
          74,
          85,
          45,
          42,
          36,
          28,
          28,
          100,
          56,
          80,
          85,
          95,
          14,
          100,
          50,
          28,
          28,
          80,
          56,
          56,
          28,
          42,
          30,
          85,
          56,
          56,
          80,
          28,
          14,
          28,
          64,
          64,
          42,
          84,
          56,
          56,
          56,
          20,
          50,
          60,
          28
         ],
         "xaxis": "x",
         "yaxis": "y"
        }
       ],
       "layout": {
        "barmode": "relative",
        "legend": {
         "tracegroupgap": 0
        },
        "template": {
         "data": {
          "bar": [
           {
            "error_x": {
             "color": "#2a3f5f"
            },
            "error_y": {
             "color": "#2a3f5f"
            },
            "marker": {
             "line": {
              "color": "#E5ECF6",
              "width": 0.5
             },
             "pattern": {
              "fillmode": "overlay",
              "size": 10,
              "solidity": 0.2
             }
            },
            "type": "bar"
           }
          ],
          "barpolar": [
           {
            "marker": {
             "line": {
              "color": "#E5ECF6",
              "width": 0.5
             },
             "pattern": {
              "fillmode": "overlay",
              "size": 10,
              "solidity": 0.2
             }
            },
            "type": "barpolar"
           }
          ],
          "carpet": [
           {
            "aaxis": {
             "endlinecolor": "#2a3f5f",
             "gridcolor": "white",
             "linecolor": "white",
             "minorgridcolor": "white",
             "startlinecolor": "#2a3f5f"
            },
            "baxis": {
             "endlinecolor": "#2a3f5f",
             "gridcolor": "white",
             "linecolor": "white",
             "minorgridcolor": "white",
             "startlinecolor": "#2a3f5f"
            },
            "type": "carpet"
           }
          ],
          "choropleth": [
           {
            "colorbar": {
             "outlinewidth": 0,
             "ticks": ""
            },
            "type": "choropleth"
           }
          ],
          "contour": [
           {
            "colorbar": {
             "outlinewidth": 0,
             "ticks": ""
            },
            "colorscale": [
             [
              0,
              "#0d0887"
             ],
             [
              0.1111111111111111,
              "#46039f"
             ],
             [
              0.2222222222222222,
              "#7201a8"
             ],
             [
              0.3333333333333333,
              "#9c179e"
             ],
             [
              0.4444444444444444,
              "#bd3786"
             ],
             [
              0.5555555555555556,
              "#d8576b"
             ],
             [
              0.6666666666666666,
              "#ed7953"
             ],
             [
              0.7777777777777778,
              "#fb9f3a"
             ],
             [
              0.8888888888888888,
              "#fdca26"
             ],
             [
              1,
              "#f0f921"
             ]
            ],
            "type": "contour"
           }
          ],
          "contourcarpet": [
           {
            "colorbar": {
             "outlinewidth": 0,
             "ticks": ""
            },
            "type": "contourcarpet"
           }
          ],
          "heatmap": [
           {
            "colorbar": {
             "outlinewidth": 0,
             "ticks": ""
            },
            "colorscale": [
             [
              0,
              "#0d0887"
             ],
             [
              0.1111111111111111,
              "#46039f"
             ],
             [
              0.2222222222222222,
              "#7201a8"
             ],
             [
              0.3333333333333333,
              "#9c179e"
             ],
             [
              0.4444444444444444,
              "#bd3786"
             ],
             [
              0.5555555555555556,
              "#d8576b"
             ],
             [
              0.6666666666666666,
              "#ed7953"
             ],
             [
              0.7777777777777778,
              "#fb9f3a"
             ],
             [
              0.8888888888888888,
              "#fdca26"
             ],
             [
              1,
              "#f0f921"
             ]
            ],
            "type": "heatmap"
           }
          ],
          "heatmapgl": [
           {
            "colorbar": {
             "outlinewidth": 0,
             "ticks": ""
            },
            "colorscale": [
             [
              0,
              "#0d0887"
             ],
             [
              0.1111111111111111,
              "#46039f"
             ],
             [
              0.2222222222222222,
              "#7201a8"
             ],
             [
              0.3333333333333333,
              "#9c179e"
             ],
             [
              0.4444444444444444,
              "#bd3786"
             ],
             [
              0.5555555555555556,
              "#d8576b"
             ],
             [
              0.6666666666666666,
              "#ed7953"
             ],
             [
              0.7777777777777778,
              "#fb9f3a"
             ],
             [
              0.8888888888888888,
              "#fdca26"
             ],
             [
              1,
              "#f0f921"
             ]
            ],
            "type": "heatmapgl"
           }
          ],
          "histogram": [
           {
            "marker": {
             "pattern": {
              "fillmode": "overlay",
              "size": 10,
              "solidity": 0.2
             }
            },
            "type": "histogram"
           }
          ],
          "histogram2d": [
           {
            "colorbar": {
             "outlinewidth": 0,
             "ticks": ""
            },
            "colorscale": [
             [
              0,
              "#0d0887"
             ],
             [
              0.1111111111111111,
              "#46039f"
             ],
             [
              0.2222222222222222,
              "#7201a8"
             ],
             [
              0.3333333333333333,
              "#9c179e"
             ],
             [
              0.4444444444444444,
              "#bd3786"
             ],
             [
              0.5555555555555556,
              "#d8576b"
             ],
             [
              0.6666666666666666,
              "#ed7953"
             ],
             [
              0.7777777777777778,
              "#fb9f3a"
             ],
             [
              0.8888888888888888,
              "#fdca26"
             ],
             [
              1,
              "#f0f921"
             ]
            ],
            "type": "histogram2d"
           }
          ],
          "histogram2dcontour": [
           {
            "colorbar": {
             "outlinewidth": 0,
             "ticks": ""
            },
            "colorscale": [
             [
              0,
              "#0d0887"
             ],
             [
              0.1111111111111111,
              "#46039f"
             ],
             [
              0.2222222222222222,
              "#7201a8"
             ],
             [
              0.3333333333333333,
              "#9c179e"
             ],
             [
              0.4444444444444444,
              "#bd3786"
             ],
             [
              0.5555555555555556,
              "#d8576b"
             ],
             [
              0.6666666666666666,
              "#ed7953"
             ],
             [
              0.7777777777777778,
              "#fb9f3a"
             ],
             [
              0.8888888888888888,
              "#fdca26"
             ],
             [
              1,
              "#f0f921"
             ]
            ],
            "type": "histogram2dcontour"
           }
          ],
          "mesh3d": [
           {
            "colorbar": {
             "outlinewidth": 0,
             "ticks": ""
            },
            "type": "mesh3d"
           }
          ],
          "parcoords": [
           {
            "line": {
             "colorbar": {
              "outlinewidth": 0,
              "ticks": ""
             }
            },
            "type": "parcoords"
           }
          ],
          "pie": [
           {
            "automargin": true,
            "type": "pie"
           }
          ],
          "scatter": [
           {
            "fillpattern": {
             "fillmode": "overlay",
             "size": 10,
             "solidity": 0.2
            },
            "type": "scatter"
           }
          ],
          "scatter3d": [
           {
            "line": {
             "colorbar": {
              "outlinewidth": 0,
              "ticks": ""
             }
            },
            "marker": {
             "colorbar": {
              "outlinewidth": 0,
              "ticks": ""
             }
            },
            "type": "scatter3d"
           }
          ],
          "scattercarpet": [
           {
            "marker": {
             "colorbar": {
              "outlinewidth": 0,
              "ticks": ""
             }
            },
            "type": "scattercarpet"
           }
          ],
          "scattergeo": [
           {
            "marker": {
             "colorbar": {
              "outlinewidth": 0,
              "ticks": ""
             }
            },
            "type": "scattergeo"
           }
          ],
          "scattergl": [
           {
            "marker": {
             "colorbar": {
              "outlinewidth": 0,
              "ticks": ""
             }
            },
            "type": "scattergl"
           }
          ],
          "scattermapbox": [
           {
            "marker": {
             "colorbar": {
              "outlinewidth": 0,
              "ticks": ""
             }
            },
            "type": "scattermapbox"
           }
          ],
          "scatterpolar": [
           {
            "marker": {
             "colorbar": {
              "outlinewidth": 0,
              "ticks": ""
             }
            },
            "type": "scatterpolar"
           }
          ],
          "scatterpolargl": [
           {
            "marker": {
             "colorbar": {
              "outlinewidth": 0,
              "ticks": ""
             }
            },
            "type": "scatterpolargl"
           }
          ],
          "scatterternary": [
           {
            "marker": {
             "colorbar": {
              "outlinewidth": 0,
              "ticks": ""
             }
            },
            "type": "scatterternary"
           }
          ],
          "surface": [
           {
            "colorbar": {
             "outlinewidth": 0,
             "ticks": ""
            },
            "colorscale": [
             [
              0,
              "#0d0887"
             ],
             [
              0.1111111111111111,
              "#46039f"
             ],
             [
              0.2222222222222222,
              "#7201a8"
             ],
             [
              0.3333333333333333,
              "#9c179e"
             ],
             [
              0.4444444444444444,
              "#bd3786"
             ],
             [
              0.5555555555555556,
              "#d8576b"
             ],
             [
              0.6666666666666666,
              "#ed7953"
             ],
             [
              0.7777777777777778,
              "#fb9f3a"
             ],
             [
              0.8888888888888888,
              "#fdca26"
             ],
             [
              1,
              "#f0f921"
             ]
            ],
            "type": "surface"
           }
          ],
          "table": [
           {
            "cells": {
             "fill": {
              "color": "#EBF0F8"
             },
             "line": {
              "color": "white"
             }
            },
            "header": {
             "fill": {
              "color": "#C8D4E3"
             },
             "line": {
              "color": "white"
             }
            },
            "type": "table"
           }
          ]
         },
         "layout": {
          "annotationdefaults": {
           "arrowcolor": "#2a3f5f",
           "arrowhead": 0,
           "arrowwidth": 1
          },
          "autotypenumbers": "strict",
          "coloraxis": {
           "colorbar": {
            "outlinewidth": 0,
            "ticks": ""
           }
          },
          "colorscale": {
           "diverging": [
            [
             0,
             "#8e0152"
            ],
            [
             0.1,
             "#c51b7d"
            ],
            [
             0.2,
             "#de77ae"
            ],
            [
             0.3,
             "#f1b6da"
            ],
            [
             0.4,
             "#fde0ef"
            ],
            [
             0.5,
             "#f7f7f7"
            ],
            [
             0.6,
             "#e6f5d0"
            ],
            [
             0.7,
             "#b8e186"
            ],
            [
             0.8,
             "#7fbc41"
            ],
            [
             0.9,
             "#4d9221"
            ],
            [
             1,
             "#276419"
            ]
           ],
           "sequential": [
            [
             0,
             "#0d0887"
            ],
            [
             0.1111111111111111,
             "#46039f"
            ],
            [
             0.2222222222222222,
             "#7201a8"
            ],
            [
             0.3333333333333333,
             "#9c179e"
            ],
            [
             0.4444444444444444,
             "#bd3786"
            ],
            [
             0.5555555555555556,
             "#d8576b"
            ],
            [
             0.6666666666666666,
             "#ed7953"
            ],
            [
             0.7777777777777778,
             "#fb9f3a"
            ],
            [
             0.8888888888888888,
             "#fdca26"
            ],
            [
             1,
             "#f0f921"
            ]
           ],
           "sequentialminus": [
            [
             0,
             "#0d0887"
            ],
            [
             0.1111111111111111,
             "#46039f"
            ],
            [
             0.2222222222222222,
             "#7201a8"
            ],
            [
             0.3333333333333333,
             "#9c179e"
            ],
            [
             0.4444444444444444,
             "#bd3786"
            ],
            [
             0.5555555555555556,
             "#d8576b"
            ],
            [
             0.6666666666666666,
             "#ed7953"
            ],
            [
             0.7777777777777778,
             "#fb9f3a"
            ],
            [
             0.8888888888888888,
             "#fdca26"
            ],
            [
             1,
             "#f0f921"
            ]
           ]
          },
          "colorway": [
           "#636efa",
           "#EF553B",
           "#00cc96",
           "#ab63fa",
           "#FFA15A",
           "#19d3f3",
           "#FF6692",
           "#B6E880",
           "#FF97FF",
           "#FECB52"
          ],
          "font": {
           "color": "#2a3f5f"
          },
          "geo": {
           "bgcolor": "white",
           "lakecolor": "white",
           "landcolor": "#E5ECF6",
           "showlakes": true,
           "showland": true,
           "subunitcolor": "white"
          },
          "hoverlabel": {
           "align": "left"
          },
          "hovermode": "closest",
          "mapbox": {
           "style": "light"
          },
          "paper_bgcolor": "white",
          "plot_bgcolor": "#E5ECF6",
          "polar": {
           "angularaxis": {
            "gridcolor": "white",
            "linecolor": "white",
            "ticks": ""
           },
           "bgcolor": "#E5ECF6",
           "radialaxis": {
            "gridcolor": "white",
            "linecolor": "white",
            "ticks": ""
           }
          },
          "scene": {
           "xaxis": {
            "backgroundcolor": "#E5ECF6",
            "gridcolor": "white",
            "gridwidth": 2,
            "linecolor": "white",
            "showbackground": true,
            "ticks": "",
            "zerolinecolor": "white"
           },
           "yaxis": {
            "backgroundcolor": "#E5ECF6",
            "gridcolor": "white",
            "gridwidth": 2,
            "linecolor": "white",
            "showbackground": true,
            "ticks": "",
            "zerolinecolor": "white"
           },
           "zaxis": {
            "backgroundcolor": "#E5ECF6",
            "gridcolor": "white",
            "gridwidth": 2,
            "linecolor": "white",
            "showbackground": true,
            "ticks": "",
            "zerolinecolor": "white"
           }
          },
          "shapedefaults": {
           "line": {
            "color": "#2a3f5f"
           }
          },
          "ternary": {
           "aaxis": {
            "gridcolor": "white",
            "linecolor": "white",
            "ticks": ""
           },
           "baxis": {
            "gridcolor": "white",
            "linecolor": "white",
            "ticks": ""
           },
           "bgcolor": "#E5ECF6",
           "caxis": {
            "gridcolor": "white",
            "linecolor": "white",
            "ticks": ""
           }
          },
          "title": {
           "x": 0.05
          },
          "xaxis": {
           "automargin": true,
           "gridcolor": "white",
           "linecolor": "white",
           "ticks": "",
           "title": {
            "standoff": 15
           },
           "zerolinecolor": "white",
           "zerolinewidth": 2
          },
          "yaxis": {
           "automargin": true,
           "gridcolor": "white",
           "linecolor": "white",
           "ticks": "",
           "title": {
            "standoff": 15
           },
           "zerolinecolor": "white",
           "zerolinewidth": 2
          }
         }
        },
        "title": {
         "text": "Distribution of Combat"
        },
        "xaxis": {
         "anchor": "y",
         "domain": [
          0,
          1
         ],
         "title": {
          "text": "Combat"
         }
        },
        "yaxis": {
         "anchor": "x",
         "domain": [
          0,
          1
         ],
         "title": {
          "text": "count"
         }
        }
       }
      }
     },
     "metadata": {},
     "output_type": "display_data"
    }
   ],
   "source": [
    "fig = px.histogram(\n",
    "    x = vil['Combat'],\n",
    "    labels= {'x' : 'Combat'},\n",
    "    title='Distribution of Combat',\n",
    "    color_discrete_sequence=['lightcoral']\n",
    ")\n",
    "fig"
   ]
  },
  {
   "attachments": {},
   "cell_type": "markdown",
   "metadata": {},
   "source": [
    "Interactive Graphing Tool to see histograms of all types for both Good and Bad guys"
   ]
  },
  {
   "cell_type": "code",
   "execution_count": 43,
   "metadata": {},
   "outputs": [
    {
     "data": {
      "application/vnd.plotly.v1+json": {
       "config": {
        "plotlyServerURL": "https://plot.ly"
       },
       "data": [
        {
         "name": "Super Villians",
         "type": "histogram",
         "x": [
          436,
          526,
          460,
          575,
          381,
          496,
          493,
          288,
          370,
          366,
          227,
          525,
          305,
          323,
          191,
          220,
          309,
          424,
          416,
          246,
          311,
          451,
          194,
          266,
          540,
          506,
          238,
          289,
          461,
          429,
          36,
          545,
          372,
          546,
          449,
          316,
          217,
          327,
          370,
          512,
          535,
          341,
          579,
          352,
          257,
          298,
          272,
          281,
          268,
          272,
          379,
          290,
          296,
          417,
          198,
          287,
          241,
          356,
          256,
          283,
          236,
          174,
          227,
          278,
          282,
          486,
          418,
          371,
          450,
          531,
          373,
          498,
          398,
          445,
          384,
          254,
          277,
          339,
          315,
          268,
          256,
          306,
          505,
          200,
          213,
          227,
          222,
          152,
          329,
          148,
          210,
          360,
          264,
          160,
          351,
          215,
          258,
          198,
          376,
          285,
          428,
          157,
          213,
          323,
          579,
          413,
          272,
          485,
          271,
          171,
          161,
          477,
          373,
          285,
          444,
          334,
          383,
          284,
          167,
          212,
          206,
          288
         ],
         "xaxis": "x",
         "yaxis": "y"
        },
        {
         "name": "Super Villians",
         "type": "histogram",
         "visible": false,
         "x": [
          63,
          88,
          50,
          75,
          75,
          88,
          100,
          38,
          50,
          88,
          75,
          88,
          75,
          63,
          38,
          38,
          10,
          63,
          100,
          50,
          63,
          63,
          88,
          63,
          75,
          88,
          50,
          50,
          50,
          100,
          1,
          88,
          8,
          88,
          88,
          69,
          50,
          50,
          63,
          88,
          88,
          63,
          94,
          81,
          75,
          50,
          75,
          75,
          81,
          38,
          88,
          100,
          50,
          100,
          25,
          25,
          75,
          63,
          50,
          63,
          100,
          100,
          44,
          75,
          38,
          88,
          88,
          75,
          88,
          88,
          100,
          75,
          75,
          88,
          75,
          75,
          113,
          50,
          63,
          75,
          75,
          75,
          88,
          75,
          50,
          69,
          63,
          38,
          100,
          25,
          75,
          25,
          88,
          100,
          55,
          81,
          88,
          38,
          50,
          63,
          75,
          38,
          38,
          9,
          94,
          88,
          75,
          88,
          38,
          100,
          88,
          88,
          50,
          63,
          75,
          50,
          63,
          63,
          50,
          38,
          38,
          50
         ],
         "xaxis": "x",
         "yaxis": "y"
        },
        {
         "name": "Super Villians",
         "type": "histogram",
         "visible": false,
         "x": [
          80,
          100,
          85,
          100,
          80,
          90,
          100,
          63,
          11,
          53,
          12,
          100,
          10,
          32,
          10,
          10,
          83,
          80,
          28,
          11,
          53,
          63,
          10,
          10,
          93,
          100,
          10,
          48,
          95,
          32,
          32,
          80,
          63,
          95,
          80,
          10,
          8,
          32,
          81,
          85,
          95,
          53,
          100,
          89,
          10,
          34,
          48,
          55,
          12,
          13,
          63,
          10,
          38,
          48,
          7,
          48,
          18,
          38,
          34,
          32,
          10,
          10,
          10,
          53,
          51,
          83,
          57,
          36,
          80,
          100,
          28,
          95,
          90,
          85,
          53,
          32,
          10,
          73,
          60,
          28,
          10,
          12,
          85,
          10,
          10,
          14,
          38,
          10,
          28,
          10,
          10,
          80,
          11,
          10,
          53,
          10,
          10,
          28,
          52,
          10,
          80,
          10,
          8,
          93,
          100,
          80,
          10,
          100,
          72,
          10,
          10,
          83,
          80,
          10,
          57,
          57,
          73,
          22,
          28,
          10,
          16,
          10
         ],
         "xaxis": "x",
         "yaxis": "y"
        },
        {
         "name": "Super Villians",
         "type": "histogram",
         "visible": false,
         "x": [
          53,
          83,
          100,
          100,
          47,
          38,
          33,
          23,
          47,
          23,
          23,
          92,
          35,
          45,
          35,
          27,
          23,
          33,
          63,
          25,
          23,
          70,
          12,
          23,
          92,
          23,
          23,
          42,
          58,
          20,
          1,
          67,
          60,
          83,
          83,
          50,
          12,
          33,
          28,
          83,
          75,
          35,
          96,
          23,
          23,
          47,
          35,
          37,
          23,
          25,
          25,
          12,
          17,
          58,
          12,
          33,
          25,
          33,
          23,
          35,
          12,
          12,
          23,
          35,
          27,
          35,
          47,
          60,
          27,
          70,
          23,
          83,
          35,
          35,
          23,
          12,
          12,
          23,
          35,
          12,
          23,
          23,
          47,
          12,
          23,
          23,
          23,
          12,
          32,
          23,
          12,
          43,
          23,
          12,
          25,
          12,
          23,
          42,
          60,
          23,
          53,
          12,
          47,
          13,
          100,
          23,
          12,
          17,
          42,
          23,
          12,
          42,
          23,
          75,
          65,
          47,
          35,
          47,
          8,
          23,
          23,
          100
         ],
         "xaxis": "x",
         "yaxis": "y"
        },
        {
         "name": "Super Villians",
         "type": "histogram",
         "visible": false,
         "x": [
          90,
          99,
          85,
          100,
          56,
          90,
          100,
          42,
          95,
          56,
          28,
          100,
          42,
          80,
          32,
          42,
          95,
          80,
          90,
          70,
          42,
          84,
          28,
          42,
          100,
          100,
          28,
          35,
          98,
          100,
          1,
          120,
          95,
          100,
          99,
          56,
          42,
          70,
          28,
          100,
          100,
          100,
          100,
          85,
          28,
          72,
          48,
          50,
          42,
          80,
          90,
          56,
          90,
          70,
          14,
          85,
          40,
          100,
          28,
          42,
          14,
          14,
          42,
          56,
          70,
          100,
          85,
          84,
          84,
          99,
          28,
          85,
          56,
          95,
          95,
          70,
          14,
          84,
          42,
          42,
          42,
          64,
          100,
          28,
          28,
          14,
          48,
          14,
          42,
          14,
          14,
          90,
          28,
          14,
          90,
          14,
          42,
          28,
          85,
          70,
          64,
          14,
          28,
          100,
          100,
          100,
          28,
          100,
          70,
          14,
          14,
          100,
          84,
          56,
          84,
          70,
          90,
          56,
          50,
          28,
          28,
          28
         ],
         "xaxis": "x",
         "yaxis": "y"
        },
        {
         "name": "Super Villians",
         "type": "histogram",
         "visible": false,
         "x": [
          55,
          100,
          100,
          100,
          59,
          100,
          100,
          52,
          87,
          51,
          19,
          89,
          78,
          38,
          20,
          47,
          26,
          84,
          60,
          20,
          45,
          81,
          28,
          64,
          100,
          100,
          47,
          54,
          90,
          93,
          0,
          100,
          62,
          100,
          71,
          67,
          63,
          78,
          100,
          100,
          87,
          38,
          94,
          32,
          65,
          39,
          38,
          38,
          30,
          66,
          57,
          22,
          71,
          71,
          100,
          36,
          13,
          62,
          36,
          26,
          58,
          10,
          66,
          31,
          40,
          95,
          85,
          60,
          91,
          100,
          99,
          90,
          67,
          100,
          74,
          37,
          100,
          53,
          59,
          55,
          50,
          58,
          100,
          30,
          60,
          71,
          22,
          50,
          27,
          20,
          19,
          37,
          19,
          10,
          28,
          48,
          67,
          34,
          49,
          63,
          100,
          55,
          50,
          78,
          100,
          66,
          91,
          100,
          21,
          10,
          9,
          100,
          72,
          39,
          79,
          54,
          66,
          40,
          11,
          63,
          41,
          72
         ],
         "xaxis": "x",
         "yaxis": "y"
        },
        {
         "name": "Super Villians",
         "type": "histogram",
         "visible": false,
         "x": [
          95,
          56,
          40,
          100,
          64,
          90,
          60,
          70,
          80,
          95,
          70,
          56,
          65,
          65,
          56,
          56,
          72,
          84,
          75,
          70,
          85,
          90,
          28,
          64,
          80,
          95,
          80,
          60,
          70,
          84,
          1,
          90,
          84,
          80,
          28,
          64,
          42,
          64,
          70,
          56,
          90,
          52,
          95,
          42,
          56,
          56,
          28,
          26,
          80,
          50,
          56,
          90,
          30,
          70,
          40,
          60,
          70,
          60,
          85,
          85,
          42,
          28,
          42,
          28,
          56,
          85,
          56,
          56,
          80,
          74,
          95,
          70,
          75,
          42,
          64,
          28,
          28,
          56,
          56,
          56,
          56,
          74,
          85,
          45,
          42,
          36,
          28,
          28,
          100,
          56,
          80,
          85,
          95,
          14,
          100,
          50,
          28,
          28,
          80,
          56,
          56,
          28,
          42,
          30,
          85,
          56,
          56,
          80,
          28,
          14,
          28,
          64,
          64,
          42,
          84,
          56,
          56,
          56,
          20,
          50,
          60,
          28
         ],
         "xaxis": "x",
         "yaxis": "y"
        },
        {
         "name": "Super Heroes",
         "type": "histogram",
         "x": [
          233,
          316,
          299,
          406,
          320,
          61,
          388,
          386,
          162,
          245,
          210,
          389,
          225,
          184,
          103,
          360,
          418,
          268,
          435,
          186,
          314,
          363,
          179,
          329,
          233,
          290,
          232,
          306,
          238,
          324,
          296,
          334,
          346,
          317,
          165,
          457,
          467,
          375,
          178,
          255,
          161,
          325,
          482,
          227,
          264,
          287,
          335,
          279,
          302,
          265,
          225,
          320,
          349,
          222,
          356,
          243,
          253,
          206,
          155,
          395,
          232,
          379,
          319,
          373,
          480,
          363,
          246,
          459,
          281,
          374,
          260,
          314,
          405,
          218,
          391,
          306,
          272,
          132,
          295,
          323,
          237,
          239,
          178,
          270,
          335,
          301,
          234,
          374,
          352,
          366,
          251,
          399,
          206,
          291,
          248,
          387,
          215,
          229,
          392,
          232,
          342,
          270,
          359,
          312,
          331,
          348,
          312,
          173,
          60,
          263,
          150,
          360,
          521,
          257,
          266,
          419,
          370,
          426,
          398,
          274,
          284,
          205,
          148,
          376,
          329,
          213,
          461,
          132,
          281,
          461,
          315,
          259,
          356,
          458,
          412,
          343,
          239,
          306,
          318,
          492,
          343,
          348,
          262,
          517,
          295,
          222,
          140,
          369,
          295,
          207,
          262,
          248,
          134,
          206,
          446,
          85,
          391,
          132,
          218,
          201,
          238,
          316,
          208,
          329,
          323,
          328,
          292,
          581,
          417,
          425,
          214,
          272,
          160,
          305,
          224,
          367,
          298,
          168,
          197,
          354,
          302,
          451,
          294,
          247,
          254,
          381,
          308,
          392,
          275,
          257,
          324,
          339,
          442,
          276,
          253,
          296,
          271,
          160,
          347,
          538,
          423,
          350,
          232,
          422,
          267,
          194,
          517,
          392,
          490,
          256,
          239,
          257,
          364,
          111,
          147,
          228,
          414,
          260,
          372,
          271,
          262,
          220,
          198,
          285,
          218,
          237,
          195,
          291,
          393,
          357,
          329,
          448,
          389,
          281,
          280,
          346,
          414,
          198,
          273,
          480,
          231,
          399,
          266,
          229,
          291,
          299,
          470,
          347,
          420,
          280,
          255,
          210,
          568,
          377,
          334,
          434,
          170,
          325,
          367,
          335,
          125,
          487,
          544,
          579,
          323,
          243,
          189,
          376,
          546,
          482,
          225,
          400,
          295,
          309,
          428,
          224,
          350,
          369,
          133,
          467,
          491,
          464,
          337,
          246,
          492,
          324,
          332,
          199,
          369,
          369,
          446,
          480,
          90,
          336,
          465,
          164,
          182,
          388,
          292
         ],
         "xaxis": "x2",
         "yaxis": "y2"
        },
        {
         "name": "Super Heroes",
         "type": "histogram",
         "visible": false,
         "x": [
          50,
          38,
          88,
          50,
          63,
          10,
          75,
          63,
          63,
          63,
          38,
          56,
          100,
          63,
          10,
          63,
          63,
          63,
          75,
          50,
          50,
          50,
          38,
          50,
          63,
          50,
          25,
          69,
          75,
          100,
          88,
          50,
          88,
          50,
          10,
          63,
          88,
          63,
          38,
          63,
          25,
          63,
          75,
          75,
          63,
          50,
          88,
          75,
          63,
          69,
          50,
          50,
          50,
          38,
          56,
          50,
          100,
          63,
          38,
          88,
          50,
          50,
          63,
          75,
          100,
          75,
          63,
          88,
          50,
          50,
          38,
          63,
          63,
          63,
          75,
          75,
          63,
          38,
          75,
          50,
          75,
          38,
          9,
          63,
          50,
          69,
          50,
          75,
          81,
          100,
          63,
          88,
          38,
          63,
          38,
          75,
          38,
          38,
          50,
          38,
          38,
          50,
          50,
          63,
          63,
          63,
          63,
          63,
          38,
          63,
          63,
          50,
          56,
          50,
          75,
          75,
          38,
          63,
          50,
          63,
          38,
          50,
          50,
          50,
          63,
          50,
          63,
          10,
          63,
          88,
          56,
          69,
          63,
          63,
          63,
          50,
          38,
          69,
          75,
          100,
          75,
          63,
          6,
          100,
          75,
          38,
          88,
          50,
          75,
          63,
          56,
          50,
          10,
          25,
          81,
          25,
          9,
          25,
          38,
          38,
          50,
          44,
          38,
          63,
          50,
          50,
          63,
          100,
          63,
          75,
          63,
          63,
          50,
          75,
          38,
          56,
          88,
          63,
          38,
          63,
          63,
          63,
          100,
          50,
          50,
          56,
          38,
          63,
          38,
          63,
          50,
          50,
          50,
          75,
          50,
          88,
          63,
          63,
          50,
          100,
          38,
          50,
          75,
          75,
          63,
          38,
          100,
          50,
          88,
          100,
          50,
          81,
          63,
          38,
          63,
          63,
          50,
          81,
          75,
          88,
          81,
          69,
          50,
          75,
          38,
          75,
          75,
          75,
          63,
          75,
          88,
          75,
          75,
          88,
          63,
          63,
          69,
          50,
          50,
          63,
          50,
          50,
          50,
          50,
          75,
          38,
          75,
          63,
          88,
          50,
          50,
          50,
          88,
          50,
          50,
          81,
          69,
          75,
          63,
          63,
          8,
          75,
          94,
          100,
          75,
          38,
          38,
          75,
          69,
          75,
          50,
          63,
          38,
          63,
          56,
          63,
          50,
          63,
          10,
          100,
          63,
          88,
          38,
          63,
          100,
          50,
          56,
          38,
          55,
          75,
          75,
          88,
          10,
          75,
          88,
          88,
          50,
          50,
          75
         ],
         "xaxis": "x2",
         "yaxis": "y2"
        },
        {
         "name": "Super Heroes",
         "type": "histogram",
         "visible": false,
         "x": [
          31,
          100,
          14,
          90,
          10,
          8,
          28,
          80,
          10,
          13,
          10,
          48,
          10,
          10,
          16,
          44,
          80,
          13,
          82,
          10,
          63,
          80,
          10,
          15,
          18,
          10,
          53,
          12,
          10,
          18,
          11,
          53,
          48,
          28,
          7,
          80,
          100,
          90,
          10,
          36,
          10,
          14,
          67,
          16,
          10,
          11,
          16,
          13,
          28,
          14,
          8,
          10,
          34,
          10,
          85,
          75,
          10,
          28,
          10,
          48,
          10,
          28,
          19,
          77,
          100,
          81,
          13,
          80,
          10,
          80,
          9,
          10,
          83,
          16,
          53,
          10,
          10,
          10,
          13,
          32,
          14,
          8,
          4,
          10,
          10,
          32,
          12,
          80,
          16,
          10,
          10,
          32,
          32,
          11,
          10,
          63,
          13,
          28,
          81,
          8,
          63,
          8,
          53,
          10,
          10,
          10,
          10,
          10,
          10,
          10,
          5,
          55,
          100,
          32,
          12,
          85,
          80,
          90,
          85,
          10,
          38,
          12,
          6,
          28,
          53,
          10,
          100,
          8,
          10,
          100,
          10,
          10,
          63,
          95,
          32,
          10,
          28,
          10,
          23,
          85,
          48,
          55,
          34,
          80,
          10,
          38,
          10,
          80,
          12,
          12,
          8,
          10,
          10,
          4,
          90,
          10,
          80,
          5,
          10,
          10,
          10,
          55,
          6,
          32,
          48,
          32,
          44,
          100,
          85,
          73,
          10,
          10,
          10,
          34,
          10,
          62,
          10,
          8,
          28,
          67,
          32,
          85,
          10,
          10,
          36,
          67,
          73,
          80,
          63,
          11,
          85,
          72,
          80,
          11,
          10,
          11,
          52,
          5,
          18,
          85,
          60,
          10,
          11,
          85,
          28,
          10,
          80,
          63,
          98,
          8,
          16,
          14,
          28,
          10,
          4,
          16,
          88,
          11,
          38,
          11,
          11,
          8,
          5,
          10,
          10,
          10,
          10,
          80,
          70,
          53,
          55,
          80,
          12,
          8,
          12,
          48,
          100,
          10,
          57,
          100,
          28,
          85,
          32,
          34,
          36,
          18,
          60,
          38,
          55,
          42,
          48,
          12,
          85,
          80,
          40,
          82,
          10,
          10,
          80,
          63,
          1,
          95,
          98,
          100,
          67,
          10,
          10,
          84,
          100,
          83,
          32,
          80,
          81,
          32,
          73,
          10,
          80,
          63,
          4,
          72,
          80,
          36,
          72,
          8,
          80,
          32,
          32,
          16,
          32,
          90,
          100,
          100,
          10,
          24,
          53,
          10,
          10,
          100,
          10
         ],
         "xaxis": "x2",
         "yaxis": "y2"
        },
        {
         "name": "Super Heroes",
         "type": "histogram",
         "visible": false,
         "x": [
          43,
          17,
          35,
          53,
          12,
          13,
          38,
          23,
          17,
          46,
          28,
          47,
          23,
          23,
          12,
          42,
          50,
          58,
          35,
          12,
          12,
          23,
          23,
          83,
          17,
          58,
          23,
          27,
          23,
          27,
          33,
          35,
          35,
          50,
          8,
          35,
          23,
          23,
          12,
          33,
          35,
          23,
          100,
          33,
          8,
          53,
          30,
          27,
          38,
          12,
          20,
          50,
          58,
          12,
          53,
          23,
          23,
          25,
          8,
          23,
          23,
          67,
          35,
          50,
          67,
          27,
          33,
          53,
          20,
          47,
          12,
          47,
          33,
          12,
          42,
          23,
          35,
          8,
          27,
          33,
          23,
          35,
          83,
          35,
          33,
          30,
          12,
          33,
          25,
          12,
          27,
          42,
          12,
          30,
          27,
          35,
          50,
          45,
          23,
          40,
          75,
          54,
          58,
          100,
          100,
          100,
          100,
          12,
          1,
          23,
          8,
          25,
          75,
          33,
          35,
          33,
          27,
          53,
          65,
          25,
          35,
          23,
          8,
          53,
          23,
          23,
          46,
          23,
          12,
          47,
          63,
          23,
          35,
          75,
          53,
          100,
          17,
          27,
          35,
          58,
          75,
          100,
          67,
          67,
          35,
          23,
          8,
          27,
          35,
          27,
          22,
          33,
          23,
          92,
          53,
          12,
          100,
          12,
          35,
          23,
          27,
          23,
          83,
          35,
          23,
          8,
          35,
          96,
          47,
          35,
          12,
          12,
          12,
          35,
          12,
          54,
          47,
          12,
          27,
          47,
          23,
          58,
          18,
          35,
          23,
          47,
          35,
          47,
          23,
          23,
          42,
          47,
          32,
          23,
          47,
          33,
          35,
          8,
          83,
          67,
          100,
          35,
          23,
          60,
          23,
          23,
          67,
          23,
          67,
          12,
          23,
          27,
          100,
          12,
          8,
          25,
          47,
          27,
          67,
          27,
          27,
          33,
          23,
          12,
          27,
          29,
          12,
          23,
          54,
          60,
          60,
          58,
          27,
          21,
          30,
          45,
          42,
          23,
          25,
          84,
          35,
          27,
          27,
          23,
          27,
          33,
          50,
          60,
          60,
          42,
          27,
          17,
          100,
          33,
          27,
          53,
          54,
          47,
          47,
          35,
          1,
          83,
          92,
          100,
          23,
          45,
          23,
          21,
          92,
          70,
          27,
          70,
          32,
          53,
          70,
          23,
          35,
          53,
          12,
          54,
          63,
          79,
          47,
          58,
          67,
          23,
          35,
          35,
          38,
          25,
          53,
          50,
          12,
          35,
          53,
          12,
          35,
          27,
          23
         ],
         "xaxis": "x2",
         "yaxis": "y2"
        },
        {
         "name": "Super Heroes",
         "type": "histogram",
         "visible": false,
         "x": [
          32,
          80,
          42,
          64,
          100,
          5,
          80,
          90,
          10,
          64,
          28,
          85,
          28,
          28,
          14,
          75,
          80,
          64,
          80,
          14,
          80,
          99,
          28,
          56,
          20,
          42,
          54,
          56,
          28,
          42,
          28,
          74,
          56,
          70,
          10,
          95,
          100,
          85,
          32,
          60,
          28,
          75,
          84,
          10,
          70,
          28,
          60,
          32,
          50,
          90,
          28,
          80,
          80,
          42,
          50,
          28,
          28,
          10,
          10,
          56,
          28,
          99,
          56,
          60,
          95,
          90,
          28,
          64,
          80,
          56,
          100,
          64,
          100,
          14,
          85,
          42,
          42,
          10,
          28,
          70,
          85,
          42,
          42,
          42,
          100,
          70,
          56,
          80,
          80,
          84,
          28,
          95,
          90,
          28,
          90,
          90,
          28,
          28,
          100,
          14,
          90,
          55,
          56,
          50,
          60,
          60,
          32,
          28,
          1,
          28,
          10,
          100,
          90,
          40,
          28,
          70,
          64,
          64,
          100,
          60,
          95,
          14,
          10,
          99,
          85,
          42,
          85,
          14,
          32,
          100,
          70,
          28,
          78,
          95,
          100,
          60,
          40,
          70,
          42,
          85,
          46,
          30,
          80,
          100,
          42,
          80,
          10,
          64,
          28,
          32,
          20,
          70,
          14,
          42,
          42,
          14,
          90,
          14,
          28,
          28,
          10,
          95,
          14,
          84,
          64,
          100,
          42,
          100,
          42,
          80,
          14,
          42,
          14,
          70,
          42,
          70,
          56,
          14,
          28,
          56,
          80,
          100,
          70,
          14,
          42,
          52,
          95,
          52,
          84,
          70,
          42,
          70,
          80,
          42,
          14,
          28,
          28,
          10,
          56,
          101,
          100,
          99,
          28,
          95,
          28,
          28,
          100,
          100,
          95,
          14,
          28,
          35,
          60,
          14,
          10,
          20,
          95,
          32,
          60,
          28,
          28,
          16,
          28,
          28,
          32,
          20,
          14,
          56,
          85,
          74,
          40,
          84,
          100,
          25,
          50,
          64,
          100,
          28,
          52,
          101,
          42,
          90,
          42,
          46,
          42,
          40,
          90,
          65,
          74,
          32,
          42,
          60,
          110,
          85,
          90,
          90,
          10,
          30,
          56,
          25,
          10,
          90,
          100,
          100,
          28,
          28,
          32,
          90,
          100,
          84,
          32,
          84,
          64,
          38,
          84,
          42,
          70,
          64,
          28,
          95,
          100,
          95,
          70,
          52,
          89,
          100,
          65,
          42,
          100,
          80,
          90,
          100,
          1,
          90,
          95,
          28,
          28,
          100,
          28
         ],
         "xaxis": "x2",
         "yaxis": "y2"
        },
        {
         "name": "Super Heroes",
         "type": "histogram",
         "visible": false,
         "x": [
          25,
          17,
          35,
          84,
          71,
          5,
          72,
          98,
          7,
          17,
          46,
          73,
          32,
          32,
          37,
          76,
          65,
          28,
          62,
          72,
          55,
          69,
          38,
          69,
          35,
          60,
          21,
          42,
          22,
          37,
          36,
          48,
          35,
          79,
          90,
          100,
          100,
          42,
          22,
          23,
          21,
          85,
          100,
          23,
          43,
          70,
          41,
          32,
          33,
          52,
          55,
          66,
          97,
          56,
          72,
          11,
          60,
          45,
          19,
          100,
          51,
          79,
          46,
          31,
          62,
          34,
          24,
          74,
          57,
          42,
          73,
          74,
          46,
          57,
          72,
          76,
          52,
          56,
          57,
          74,
          12,
          52,
          12,
          64,
          100,
          40,
          48,
          36,
          100,
          100,
          49,
          100,
          20,
          59,
          41,
          82,
          22,
          20,
          68,
          90,
          48,
          71,
          100,
          57,
          66,
          83,
          59,
          12,
          0,
          55,
          54,
          70,
          100,
          72,
          26,
          92,
          97,
          100,
          70,
          71,
          36,
          26,
          24,
          74,
          30,
          18,
          67,
          21,
          89,
          41,
          74,
          34,
          53,
          58,
          100,
          63,
          66,
          74,
          43,
          100,
          43,
          70,
          69,
          100,
          61,
          23,
          14,
          94,
          65,
          31,
          66,
          55,
          21,
          13,
          100,
          10,
          72,
          62,
          65,
          60,
          71,
          35,
          53,
          51,
          66,
          98,
          38,
          100,
          100,
          62,
          59,
          60,
          60,
          35,
          58,
          55,
          69,
          57,
          44,
          79,
          62,
          100,
          32,
          48,
          28,
          79,
          25,
          70,
          11,
          28,
          41,
          30,
          100,
          25,
          52,
          36,
          37,
          54,
          70,
          100,
          100,
          100,
          19,
          65,
          69,
          53,
          100,
          100,
          67,
          90,
          22,
          20,
          57,
          23,
          52,
          24,
          59,
          29,
          92,
          32,
          30,
          29,
          28,
          80,
          21,
          23,
          28,
          15,
          49,
          39,
          30,
          97,
          100,
          69,
          25,
          42,
          33,
          45,
          19,
          100,
          34,
          62,
          63,
          20,
          55,
          90,
          100,
          46,
          58,
          62,
          60,
          41,
          100,
          59,
          71,
          64,
          17,
          88,
          37,
          79,
          65,
          84,
          85,
          94,
          74,
          62,
          22,
          26,
          100,
          100,
          14,
          31,
          26,
          33,
          75,
          44,
          35,
          56,
          65,
          76,
          100,
          71,
          26,
          23,
          100,
          77,
          60,
          26,
          44,
          39,
          64,
          42,
          1,
          27,
          92,
          12,
          31,
          83,
          100
         ],
         "xaxis": "x2",
         "yaxis": "y2"
        },
        {
         "name": "Super Heroes",
         "type": "histogram",
         "visible": false,
         "x": [
          52,
          64,
          85,
          65,
          64,
          20,
          95,
          32,
          55,
          42,
          60,
          80,
          32,
          28,
          14,
          60,
          80,
          42,
          101,
          28,
          54,
          42,
          42,
          56,
          80,
          70,
          56,
          100,
          80,
          100,
          100,
          74,
          84,
          40,
          40,
          84,
          56,
          72,
          64,
          40,
          42,
          65,
          56,
          70,
          70,
          75,
          100,
          100,
          90,
          28,
          64,
          64,
          30,
          64,
          40,
          56,
          32,
          35,
          70,
          80,
          70,
          56,
          100,
          80,
          56,
          56,
          85,
          100,
          64,
          99,
          28,
          56,
          80,
          56,
          64,
          80,
          70,
          10,
          95,
          64,
          28,
          64,
          28,
          56,
          42,
          60,
          56,
          70,
          50,
          60,
          74,
          42,
          14,
          100,
          42,
          42,
          64,
          70,
          70,
          42,
          28,
          32,
          42,
          32,
          32,
          32,
          48,
          48,
          10,
          84,
          10,
          60,
          100,
          30,
          90,
          64,
          64,
          56,
          28,
          45,
          42,
          80,
          50,
          72,
          75,
          70,
          100,
          56,
          75,
          85,
          42,
          95,
          64,
          72,
          64,
          60,
          50,
          56,
          100,
          64,
          56,
          30,
          6,
          70,
          72,
          20,
          10,
          54,
          80,
          42,
          90,
          30,
          56,
          30,
          80,
          14,
          40,
          14,
          42,
          42,
          70,
          64,
          14,
          64,
          72,
          40,
          70,
          85,
          80,
          100,
          56,
          85,
          14,
          56,
          64,
          70,
          28,
          14,
          32,
          42,
          42,
          45,
          64,
          90,
          75,
          80,
          42,
          80,
          56,
          62,
          64,
          70,
          100,
          100,
          80,
          100,
          56,
          20,
          70,
          85,
          25,
          56,
          76,
          42,
          56,
          42,
          70,
          56,
          75,
          32,
          100,
          80,
          56,
          14,
          10,
          80,
          75,
          80,
          40,
          85,
          85,
          65,
          64,
          80,
          90,
          80,
          56,
          42,
          72,
          56,
          56,
          54,
          75,
          70,
          100,
          84,
          70,
          42,
          70,
          32,
          42,
          85,
          52,
          56,
          56,
          80,
          95,
          75,
          85,
          52,
          28,
          30,
          85,
          70,
          56,
          64,
          10,
          75,
          84,
          70,
          40,
          60,
          75,
          85,
          56,
          60,
          64,
          80,
          85,
          70,
          70,
          72,
          54,
          90,
          70,
          42,
          80,
          70,
          14,
          70,
          85,
          95,
          84,
          42,
          56,
          42,
          84,
          42,
          100,
          60,
          64,
          100,
          56,
          85,
          84,
          14,
          28,
          28,
          56
         ],
         "xaxis": "x2",
         "yaxis": "y2"
        }
       ],
       "layout": {
        "height": 800,
        "template": {
         "data": {
          "bar": [
           {
            "error_x": {
             "color": "#2a3f5f"
            },
            "error_y": {
             "color": "#2a3f5f"
            },
            "marker": {
             "line": {
              "color": "#E5ECF6",
              "width": 0.5
             },
             "pattern": {
              "fillmode": "overlay",
              "size": 10,
              "solidity": 0.2
             }
            },
            "type": "bar"
           }
          ],
          "barpolar": [
           {
            "marker": {
             "line": {
              "color": "#E5ECF6",
              "width": 0.5
             },
             "pattern": {
              "fillmode": "overlay",
              "size": 10,
              "solidity": 0.2
             }
            },
            "type": "barpolar"
           }
          ],
          "carpet": [
           {
            "aaxis": {
             "endlinecolor": "#2a3f5f",
             "gridcolor": "white",
             "linecolor": "white",
             "minorgridcolor": "white",
             "startlinecolor": "#2a3f5f"
            },
            "baxis": {
             "endlinecolor": "#2a3f5f",
             "gridcolor": "white",
             "linecolor": "white",
             "minorgridcolor": "white",
             "startlinecolor": "#2a3f5f"
            },
            "type": "carpet"
           }
          ],
          "choropleth": [
           {
            "colorbar": {
             "outlinewidth": 0,
             "ticks": ""
            },
            "type": "choropleth"
           }
          ],
          "contour": [
           {
            "colorbar": {
             "outlinewidth": 0,
             "ticks": ""
            },
            "colorscale": [
             [
              0,
              "#0d0887"
             ],
             [
              0.1111111111111111,
              "#46039f"
             ],
             [
              0.2222222222222222,
              "#7201a8"
             ],
             [
              0.3333333333333333,
              "#9c179e"
             ],
             [
              0.4444444444444444,
              "#bd3786"
             ],
             [
              0.5555555555555556,
              "#d8576b"
             ],
             [
              0.6666666666666666,
              "#ed7953"
             ],
             [
              0.7777777777777778,
              "#fb9f3a"
             ],
             [
              0.8888888888888888,
              "#fdca26"
             ],
             [
              1,
              "#f0f921"
             ]
            ],
            "type": "contour"
           }
          ],
          "contourcarpet": [
           {
            "colorbar": {
             "outlinewidth": 0,
             "ticks": ""
            },
            "type": "contourcarpet"
           }
          ],
          "heatmap": [
           {
            "colorbar": {
             "outlinewidth": 0,
             "ticks": ""
            },
            "colorscale": [
             [
              0,
              "#0d0887"
             ],
             [
              0.1111111111111111,
              "#46039f"
             ],
             [
              0.2222222222222222,
              "#7201a8"
             ],
             [
              0.3333333333333333,
              "#9c179e"
             ],
             [
              0.4444444444444444,
              "#bd3786"
             ],
             [
              0.5555555555555556,
              "#d8576b"
             ],
             [
              0.6666666666666666,
              "#ed7953"
             ],
             [
              0.7777777777777778,
              "#fb9f3a"
             ],
             [
              0.8888888888888888,
              "#fdca26"
             ],
             [
              1,
              "#f0f921"
             ]
            ],
            "type": "heatmap"
           }
          ],
          "heatmapgl": [
           {
            "colorbar": {
             "outlinewidth": 0,
             "ticks": ""
            },
            "colorscale": [
             [
              0,
              "#0d0887"
             ],
             [
              0.1111111111111111,
              "#46039f"
             ],
             [
              0.2222222222222222,
              "#7201a8"
             ],
             [
              0.3333333333333333,
              "#9c179e"
             ],
             [
              0.4444444444444444,
              "#bd3786"
             ],
             [
              0.5555555555555556,
              "#d8576b"
             ],
             [
              0.6666666666666666,
              "#ed7953"
             ],
             [
              0.7777777777777778,
              "#fb9f3a"
             ],
             [
              0.8888888888888888,
              "#fdca26"
             ],
             [
              1,
              "#f0f921"
             ]
            ],
            "type": "heatmapgl"
           }
          ],
          "histogram": [
           {
            "marker": {
             "pattern": {
              "fillmode": "overlay",
              "size": 10,
              "solidity": 0.2
             }
            },
            "type": "histogram"
           }
          ],
          "histogram2d": [
           {
            "colorbar": {
             "outlinewidth": 0,
             "ticks": ""
            },
            "colorscale": [
             [
              0,
              "#0d0887"
             ],
             [
              0.1111111111111111,
              "#46039f"
             ],
             [
              0.2222222222222222,
              "#7201a8"
             ],
             [
              0.3333333333333333,
              "#9c179e"
             ],
             [
              0.4444444444444444,
              "#bd3786"
             ],
             [
              0.5555555555555556,
              "#d8576b"
             ],
             [
              0.6666666666666666,
              "#ed7953"
             ],
             [
              0.7777777777777778,
              "#fb9f3a"
             ],
             [
              0.8888888888888888,
              "#fdca26"
             ],
             [
              1,
              "#f0f921"
             ]
            ],
            "type": "histogram2d"
           }
          ],
          "histogram2dcontour": [
           {
            "colorbar": {
             "outlinewidth": 0,
             "ticks": ""
            },
            "colorscale": [
             [
              0,
              "#0d0887"
             ],
             [
              0.1111111111111111,
              "#46039f"
             ],
             [
              0.2222222222222222,
              "#7201a8"
             ],
             [
              0.3333333333333333,
              "#9c179e"
             ],
             [
              0.4444444444444444,
              "#bd3786"
             ],
             [
              0.5555555555555556,
              "#d8576b"
             ],
             [
              0.6666666666666666,
              "#ed7953"
             ],
             [
              0.7777777777777778,
              "#fb9f3a"
             ],
             [
              0.8888888888888888,
              "#fdca26"
             ],
             [
              1,
              "#f0f921"
             ]
            ],
            "type": "histogram2dcontour"
           }
          ],
          "mesh3d": [
           {
            "colorbar": {
             "outlinewidth": 0,
             "ticks": ""
            },
            "type": "mesh3d"
           }
          ],
          "parcoords": [
           {
            "line": {
             "colorbar": {
              "outlinewidth": 0,
              "ticks": ""
             }
            },
            "type": "parcoords"
           }
          ],
          "pie": [
           {
            "automargin": true,
            "type": "pie"
           }
          ],
          "scatter": [
           {
            "fillpattern": {
             "fillmode": "overlay",
             "size": 10,
             "solidity": 0.2
            },
            "type": "scatter"
           }
          ],
          "scatter3d": [
           {
            "line": {
             "colorbar": {
              "outlinewidth": 0,
              "ticks": ""
             }
            },
            "marker": {
             "colorbar": {
              "outlinewidth": 0,
              "ticks": ""
             }
            },
            "type": "scatter3d"
           }
          ],
          "scattercarpet": [
           {
            "marker": {
             "colorbar": {
              "outlinewidth": 0,
              "ticks": ""
             }
            },
            "type": "scattercarpet"
           }
          ],
          "scattergeo": [
           {
            "marker": {
             "colorbar": {
              "outlinewidth": 0,
              "ticks": ""
             }
            },
            "type": "scattergeo"
           }
          ],
          "scattergl": [
           {
            "marker": {
             "colorbar": {
              "outlinewidth": 0,
              "ticks": ""
             }
            },
            "type": "scattergl"
           }
          ],
          "scattermapbox": [
           {
            "marker": {
             "colorbar": {
              "outlinewidth": 0,
              "ticks": ""
             }
            },
            "type": "scattermapbox"
           }
          ],
          "scatterpolar": [
           {
            "marker": {
             "colorbar": {
              "outlinewidth": 0,
              "ticks": ""
             }
            },
            "type": "scatterpolar"
           }
          ],
          "scatterpolargl": [
           {
            "marker": {
             "colorbar": {
              "outlinewidth": 0,
              "ticks": ""
             }
            },
            "type": "scatterpolargl"
           }
          ],
          "scatterternary": [
           {
            "marker": {
             "colorbar": {
              "outlinewidth": 0,
              "ticks": ""
             }
            },
            "type": "scatterternary"
           }
          ],
          "surface": [
           {
            "colorbar": {
             "outlinewidth": 0,
             "ticks": ""
            },
            "colorscale": [
             [
              0,
              "#0d0887"
             ],
             [
              0.1111111111111111,
              "#46039f"
             ],
             [
              0.2222222222222222,
              "#7201a8"
             ],
             [
              0.3333333333333333,
              "#9c179e"
             ],
             [
              0.4444444444444444,
              "#bd3786"
             ],
             [
              0.5555555555555556,
              "#d8576b"
             ],
             [
              0.6666666666666666,
              "#ed7953"
             ],
             [
              0.7777777777777778,
              "#fb9f3a"
             ],
             [
              0.8888888888888888,
              "#fdca26"
             ],
             [
              1,
              "#f0f921"
             ]
            ],
            "type": "surface"
           }
          ],
          "table": [
           {
            "cells": {
             "fill": {
              "color": "#EBF0F8"
             },
             "line": {
              "color": "white"
             }
            },
            "header": {
             "fill": {
              "color": "#C8D4E3"
             },
             "line": {
              "color": "white"
             }
            },
            "type": "table"
           }
          ]
         },
         "layout": {
          "annotationdefaults": {
           "arrowcolor": "#2a3f5f",
           "arrowhead": 0,
           "arrowwidth": 1
          },
          "autotypenumbers": "strict",
          "coloraxis": {
           "colorbar": {
            "outlinewidth": 0,
            "ticks": ""
           }
          },
          "colorscale": {
           "diverging": [
            [
             0,
             "#8e0152"
            ],
            [
             0.1,
             "#c51b7d"
            ],
            [
             0.2,
             "#de77ae"
            ],
            [
             0.3,
             "#f1b6da"
            ],
            [
             0.4,
             "#fde0ef"
            ],
            [
             0.5,
             "#f7f7f7"
            ],
            [
             0.6,
             "#e6f5d0"
            ],
            [
             0.7,
             "#b8e186"
            ],
            [
             0.8,
             "#7fbc41"
            ],
            [
             0.9,
             "#4d9221"
            ],
            [
             1,
             "#276419"
            ]
           ],
           "sequential": [
            [
             0,
             "#0d0887"
            ],
            [
             0.1111111111111111,
             "#46039f"
            ],
            [
             0.2222222222222222,
             "#7201a8"
            ],
            [
             0.3333333333333333,
             "#9c179e"
            ],
            [
             0.4444444444444444,
             "#bd3786"
            ],
            [
             0.5555555555555556,
             "#d8576b"
            ],
            [
             0.6666666666666666,
             "#ed7953"
            ],
            [
             0.7777777777777778,
             "#fb9f3a"
            ],
            [
             0.8888888888888888,
             "#fdca26"
            ],
            [
             1,
             "#f0f921"
            ]
           ],
           "sequentialminus": [
            [
             0,
             "#0d0887"
            ],
            [
             0.1111111111111111,
             "#46039f"
            ],
            [
             0.2222222222222222,
             "#7201a8"
            ],
            [
             0.3333333333333333,
             "#9c179e"
            ],
            [
             0.4444444444444444,
             "#bd3786"
            ],
            [
             0.5555555555555556,
             "#d8576b"
            ],
            [
             0.6666666666666666,
             "#ed7953"
            ],
            [
             0.7777777777777778,
             "#fb9f3a"
            ],
            [
             0.8888888888888888,
             "#fdca26"
            ],
            [
             1,
             "#f0f921"
            ]
           ]
          },
          "colorway": [
           "#636efa",
           "#EF553B",
           "#00cc96",
           "#ab63fa",
           "#FFA15A",
           "#19d3f3",
           "#FF6692",
           "#B6E880",
           "#FF97FF",
           "#FECB52"
          ],
          "font": {
           "color": "#2a3f5f"
          },
          "geo": {
           "bgcolor": "white",
           "lakecolor": "white",
           "landcolor": "#E5ECF6",
           "showlakes": true,
           "showland": true,
           "subunitcolor": "white"
          },
          "hoverlabel": {
           "align": "left"
          },
          "hovermode": "closest",
          "mapbox": {
           "style": "light"
          },
          "paper_bgcolor": "white",
          "plot_bgcolor": "#E5ECF6",
          "polar": {
           "angularaxis": {
            "gridcolor": "white",
            "linecolor": "white",
            "ticks": ""
           },
           "bgcolor": "#E5ECF6",
           "radialaxis": {
            "gridcolor": "white",
            "linecolor": "white",
            "ticks": ""
           }
          },
          "scene": {
           "xaxis": {
            "backgroundcolor": "#E5ECF6",
            "gridcolor": "white",
            "gridwidth": 2,
            "linecolor": "white",
            "showbackground": true,
            "ticks": "",
            "zerolinecolor": "white"
           },
           "yaxis": {
            "backgroundcolor": "#E5ECF6",
            "gridcolor": "white",
            "gridwidth": 2,
            "linecolor": "white",
            "showbackground": true,
            "ticks": "",
            "zerolinecolor": "white"
           },
           "zaxis": {
            "backgroundcolor": "#E5ECF6",
            "gridcolor": "white",
            "gridwidth": 2,
            "linecolor": "white",
            "showbackground": true,
            "ticks": "",
            "zerolinecolor": "white"
           }
          },
          "shapedefaults": {
           "line": {
            "color": "#2a3f5f"
           }
          },
          "ternary": {
           "aaxis": {
            "gridcolor": "white",
            "linecolor": "white",
            "ticks": ""
           },
           "baxis": {
            "gridcolor": "white",
            "linecolor": "white",
            "ticks": ""
           },
           "bgcolor": "#E5ECF6",
           "caxis": {
            "gridcolor": "white",
            "linecolor": "white",
            "ticks": ""
           }
          },
          "title": {
           "x": 0.05
          },
          "xaxis": {
           "automargin": true,
           "gridcolor": "white",
           "linecolor": "white",
           "ticks": "",
           "title": {
            "standoff": 15
           },
           "zerolinecolor": "white",
           "zerolinewidth": 2
          },
          "yaxis": {
           "automargin": true,
           "gridcolor": "white",
           "linecolor": "white",
           "ticks": "",
           "title": {
            "standoff": 15
           },
           "zerolinecolor": "white",
           "zerolinewidth": 2
          }
         }
        },
        "title": {
         "text": "Histograms Plot of Total"
        },
        "updatemenus": [
         {
          "buttons": [
           {
            "args": [
             {
              "visible": [
               true,
               false,
               false,
               false,
               false,
               false,
               false
              ]
             },
             {
              "title": "Histograms Plot of Total"
             }
            ],
            "label": "Total",
            "method": "update"
           },
           {
            "args": [
             {
              "visible": [
               false,
               true,
               false,
               false,
               false,
               false,
               false
              ]
             },
             {
              "title": "Histogram Plots of Intelligence"
             }
            ],
            "label": "Intelligence",
            "method": "update"
           },
           {
            "args": [
             {
              "visible": [
               false,
               false,
               true,
               false,
               false,
               false,
               false
              ]
             },
             {
              "title": "Histogram Plots of Strength"
             }
            ],
            "label": "Strength",
            "method": "update"
           },
           {
            "args": [
             {
              "visible": [
               false,
               false,
               false,
               true,
               false,
               false,
               false
              ]
             },
             {
              "title": "Histogram Plots of Speed"
             }
            ],
            "label": "Speed",
            "method": "update"
           },
           {
            "args": [
             {
              "visible": [
               false,
               false,
               false,
               false,
               true,
               false,
               false
              ]
             },
             {
              "title": "Histogram Plots of Durability"
             }
            ],
            "label": "Durability",
            "method": "update"
           },
           {
            "args": [
             {
              "visible": [
               false,
               false,
               false,
               false,
               false,
               true,
               false
              ]
             },
             {
              "title": "Histogram Plots of Power"
             },
             {
              "title_x": 0.5
             }
            ],
            "label": "Power",
            "method": "update"
           },
           {
            "args": [
             {
              "visible": [
               false,
               false,
               false,
               false,
               false,
               false,
               true
              ]
             },
             {
              "title": "Histogram Plots of Combat Skills"
             }
            ],
            "label": "Combat",
            "method": "update"
           }
          ]
         }
        ],
        "xaxis": {
         "anchor": "y",
         "domain": [
          0,
          1
         ]
        },
        "xaxis2": {
         "anchor": "y2",
         "domain": [
          0,
          1
         ]
        },
        "yaxis": {
         "anchor": "x",
         "domain": [
          0.575,
          1
         ]
        },
        "yaxis2": {
         "anchor": "x2",
         "domain": [
          0,
          0.425
         ]
        }
       }
      }
     },
     "metadata": {},
     "output_type": "display_data"
    }
   ],
   "source": [
    "fig = make_subplots(rows=2, cols=1)\n",
    "fig = fig.add_traces(\n",
    "    data= [\n",
    "        go.Histogram(x=vil['Total'], name='Super Villians'),\n",
    "        go.Histogram(x=vil['Intelligence'], visible=False, name='Super Villians'),\n",
    "        go.Histogram(x=vil['Strength'], visible=False, name='Super Villians'),\n",
    "        go.Histogram(x=vil['Speed'], visible=False, name='Super Villians'),\n",
    "        go.Histogram(x=vil['Durability'], visible=False, name='Super Villians'),\n",
    "        go.Histogram(x=vil['Power'], visible=False, name='Super Villians'),\n",
    "        go.Histogram(x=vil['Combat'], visible=False, name='Super Villians'),\n",
    "    ],\n",
    "    rows = 1,\n",
    "    cols = 1,\n",
    ")\n",
    "fig.add_traces(\n",
    "    data= [\n",
    "        go.Histogram(x=good_guys['Total'], name='Super Heroes'),\n",
    "        go.Histogram(x=good_guys['Intelligence'], visible=False, name='Super Heroes'),\n",
    "        go.Histogram(x=good_guys['Strength'], visible=False, name='Super Heroes'),\n",
    "        go.Histogram(x=good_guys['Speed'], visible=False, name='Super Heroes'),\n",
    "        go.Histogram(x=good_guys['Durability'], visible=False, name='Super Heroes'),\n",
    "        go.Histogram(x=good_guys['Power'], visible=False, name='Super Heroes'),\n",
    "        go.Histogram(x=good_guys['Combat'], visible=False, name='Super Heroes')\n",
    "    ],\n",
    "    rows = 2,\n",
    "    cols = 1\n",
    ")\n",
    "\n",
    "updatemenus = [\n",
    "    {'buttons' : [\n",
    "        {\n",
    "            'method' : 'update',\n",
    "            'label' : 'Total',\n",
    "            'args' : [\n",
    "                {\"visible\": [True, False, False, False, False, False, False]},\n",
    "                {'title' : 'Histograms Plot of Total'},\n",
    "            ]\n",
    "        },\n",
    "        {\n",
    "            'method' : 'update',\n",
    "            'label' : 'Intelligence',\n",
    "            'args' : [\n",
    "                {\"visible\": [False, True, False, False, False, False, False]},\n",
    "                {'title' : 'Histogram Plots of Intelligence'},\n",
    "            ]\n",
    "        },\n",
    "        {\n",
    "            'method' : 'update',\n",
    "            'label' : 'Strength',\n",
    "            'args' : [\n",
    "                {\"visible\": [False, False, True, False, False, False, False]},\n",
    "                {'title' : 'Histogram Plots of Strength'},\n",
    "            ]\n",
    "        },\n",
    "        {\n",
    "            'method' : 'update',\n",
    "            'label' : 'Speed',\n",
    "            'args' : [\n",
    "                {\"visible\": [False, False, False, True, False, False, False]},\n",
    "                {'title' : 'Histogram Plots of Speed'},\n",
    "            ]\n",
    "        },\n",
    "        {\n",
    "            'method' : 'update',\n",
    "            'label' : 'Durability',\n",
    "            'args' : [\n",
    "                {\"visible\": [False, False, False, False, True, False, False]},\n",
    "                {'title' : 'Histogram Plots of Durability'},\n",
    "            ]\n",
    "        },\n",
    "        {\n",
    "            'method' : 'update',\n",
    "            'label' : 'Power',\n",
    "            'args' : [\n",
    "                {\"visible\": [False, False, False, False, False, True, False]},\n",
    "                {'title' : 'Histogram Plots of Power'},\n",
    "                {'title_x' : 0.5}\n",
    "            ]\n",
    "        },\n",
    "        {\n",
    "            'method' : 'update',\n",
    "            'label' : 'Combat',\n",
    "            'args' : [\n",
    "                {\"visible\": [False, False, False, False, False, False, True]},\n",
    "                {'title' : 'Histogram Plots of Combat Skills'},\n",
    "            ]\n",
    "        },\n",
    "        \n",
    "    ]}\n",
    "]\n",
    "fig.update_layout(updatemenus=updatemenus, height=800, title_text='Histograms Plot of Total')"
   ]
  },
  {
   "attachments": {},
   "cell_type": "markdown",
   "metadata": {},
   "source": [
    "A Polar graph showing the stats of any person in the dataframe that you want"
   ]
  },
  {
   "cell_type": "code",
   "execution_count": 68,
   "metadata": {},
   "outputs": [
    {
     "data": {
      "application/vnd.plotly.v1+json": {
       "config": {
        "plotlyServerURL": "https://plot.ly"
       },
       "data": [
        {
         "fill": "toself",
         "fillcolor": "mediumaquamarine",
         "marker": {
          "color": "black"
         },
         "mode": "markers",
         "name": "Superman",
         "r": [
          100,
          100,
          100,
          100,
          94,
          85
         ],
         "theta": [
          "Intelligence",
          "Strength",
          "Speed",
          "Durability",
          "Power",
          "Combat"
         ],
         "type": "scatterpolar"
        }
       ],
       "layout": {
        "template": {
         "data": {
          "bar": [
           {
            "error_x": {
             "color": "#2a3f5f"
            },
            "error_y": {
             "color": "#2a3f5f"
            },
            "marker": {
             "line": {
              "color": "#E5ECF6",
              "width": 0.5
             },
             "pattern": {
              "fillmode": "overlay",
              "size": 10,
              "solidity": 0.2
             }
            },
            "type": "bar"
           }
          ],
          "barpolar": [
           {
            "marker": {
             "line": {
              "color": "#E5ECF6",
              "width": 0.5
             },
             "pattern": {
              "fillmode": "overlay",
              "size": 10,
              "solidity": 0.2
             }
            },
            "type": "barpolar"
           }
          ],
          "carpet": [
           {
            "aaxis": {
             "endlinecolor": "#2a3f5f",
             "gridcolor": "white",
             "linecolor": "white",
             "minorgridcolor": "white",
             "startlinecolor": "#2a3f5f"
            },
            "baxis": {
             "endlinecolor": "#2a3f5f",
             "gridcolor": "white",
             "linecolor": "white",
             "minorgridcolor": "white",
             "startlinecolor": "#2a3f5f"
            },
            "type": "carpet"
           }
          ],
          "choropleth": [
           {
            "colorbar": {
             "outlinewidth": 0,
             "ticks": ""
            },
            "type": "choropleth"
           }
          ],
          "contour": [
           {
            "colorbar": {
             "outlinewidth": 0,
             "ticks": ""
            },
            "colorscale": [
             [
              0,
              "#0d0887"
             ],
             [
              0.1111111111111111,
              "#46039f"
             ],
             [
              0.2222222222222222,
              "#7201a8"
             ],
             [
              0.3333333333333333,
              "#9c179e"
             ],
             [
              0.4444444444444444,
              "#bd3786"
             ],
             [
              0.5555555555555556,
              "#d8576b"
             ],
             [
              0.6666666666666666,
              "#ed7953"
             ],
             [
              0.7777777777777778,
              "#fb9f3a"
             ],
             [
              0.8888888888888888,
              "#fdca26"
             ],
             [
              1,
              "#f0f921"
             ]
            ],
            "type": "contour"
           }
          ],
          "contourcarpet": [
           {
            "colorbar": {
             "outlinewidth": 0,
             "ticks": ""
            },
            "type": "contourcarpet"
           }
          ],
          "heatmap": [
           {
            "colorbar": {
             "outlinewidth": 0,
             "ticks": ""
            },
            "colorscale": [
             [
              0,
              "#0d0887"
             ],
             [
              0.1111111111111111,
              "#46039f"
             ],
             [
              0.2222222222222222,
              "#7201a8"
             ],
             [
              0.3333333333333333,
              "#9c179e"
             ],
             [
              0.4444444444444444,
              "#bd3786"
             ],
             [
              0.5555555555555556,
              "#d8576b"
             ],
             [
              0.6666666666666666,
              "#ed7953"
             ],
             [
              0.7777777777777778,
              "#fb9f3a"
             ],
             [
              0.8888888888888888,
              "#fdca26"
             ],
             [
              1,
              "#f0f921"
             ]
            ],
            "type": "heatmap"
           }
          ],
          "heatmapgl": [
           {
            "colorbar": {
             "outlinewidth": 0,
             "ticks": ""
            },
            "colorscale": [
             [
              0,
              "#0d0887"
             ],
             [
              0.1111111111111111,
              "#46039f"
             ],
             [
              0.2222222222222222,
              "#7201a8"
             ],
             [
              0.3333333333333333,
              "#9c179e"
             ],
             [
              0.4444444444444444,
              "#bd3786"
             ],
             [
              0.5555555555555556,
              "#d8576b"
             ],
             [
              0.6666666666666666,
              "#ed7953"
             ],
             [
              0.7777777777777778,
              "#fb9f3a"
             ],
             [
              0.8888888888888888,
              "#fdca26"
             ],
             [
              1,
              "#f0f921"
             ]
            ],
            "type": "heatmapgl"
           }
          ],
          "histogram": [
           {
            "marker": {
             "pattern": {
              "fillmode": "overlay",
              "size": 10,
              "solidity": 0.2
             }
            },
            "type": "histogram"
           }
          ],
          "histogram2d": [
           {
            "colorbar": {
             "outlinewidth": 0,
             "ticks": ""
            },
            "colorscale": [
             [
              0,
              "#0d0887"
             ],
             [
              0.1111111111111111,
              "#46039f"
             ],
             [
              0.2222222222222222,
              "#7201a8"
             ],
             [
              0.3333333333333333,
              "#9c179e"
             ],
             [
              0.4444444444444444,
              "#bd3786"
             ],
             [
              0.5555555555555556,
              "#d8576b"
             ],
             [
              0.6666666666666666,
              "#ed7953"
             ],
             [
              0.7777777777777778,
              "#fb9f3a"
             ],
             [
              0.8888888888888888,
              "#fdca26"
             ],
             [
              1,
              "#f0f921"
             ]
            ],
            "type": "histogram2d"
           }
          ],
          "histogram2dcontour": [
           {
            "colorbar": {
             "outlinewidth": 0,
             "ticks": ""
            },
            "colorscale": [
             [
              0,
              "#0d0887"
             ],
             [
              0.1111111111111111,
              "#46039f"
             ],
             [
              0.2222222222222222,
              "#7201a8"
             ],
             [
              0.3333333333333333,
              "#9c179e"
             ],
             [
              0.4444444444444444,
              "#bd3786"
             ],
             [
              0.5555555555555556,
              "#d8576b"
             ],
             [
              0.6666666666666666,
              "#ed7953"
             ],
             [
              0.7777777777777778,
              "#fb9f3a"
             ],
             [
              0.8888888888888888,
              "#fdca26"
             ],
             [
              1,
              "#f0f921"
             ]
            ],
            "type": "histogram2dcontour"
           }
          ],
          "mesh3d": [
           {
            "colorbar": {
             "outlinewidth": 0,
             "ticks": ""
            },
            "type": "mesh3d"
           }
          ],
          "parcoords": [
           {
            "line": {
             "colorbar": {
              "outlinewidth": 0,
              "ticks": ""
             }
            },
            "type": "parcoords"
           }
          ],
          "pie": [
           {
            "automargin": true,
            "type": "pie"
           }
          ],
          "scatter": [
           {
            "fillpattern": {
             "fillmode": "overlay",
             "size": 10,
             "solidity": 0.2
            },
            "type": "scatter"
           }
          ],
          "scatter3d": [
           {
            "line": {
             "colorbar": {
              "outlinewidth": 0,
              "ticks": ""
             }
            },
            "marker": {
             "colorbar": {
              "outlinewidth": 0,
              "ticks": ""
             }
            },
            "type": "scatter3d"
           }
          ],
          "scattercarpet": [
           {
            "marker": {
             "colorbar": {
              "outlinewidth": 0,
              "ticks": ""
             }
            },
            "type": "scattercarpet"
           }
          ],
          "scattergeo": [
           {
            "marker": {
             "colorbar": {
              "outlinewidth": 0,
              "ticks": ""
             }
            },
            "type": "scattergeo"
           }
          ],
          "scattergl": [
           {
            "marker": {
             "colorbar": {
              "outlinewidth": 0,
              "ticks": ""
             }
            },
            "type": "scattergl"
           }
          ],
          "scattermapbox": [
           {
            "marker": {
             "colorbar": {
              "outlinewidth": 0,
              "ticks": ""
             }
            },
            "type": "scattermapbox"
           }
          ],
          "scatterpolar": [
           {
            "marker": {
             "colorbar": {
              "outlinewidth": 0,
              "ticks": ""
             }
            },
            "type": "scatterpolar"
           }
          ],
          "scatterpolargl": [
           {
            "marker": {
             "colorbar": {
              "outlinewidth": 0,
              "ticks": ""
             }
            },
            "type": "scatterpolargl"
           }
          ],
          "scatterternary": [
           {
            "marker": {
             "colorbar": {
              "outlinewidth": 0,
              "ticks": ""
             }
            },
            "type": "scatterternary"
           }
          ],
          "surface": [
           {
            "colorbar": {
             "outlinewidth": 0,
             "ticks": ""
            },
            "colorscale": [
             [
              0,
              "#0d0887"
             ],
             [
              0.1111111111111111,
              "#46039f"
             ],
             [
              0.2222222222222222,
              "#7201a8"
             ],
             [
              0.3333333333333333,
              "#9c179e"
             ],
             [
              0.4444444444444444,
              "#bd3786"
             ],
             [
              0.5555555555555556,
              "#d8576b"
             ],
             [
              0.6666666666666666,
              "#ed7953"
             ],
             [
              0.7777777777777778,
              "#fb9f3a"
             ],
             [
              0.8888888888888888,
              "#fdca26"
             ],
             [
              1,
              "#f0f921"
             ]
            ],
            "type": "surface"
           }
          ],
          "table": [
           {
            "cells": {
             "fill": {
              "color": "#EBF0F8"
             },
             "line": {
              "color": "white"
             }
            },
            "header": {
             "fill": {
              "color": "#C8D4E3"
             },
             "line": {
              "color": "white"
             }
            },
            "type": "table"
           }
          ]
         },
         "layout": {
          "annotationdefaults": {
           "arrowcolor": "#2a3f5f",
           "arrowhead": 0,
           "arrowwidth": 1
          },
          "autotypenumbers": "strict",
          "coloraxis": {
           "colorbar": {
            "outlinewidth": 0,
            "ticks": ""
           }
          },
          "colorscale": {
           "diverging": [
            [
             0,
             "#8e0152"
            ],
            [
             0.1,
             "#c51b7d"
            ],
            [
             0.2,
             "#de77ae"
            ],
            [
             0.3,
             "#f1b6da"
            ],
            [
             0.4,
             "#fde0ef"
            ],
            [
             0.5,
             "#f7f7f7"
            ],
            [
             0.6,
             "#e6f5d0"
            ],
            [
             0.7,
             "#b8e186"
            ],
            [
             0.8,
             "#7fbc41"
            ],
            [
             0.9,
             "#4d9221"
            ],
            [
             1,
             "#276419"
            ]
           ],
           "sequential": [
            [
             0,
             "#0d0887"
            ],
            [
             0.1111111111111111,
             "#46039f"
            ],
            [
             0.2222222222222222,
             "#7201a8"
            ],
            [
             0.3333333333333333,
             "#9c179e"
            ],
            [
             0.4444444444444444,
             "#bd3786"
            ],
            [
             0.5555555555555556,
             "#d8576b"
            ],
            [
             0.6666666666666666,
             "#ed7953"
            ],
            [
             0.7777777777777778,
             "#fb9f3a"
            ],
            [
             0.8888888888888888,
             "#fdca26"
            ],
            [
             1,
             "#f0f921"
            ]
           ],
           "sequentialminus": [
            [
             0,
             "#0d0887"
            ],
            [
             0.1111111111111111,
             "#46039f"
            ],
            [
             0.2222222222222222,
             "#7201a8"
            ],
            [
             0.3333333333333333,
             "#9c179e"
            ],
            [
             0.4444444444444444,
             "#bd3786"
            ],
            [
             0.5555555555555556,
             "#d8576b"
            ],
            [
             0.6666666666666666,
             "#ed7953"
            ],
            [
             0.7777777777777778,
             "#fb9f3a"
            ],
            [
             0.8888888888888888,
             "#fdca26"
            ],
            [
             1,
             "#f0f921"
            ]
           ]
          },
          "colorway": [
           "#636efa",
           "#EF553B",
           "#00cc96",
           "#ab63fa",
           "#FFA15A",
           "#19d3f3",
           "#FF6692",
           "#B6E880",
           "#FF97FF",
           "#FECB52"
          ],
          "font": {
           "color": "#2a3f5f"
          },
          "geo": {
           "bgcolor": "white",
           "lakecolor": "white",
           "landcolor": "#E5ECF6",
           "showlakes": true,
           "showland": true,
           "subunitcolor": "white"
          },
          "hoverlabel": {
           "align": "left"
          },
          "hovermode": "closest",
          "mapbox": {
           "style": "light"
          },
          "paper_bgcolor": "white",
          "plot_bgcolor": "#E5ECF6",
          "polar": {
           "angularaxis": {
            "gridcolor": "white",
            "linecolor": "white",
            "ticks": ""
           },
           "bgcolor": "#E5ECF6",
           "radialaxis": {
            "gridcolor": "white",
            "linecolor": "white",
            "ticks": ""
           }
          },
          "scene": {
           "xaxis": {
            "backgroundcolor": "#E5ECF6",
            "gridcolor": "white",
            "gridwidth": 2,
            "linecolor": "white",
            "showbackground": true,
            "ticks": "",
            "zerolinecolor": "white"
           },
           "yaxis": {
            "backgroundcolor": "#E5ECF6",
            "gridcolor": "white",
            "gridwidth": 2,
            "linecolor": "white",
            "showbackground": true,
            "ticks": "",
            "zerolinecolor": "white"
           },
           "zaxis": {
            "backgroundcolor": "#E5ECF6",
            "gridcolor": "white",
            "gridwidth": 2,
            "linecolor": "white",
            "showbackground": true,
            "ticks": "",
            "zerolinecolor": "white"
           }
          },
          "shapedefaults": {
           "line": {
            "color": "#2a3f5f"
           }
          },
          "ternary": {
           "aaxis": {
            "gridcolor": "white",
            "linecolor": "white",
            "ticks": ""
           },
           "baxis": {
            "gridcolor": "white",
            "linecolor": "white",
            "ticks": ""
           },
           "bgcolor": "#E5ECF6",
           "caxis": {
            "gridcolor": "white",
            "linecolor": "white",
            "ticks": ""
           }
          },
          "title": {
           "x": 0.05
          },
          "xaxis": {
           "automargin": true,
           "gridcolor": "white",
           "linecolor": "white",
           "ticks": "",
           "title": {
            "standoff": 15
           },
           "zerolinecolor": "white",
           "zerolinewidth": 2
          },
          "yaxis": {
           "automargin": true,
           "gridcolor": "white",
           "linecolor": "white",
           "ticks": "",
           "title": {
            "standoff": 15
           },
           "zerolinecolor": "white",
           "zerolinewidth": 2
          }
         }
        },
        "title": {
         "text": "Superman"
        }
       }
      }
     },
     "metadata": {},
     "output_type": "display_data"
    }
   ],
   "source": [
    "def random_color():\n",
    "    return random.choice(list(mcolors.CSS4_COLORS))\n",
    "\n",
    "\n",
    "fig = go.Figure()\n",
    "fig.add_trace(\n",
    "    go.Scatterpolar(\n",
    "        mode='markers',\n",
    "        theta = ['Intelligence', 'Strength', 'Speed', 'Durability', 'Power', 'Combat'],\n",
    "        fill='toself',\n",
    "        marker_color='black'\n",
    "    )\n",
    ")\n",
    "\n",
    "\n",
    "while True:\n",
    "    x = input('Who do you want to see the data for (q to exit): ')\n",
    "    if (x == 'q'): break\n",
    "    x = x.title()\n",
    "    fig.update_traces(\n",
    "        r = data.filter(data['Name'] == x)[['Intelligence', 'Strength', 'Speed', 'Durability', 'Power', 'Combat']].rows()[0],\n",
    "        name = x,\n",
    "        fillcolor=random_color(),\n",
    "        \n",
    "    )\n",
    "    fig.update_layout(\n",
    "        title=x\n",
    "    )\n",
    "    clear_output(wait=True)\n",
    "    fig.show()\n",
    "\n",
    "\n"
   ]
  }
 ],
 "metadata": {
  "kernelspec": {
   "display_name": "Python 3",
   "language": "python",
   "name": "python3"
  },
  "language_info": {
   "codemirror_mode": {
    "name": "ipython",
    "version": 3
   },
   "file_extension": ".py",
   "mimetype": "text/x-python",
   "name": "python",
   "nbconvert_exporter": "python",
   "pygments_lexer": "ipython3",
   "version": "3.10.5"
  },
  "orig_nbformat": 4
 },
 "nbformat": 4,
 "nbformat_minor": 2
}
