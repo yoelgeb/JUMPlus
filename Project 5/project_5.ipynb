{
 "cells": [
  {
   "cell_type": "code",
   "execution_count": 2,
   "metadata": {},
   "outputs": [],
   "source": [
    "import polars as pl"
   ]
  },
  {
   "cell_type": "code",
   "execution_count": 3,
   "metadata": {},
   "outputs": [],
   "source": [
    "data = pl.read_csv('Ecommerce_purchases.csv')"
   ]
  },
  {
   "attachments": {},
   "cell_type": "markdown",
   "metadata": {},
   "source": [
    "1.\tDisplay Top 10 Rows of The Dataset"
   ]
  },
  {
   "cell_type": "code",
   "execution_count": 4,
   "metadata": {},
   "outputs": [
    {
     "data": {
      "text/html": [
       "<div><style>\n",
       ".dataframe > thead > tr > th,\n",
       ".dataframe > tbody > tr > td {\n",
       "  text-align: right;\n",
       "}\n",
       "</style>\n",
       "<small>shape: (10, 14)</small><table border=\"1\" class=\"dataframe\"><thead><tr><th>Address</th><th>Lot</th><th>AM or PM</th><th>Browser Info</th><th>Company</th><th>Credit Card</th><th>CC Exp Date</th><th>CC Security Code</th><th>CC Provider</th><th>Email</th><th>Job</th><th>IP Address</th><th>Language</th><th>Purchase Price</th></tr><tr><td>str</td><td>str</td><td>str</td><td>str</td><td>str</td><td>i64</td><td>str</td><td>i64</td><td>str</td><td>str</td><td>str</td><td>str</td><td>str</td><td>f64</td></tr></thead><tbody><tr><td>&quot;16629 Pace Cam…</td><td>&quot;46 in&quot;</td><td>&quot;PM&quot;</td><td>&quot;Opera/9.56.(X1…</td><td>&quot;Martinez-Herma…</td><td>6011929061123406</td><td>&quot;02/20&quot;</td><td>900</td><td>&quot;JCB 16 digit&quot;</td><td>&quot;pdunlap@yahoo.…</td><td>&quot;Scientist, pro…</td><td>&quot;149.146.147.20…</td><td>&quot;el&quot;</td><td>98.14</td></tr><tr><td>&quot;9374 Jasmine S…</td><td>&quot;28 rn&quot;</td><td>&quot;PM&quot;</td><td>&quot;Opera/8.93.(Wi…</td><td>&quot;Fletcher, Rich…</td><td>3337758169645356</td><td>&quot;11/18&quot;</td><td>561</td><td>&quot;Mastercard&quot;</td><td>&quot;anthony41@reed…</td><td>&quot;Drilling engin…</td><td>&quot;15.160.41.51&quot;</td><td>&quot;fr&quot;</td><td>70.73</td></tr><tr><td>&quot;Unit 0065 Box …</td><td>&quot;94 vE&quot;</td><td>&quot;PM&quot;</td><td>&quot;Mozilla/5.0 (c…</td><td>&quot;Simpson, Willi…</td><td>675957666125</td><td>&quot;08/19&quot;</td><td>699</td><td>&quot;JCB 16 digit&quot;</td><td>&quot;amymiller@mora…</td><td>&quot;Customer servi…</td><td>&quot;132.207.160.22…</td><td>&quot;de&quot;</td><td>0.95</td></tr><tr><td>&quot;7780 Julia For…</td><td>&quot;36 vm&quot;</td><td>&quot;PM&quot;</td><td>&quot;Mozilla/5.0 (M…</td><td>&quot;Williams, Mars…</td><td>6011578504430710</td><td>&quot;02/24&quot;</td><td>384</td><td>&quot;Discover&quot;</td><td>&quot;brent16@olson-…</td><td>&quot;Drilling engin…</td><td>&quot;30.250.74.19&quot;</td><td>&quot;es&quot;</td><td>78.04</td></tr><tr><td>&quot;23012 Munoz Dr…</td><td>&quot;20 IE&quot;</td><td>&quot;AM&quot;</td><td>&quot;Opera/9.58.(X1…</td><td>&quot;Brown, Watson …</td><td>6011456623207998</td><td>&quot;10/25&quot;</td><td>678</td><td>&quot;Diners Club / …</td><td>&quot;christopherwri…</td><td>&quot;Fine artist&quot;</td><td>&quot;24.140.33.94&quot;</td><td>&quot;es&quot;</td><td>77.82</td></tr><tr><td>&quot;7502 Powell Mi…</td><td>&quot;21 XT&quot;</td><td>&quot;PM&quot;</td><td>&quot;Mozilla/5.0 (M…</td><td>&quot;Silva-Anderson…</td><td>30246185196287</td><td>&quot;07/25&quot;</td><td>7169</td><td>&quot;Discover&quot;</td><td>&quot;ynguyen@gmail.…</td><td>&quot;Fish farm mana…</td><td>&quot;55.96.152.147&quot;</td><td>&quot;ru&quot;</td><td>25.15</td></tr><tr><td>&quot;93971 Conway C…</td><td>&quot;96 Xt&quot;</td><td>&quot;AM&quot;</td><td>&quot;Mozilla/5.0 (c…</td><td>&quot;Gibson and Son…</td><td>6011398782655569</td><td>&quot;07/24&quot;</td><td>714</td><td>&quot;VISA 16 digit&quot;</td><td>&quot;olivia04@yahoo…</td><td>&quot;Dancer&quot;</td><td>&quot;127.252.144.18…</td><td>&quot;de&quot;</td><td>88.56</td></tr><tr><td>&quot;260 Rachel Pla…</td><td>&quot;96 pG&quot;</td><td>&quot;PM&quot;</td><td>&quot;Mozilla/5.0 (X…</td><td>&quot;Marshall-Colli…</td><td>561252141909</td><td>&quot;06/25&quot;</td><td>256</td><td>&quot;VISA 13 digit&quot;</td><td>&quot;phillip48@park…</td><td>&quot;Event organise…</td><td>&quot;224.247.97.150…</td><td>&quot;pt&quot;</td><td>44.25</td></tr><tr><td>&quot;2129 Dylan Bur…</td><td>&quot;45 JN&quot;</td><td>&quot;PM&quot;</td><td>&quot;Mozilla/5.0 (M…</td><td>&quot;Galloway and S…</td><td>180041795790001</td><td>&quot;04/24&quot;</td><td>899</td><td>&quot;JCB 16 digit&quot;</td><td>&quot;kdavis@rasmuss…</td><td>&quot;Financial mana…</td><td>&quot;146.234.201.22…</td><td>&quot;ru&quot;</td><td>59.54</td></tr><tr><td>&quot;3795 Dawson Ex…</td><td>&quot;15 Ug&quot;</td><td>&quot;AM&quot;</td><td>&quot;Mozilla/5.0 (X…</td><td>&quot;Rivera, Buchan…</td><td>4396283918371</td><td>&quot;01/17&quot;</td><td>931</td><td>&quot;American Expre…</td><td>&quot;qcoleman@hunt-…</td><td>&quot;Forensic scien…</td><td>&quot;236.198.199.8&quot;</td><td>&quot;zh&quot;</td><td>95.63</td></tr></tbody></table></div>"
      ],
      "text/plain": [
       "shape: (10, 14)\n",
       "┌────────────┬───────┬──────────┬────────────┬───┬────────────┬────────────┬──────────┬────────────┐\n",
       "│ Address    ┆ Lot   ┆ AM or PM ┆ Browser    ┆ … ┆ Job        ┆ IP Address ┆ Language ┆ Purchase   │\n",
       "│ ---        ┆ ---   ┆ ---      ┆ Info       ┆   ┆ ---        ┆ ---        ┆ ---      ┆ Price      │\n",
       "│ str        ┆ str   ┆ str      ┆ ---        ┆   ┆ str        ┆ str        ┆ str      ┆ ---        │\n",
       "│            ┆       ┆          ┆ str        ┆   ┆            ┆            ┆          ┆ f64        │\n",
       "╞════════════╪═══════╪══════════╪════════════╪═══╪════════════╪════════════╪══════════╪════════════╡\n",
       "│ 16629 Pace ┆ 46 in ┆ PM       ┆ Opera/9.56 ┆ … ┆ Scientist, ┆ 149.146.14 ┆ el       ┆ 98.14      │\n",
       "│ Camp Apt.  ┆       ┆          ┆ .(X11;     ┆   ┆ product/pr ┆ 7.205      ┆          ┆            │\n",
       "│ 448\n",
       "        ┆       ┆          ┆ Linux      ┆   ┆ ocess      ┆            ┆          ┆            │\n",
       "│ Alexis…    ┆       ┆          ┆ x86_64; s… ┆   ┆ devel…     ┆            ┆          ┆            │\n",
       "│ 9374       ┆ 28 rn ┆ PM       ┆ Opera/8.93 ┆ … ┆ Drilling   ┆ 15.160.41. ┆ fr       ┆ 70.73      │\n",
       "│ Jasmine    ┆       ┆          ┆ .(Windows  ┆   ┆ engineer   ┆ 51         ┆          ┆            │\n",
       "│ Spurs      ┆       ┆          ┆ 98; Win 9x ┆   ┆            ┆            ┆          ┆            │\n",
       "│ Suite 508\n",
       "  ┆       ┆          ┆ 4…         ┆   ┆            ┆            ┆          ┆            │\n",
       "│ So…        ┆       ┆          ┆            ┆   ┆            ┆            ┆          ┆            │\n",
       "│ Unit 0065  ┆ 94 vE ┆ PM       ┆ Mozilla/5. ┆ … ┆ Customer   ┆ 132.207.16 ┆ de       ┆ 0.95       │\n",
       "│ Box 5052\n",
       "   ┆       ┆          ┆ 0 (compati ┆   ┆ service    ┆ 0.22       ┆          ┆            │\n",
       "│ DPO AP     ┆       ┆          ┆ ble; MSIE  ┆   ┆ manager    ┆            ┆          ┆            │\n",
       "│ 27450      ┆       ┆          ┆ 9.…        ┆   ┆            ┆            ┆          ┆            │\n",
       "│ 7780 Julia ┆ 36 vm ┆ PM       ┆ Mozilla/5. ┆ … ┆ Drilling   ┆ 30.250.74. ┆ es       ┆ 78.04      │\n",
       "│ Fords\n",
       "      ┆       ┆          ┆ 0 (Macinto ┆   ┆ engineer   ┆ 19         ┆          ┆            │\n",
       "│ New Stacy, ┆       ┆          ┆ sh; Intel  ┆   ┆            ┆            ┆          ┆            │\n",
       "│ WA …       ┆       ┆          ┆ Ma…        ┆   ┆            ┆            ┆          ┆            │\n",
       "│ …          ┆ …     ┆ …        ┆ …          ┆ … ┆ …          ┆ …          ┆ …        ┆ …          │\n",
       "│ 93971      ┆ 96 Xt ┆ AM       ┆ Mozilla/5. ┆ … ┆ Dancer     ┆ 127.252.14 ┆ de       ┆ 88.56      │\n",
       "│ Conway     ┆       ┆          ┆ 0 (compati ┆   ┆            ┆ 4.18       ┆          ┆            │\n",
       "│ Causeway\n",
       "   ┆       ┆          ┆ ble; MSIE  ┆   ┆            ┆            ┆          ┆            │\n",
       "│ Andersonb… ┆       ┆          ┆ 7.…        ┆   ┆            ┆            ┆          ┆            │\n",
       "│ 260 Rachel ┆ 96 pG ┆ PM       ┆ Mozilla/5. ┆ … ┆ Event      ┆ 224.247.97 ┆ pt       ┆ 44.25      │\n",
       "│ Plains     ┆       ┆          ┆ 0 (X11;    ┆   ┆ organiser  ┆ .150       ┆          ┆            │\n",
       "│ Suite 366\n",
       "  ┆       ┆          ┆ Linux      ┆   ┆            ┆            ┆          ┆            │\n",
       "│ Cas…       ┆       ┆          ┆ i686) Ap…  ┆   ┆            ┆            ┆          ┆            │\n",
       "│ 2129 Dylan ┆ 45 JN ┆ PM       ┆ Mozilla/5. ┆ … ┆ Financial  ┆ 146.234.20 ┆ ru       ┆ 59.54      │\n",
       "│ Burg\n",
       "       ┆       ┆          ┆ 0 (Macinto ┆   ┆ manager    ┆ 1.229      ┆          ┆            │\n",
       "│ New        ┆       ┆          ┆ sh; U;     ┆   ┆            ┆            ┆          ┆            │\n",
       "│ Michelle,  ┆       ┆          ┆ Intel…     ┆   ┆            ┆            ┆          ┆            │\n",
       "│ M…         ┆       ┆          ┆            ┆   ┆            ┆            ┆          ┆            │\n",
       "│ 3795       ┆ 15 Ug ┆ AM       ┆ Mozilla/5. ┆ … ┆ Forensic   ┆ 236.198.19 ┆ zh       ┆ 95.63      │\n",
       "│ Dawson     ┆       ┆          ┆ 0 (X11;    ┆   ┆ scientist  ┆ 9.8        ┆          ┆            │\n",
       "│ Extensions\n",
       " ┆       ┆          ┆ Linux      ┆   ┆            ┆            ┆          ┆            │\n",
       "│ Lake Tin…  ┆       ┆          ┆ i686; rv…  ┆   ┆            ┆            ┆          ┆            │\n",
       "└────────────┴───────┴──────────┴────────────┴───┴────────────┴────────────┴──────────┴────────────┘"
      ]
     },
     "execution_count": 4,
     "metadata": {},
     "output_type": "execute_result"
    }
   ],
   "source": [
    "data.head(10)"
   ]
  },
  {
   "attachments": {},
   "cell_type": "markdown",
   "metadata": {},
   "source": [
    "2.\tCheck Last 10 Rows of The Dataset"
   ]
  },
  {
   "cell_type": "code",
   "execution_count": 5,
   "metadata": {},
   "outputs": [
    {
     "data": {
      "text/html": [
       "<div><style>\n",
       ".dataframe > thead > tr > th,\n",
       ".dataframe > tbody > tr > td {\n",
       "  text-align: right;\n",
       "}\n",
       "</style>\n",
       "<small>shape: (10, 14)</small><table border=\"1\" class=\"dataframe\"><thead><tr><th>Address</th><th>Lot</th><th>AM or PM</th><th>Browser Info</th><th>Company</th><th>Credit Card</th><th>CC Exp Date</th><th>CC Security Code</th><th>CC Provider</th><th>Email</th><th>Job</th><th>IP Address</th><th>Language</th><th>Purchase Price</th></tr><tr><td>str</td><td>str</td><td>str</td><td>str</td><td>str</td><td>i64</td><td>str</td><td>i64</td><td>str</td><td>str</td><td>str</td><td>str</td><td>str</td><td>f64</td></tr></thead><tbody><tr><td>&quot;75731 Molly Sp…</td><td>&quot;93 ty&quot;</td><td>&quot;PM&quot;</td><td>&quot;Mozilla/5.0 (M…</td><td>&quot;Pace, Vazquez …</td><td>869968197049750</td><td>&quot;04/24&quot;</td><td>877</td><td>&quot;JCB 15 digit&quot;</td><td>&quot;andersonmichae…</td><td>&quot;Early years te…</td><td>&quot;54.170.3.185&quot;</td><td>&quot;ru&quot;</td><td>18.35</td></tr><tr><td>&quot;PSC 8165, Box …</td><td>&quot;50 dA&quot;</td><td>&quot;AM&quot;</td><td>&quot;Mozilla/5.0 (c…</td><td>&quot;Snyder Inc&quot;</td><td>4221582137197481</td><td>&quot;02/24&quot;</td><td>969</td><td>&quot;Voyager&quot;</td><td>&quot;kking@wise-liu…</td><td>&quot;IT sales profe…</td><td>&quot;254.25.31.156&quot;</td><td>&quot;el&quot;</td><td>25.93</td></tr><tr><td>&quot;885 Allen Moun…</td><td>&quot;40 vH&quot;</td><td>&quot;PM&quot;</td><td>&quot;Mozilla/5.0 (M…</td><td>&quot;Wells Ltd&quot;</td><td>4664825258997302</td><td>&quot;10/20&quot;</td><td>431</td><td>&quot;Discover&quot;</td><td>&quot;bberry@wright.…</td><td>&quot;Set designer&quot;</td><td>&quot;174.173.51.32&quot;</td><td>&quot;de&quot;</td><td>67.96</td></tr><tr><td>&quot;7555 Larson Lo…</td><td>&quot;72 jg&quot;</td><td>&quot;PM&quot;</td><td>&quot;Mozilla/5.0 (M…</td><td>&quot;Colon and Sons…</td><td>30025560104631</td><td>&quot;10/25&quot;</td><td>629</td><td>&quot;Maestro&quot;</td><td>&quot;chelseawilliam…</td><td>&quot;Designer, exhi…</td><td>&quot;177.46.82.128&quot;</td><td>&quot;el&quot;</td><td>65.61</td></tr><tr><td>&quot;6276 Rojas Hol…</td><td>&quot;93 Ex&quot;</td><td>&quot;PM&quot;</td><td>&quot;Opera/9.68.(X1…</td><td>&quot;Ritter-Smith&quot;</td><td>3112186784121077</td><td>&quot;01/25&quot;</td><td>1823</td><td>&quot;Maestro&quot;</td><td>&quot;iroberts@gmail…</td><td>&quot;Education offi…</td><td>&quot;242.44.112.18&quot;</td><td>&quot;zh&quot;</td><td>31.85</td></tr><tr><td>&quot;966 Castaneda …</td><td>&quot;92 XI&quot;</td><td>&quot;PM&quot;</td><td>&quot;Mozilla/5.0 (W…</td><td>&quot;Randall-Sloan&quot;</td><td>342945015358701</td><td>&quot;03/22&quot;</td><td>838</td><td>&quot;JCB 15 digit&quot;</td><td>&quot;iscott@wade-ga…</td><td>&quot;Printmaker&quot;</td><td>&quot;29.73.197.114&quot;</td><td>&quot;it&quot;</td><td>82.21</td></tr><tr><td>&quot;832 Curtis Dam…</td><td>&quot;41 JY&quot;</td><td>&quot;AM&quot;</td><td>&quot;Mozilla/5.0 (c…</td><td>&quot;Hale, Collins …</td><td>210033169205009</td><td>&quot;07/25&quot;</td><td>207</td><td>&quot;JCB 16 digit&quot;</td><td>&quot;mary85@hotmail…</td><td>&quot;Energy enginee…</td><td>&quot;121.133.168.51…</td><td>&quot;pt&quot;</td><td>25.63</td></tr><tr><td>&quot;Unit 4434 Box …</td><td>&quot;74 Zh&quot;</td><td>&quot;AM&quot;</td><td>&quot;Mozilla/5.0 (M…</td><td>&quot;Anderson Ltd&quot;</td><td>6011539787356311</td><td>&quot;05/21&quot;</td><td>1</td><td>&quot;VISA 16 digit&quot;</td><td>&quot;tyler16@gmail.…</td><td>&quot;Veterinary sur…</td><td>&quot;156.210.0.254&quot;</td><td>&quot;el&quot;</td><td>83.98</td></tr><tr><td>&quot;0096 English R…</td><td>&quot;74 cL&quot;</td><td>&quot;PM&quot;</td><td>&quot;Mozilla/5.0 (M…</td><td>&quot;Cook Inc&quot;</td><td>180003348082930</td><td>&quot;11/17&quot;</td><td>987</td><td>&quot;American Expre…</td><td>&quot;elizabethmoore…</td><td>&quot;Local governme…</td><td>&quot;55.78.26.143&quot;</td><td>&quot;es&quot;</td><td>38.84</td></tr><tr><td>&quot;40674 Barrett …</td><td>&quot;64 Hr&quot;</td><td>&quot;AM&quot;</td><td>&quot;Mozilla/5.0 (X…</td><td>&quot;Greene Inc&quot;</td><td>4139972901927273</td><td>&quot;02/19&quot;</td><td>302</td><td>&quot;JCB 15 digit&quot;</td><td>&quot;rachelford@vau…</td><td>&quot;Embryologist, …</td><td>&quot;176.119.198.19…</td><td>&quot;el&quot;</td><td>67.59</td></tr></tbody></table></div>"
      ],
      "text/plain": [
       "shape: (10, 14)\n",
       "┌────────────┬───────┬──────────┬────────────┬───┬────────────┬────────────┬──────────┬────────────┐\n",
       "│ Address    ┆ Lot   ┆ AM or PM ┆ Browser    ┆ … ┆ Job        ┆ IP Address ┆ Language ┆ Purchase   │\n",
       "│ ---        ┆ ---   ┆ ---      ┆ Info       ┆   ┆ ---        ┆ ---        ┆ ---      ┆ Price      │\n",
       "│ str        ┆ str   ┆ str      ┆ ---        ┆   ┆ str        ┆ str        ┆ str      ┆ ---        │\n",
       "│            ┆       ┆          ┆ str        ┆   ┆            ┆            ┆          ┆ f64        │\n",
       "╞════════════╪═══════╪══════════╪════════════╪═══╪════════════╪════════════╪══════════╪════════════╡\n",
       "│ 75731      ┆ 93 ty ┆ PM       ┆ Mozilla/5. ┆ … ┆ Early      ┆ 54.170.3.1 ┆ ru       ┆ 18.35      │\n",
       "│ Molly      ┆       ┆          ┆ 0 (Macinto ┆   ┆ years      ┆ 85         ┆          ┆            │\n",
       "│ Springs\n",
       "    ┆       ┆          ┆ sh; Intel  ┆   ┆ teacher    ┆            ┆          ┆            │\n",
       "│ West       ┆       ┆          ┆ Ma…        ┆   ┆            ┆            ┆          ┆            │\n",
       "│ Daniel…    ┆       ┆          ┆            ┆   ┆            ┆            ┆          ┆            │\n",
       "│ PSC 8165,  ┆ 50 dA ┆ AM       ┆ Mozilla/5. ┆ … ┆ IT sales   ┆ 254.25.31. ┆ el       ┆ 25.93      │\n",
       "│ Box 8498\n",
       "   ┆       ┆          ┆ 0 (compati ┆   ┆ profession ┆ 156        ┆          ┆            │\n",
       "│ APO AP     ┆       ┆          ┆ ble; MSIE  ┆   ┆ al         ┆            ┆          ┆            │\n",
       "│ 60327…     ┆       ┆          ┆ 8.…        ┆   ┆            ┆            ┆          ┆            │\n",
       "│ 885 Allen  ┆ 40 vH ┆ PM       ┆ Mozilla/5. ┆ … ┆ Set        ┆ 174.173.51 ┆ de       ┆ 67.96      │\n",
       "│ Mountains  ┆       ┆          ┆ 0 (Macinto ┆   ┆ designer   ┆ .32        ┆          ┆            │\n",
       "│ Apt. 230\n",
       "   ┆       ┆          ┆ sh; PPC    ┆   ┆            ┆            ┆          ┆            │\n",
       "│ Wa…        ┆       ┆          ┆ Mac …      ┆   ┆            ┆            ┆          ┆            │\n",
       "│ 7555       ┆ 72 jg ┆ PM       ┆ Mozilla/5. ┆ … ┆ Designer,  ┆ 177.46.82. ┆ el       ┆ 65.61      │\n",
       "│ Larson     ┆       ┆          ┆ 0 (Macinto ┆   ┆ exhibition ┆ 128        ┆          ┆            │\n",
       "│ Locks      ┆       ┆          ┆ sh; U;     ┆   ┆ /display   ┆            ┆          ┆            │\n",
       "│ Suite 229\n",
       "  ┆       ┆          ┆ Intel…     ┆   ┆            ┆            ┆          ┆            │\n",
       "│ Ell…       ┆       ┆          ┆            ┆   ┆            ┆            ┆          ┆            │\n",
       "│ …          ┆ …     ┆ …        ┆ …          ┆ … ┆ …          ┆ …          ┆ …        ┆ …          │\n",
       "│ 832 Curtis ┆ 41 JY ┆ AM       ┆ Mozilla/5. ┆ … ┆ Energy     ┆ 121.133.16 ┆ pt       ┆ 25.63      │\n",
       "│ Dam Suite  ┆       ┆          ┆ 0 (compati ┆   ┆ engineer   ┆ 8.51       ┆          ┆            │\n",
       "│ 785\n",
       "        ┆       ┆          ┆ ble; MSIE  ┆   ┆            ┆            ┆          ┆            │\n",
       "│ North …    ┆       ┆          ┆ 9.…        ┆   ┆            ┆            ┆          ┆            │\n",
       "│ Unit 4434  ┆ 74 Zh ┆ AM       ┆ Mozilla/5. ┆ … ┆ Veterinary ┆ 156.210.0. ┆ el       ┆ 83.98      │\n",
       "│ Box 6343\n",
       "   ┆       ┆          ┆ 0 (Macinto ┆   ┆ surgeon    ┆ 254        ┆          ┆            │\n",
       "│ DPO AE     ┆       ┆          ┆ sh; U;     ┆   ┆            ┆            ┆          ┆            │\n",
       "│ 28026…     ┆       ┆          ┆ Intel…     ┆   ┆            ┆            ┆          ┆            │\n",
       "│ 0096       ┆ 74 cL ┆ PM       ┆ Mozilla/5. ┆ … ┆ Local      ┆ 55.78.26.1 ┆ es       ┆ 38.84      │\n",
       "│ English    ┆       ┆          ┆ 0 (Macinto ┆   ┆ government ┆ 43         ┆          ┆            │\n",
       "│ Rest\n",
       "       ┆       ┆          ┆ sh; Intel  ┆   ┆ officer    ┆            ┆          ┆            │\n",
       "│ Roystad,   ┆       ┆          ┆ Ma…        ┆   ┆            ┆            ┆          ┆            │\n",
       "│ IA 1…      ┆       ┆          ┆            ┆   ┆            ┆            ┆          ┆            │\n",
       "│ 40674      ┆ 64 Hr ┆ AM       ┆ Mozilla/5. ┆ … ┆ Embryologi ┆ 176.119.19 ┆ el       ┆ 67.59      │\n",
       "│ Barrett    ┆       ┆          ┆ 0 (X11;    ┆   ┆ st,        ┆ 8.199      ┆          ┆            │\n",
       "│ Stravenue\n",
       "  ┆       ┆          ┆ Linux      ┆   ┆ clinical   ┆            ┆          ┆            │\n",
       "│ Grimesv…   ┆       ┆          ┆ i686; rv…  ┆   ┆            ┆            ┆          ┆            │\n",
       "└────────────┴───────┴──────────┴────────────┴───┴────────────┴────────────┴──────────┴────────────┘"
      ]
     },
     "execution_count": 5,
     "metadata": {},
     "output_type": "execute_result"
    }
   ],
   "source": [
    "data.tail(10)"
   ]
  },
  {
   "attachments": {},
   "cell_type": "markdown",
   "metadata": {},
   "source": [
    "4.\tCheck null values in the dataset."
   ]
  },
  {
   "cell_type": "code",
   "execution_count": 6,
   "metadata": {},
   "outputs": [
    {
     "data": {
      "text/html": [
       "<div><style>\n",
       ".dataframe > thead > tr > th,\n",
       ".dataframe > tbody > tr > td {\n",
       "  text-align: right;\n",
       "}\n",
       "</style>\n",
       "<small>shape: (1, 14)</small><table border=\"1\" class=\"dataframe\"><thead><tr><th>Address</th><th>Lot</th><th>AM or PM</th><th>Browser Info</th><th>Company</th><th>Credit Card</th><th>CC Exp Date</th><th>CC Security Code</th><th>CC Provider</th><th>Email</th><th>Job</th><th>IP Address</th><th>Language</th><th>Purchase Price</th></tr><tr><td>u32</td><td>u32</td><td>u32</td><td>u32</td><td>u32</td><td>u32</td><td>u32</td><td>u32</td><td>u32</td><td>u32</td><td>u32</td><td>u32</td><td>u32</td><td>u32</td></tr></thead><tbody><tr><td>0</td><td>0</td><td>0</td><td>0</td><td>0</td><td>0</td><td>0</td><td>0</td><td>0</td><td>0</td><td>0</td><td>0</td><td>0</td><td>0</td></tr></tbody></table></div>"
      ],
      "text/plain": [
       "shape: (1, 14)\n",
       "┌─────────┬─────┬──────────┬──────────────┬───┬─────┬────────────┬──────────┬────────────────┐\n",
       "│ Address ┆ Lot ┆ AM or PM ┆ Browser Info ┆ … ┆ Job ┆ IP Address ┆ Language ┆ Purchase Price │\n",
       "│ ---     ┆ --- ┆ ---      ┆ ---          ┆   ┆ --- ┆ ---        ┆ ---      ┆ ---            │\n",
       "│ u32     ┆ u32 ┆ u32      ┆ u32          ┆   ┆ u32 ┆ u32        ┆ u32      ┆ u32            │\n",
       "╞═════════╪═════╪══════════╪══════════════╪═══╪═════╪════════════╪══════════╪════════════════╡\n",
       "│ 0       ┆ 0   ┆ 0        ┆ 0            ┆ … ┆ 0   ┆ 0          ┆ 0        ┆ 0              │\n",
       "└─────────┴─────┴──────────┴──────────────┴───┴─────┴────────────┴──────────┴────────────────┘"
      ]
     },
     "execution_count": 6,
     "metadata": {},
     "output_type": "execute_result"
    }
   ],
   "source": [
    "data.null_count()"
   ]
  },
  {
   "attachments": {},
   "cell_type": "markdown",
   "metadata": {},
   "source": [
    "5.\tHow many rows and columns are there in our Dataset?"
   ]
  },
  {
   "cell_type": "code",
   "execution_count": 7,
   "metadata": {},
   "outputs": [
    {
     "name": "stdout",
     "output_type": "stream",
     "text": [
      "There are 10000 rows\n",
      "There are 14 columns\n",
      "['Address', 'Lot', 'AM or PM', 'Browser Info', 'Company', 'Credit Card', 'CC Exp Date', 'CC Security Code', 'CC Provider', 'Email', 'Job', 'IP Address', 'Language', 'Purchase Price']\n"
     ]
    }
   ],
   "source": [
    "print(f'There are {data.shape[0]} rows')\n",
    "print(f'There are {data.shape[1]} columns')\n",
    "print(f'{data.columns}')"
   ]
  },
  {
   "attachments": {},
   "cell_type": "markdown",
   "metadata": {},
   "source": [
    "8.\tShow complete information of dataset."
   ]
  },
  {
   "cell_type": "code",
   "execution_count": 8,
   "metadata": {},
   "outputs": [
    {
     "data": {
      "text/html": [
       "<div><style>\n",
       ".dataframe > thead > tr > th,\n",
       ".dataframe > tbody > tr > td {\n",
       "  text-align: right;\n",
       "}\n",
       "</style>\n",
       "<small>shape: (10000, 14)</small><table border=\"1\" class=\"dataframe\"><thead><tr><th>Address</th><th>Lot</th><th>AM or PM</th><th>Browser Info</th><th>Company</th><th>Credit Card</th><th>CC Exp Date</th><th>CC Security Code</th><th>CC Provider</th><th>Email</th><th>Job</th><th>IP Address</th><th>Language</th><th>Purchase Price</th></tr><tr><td>str</td><td>str</td><td>str</td><td>str</td><td>str</td><td>i64</td><td>str</td><td>i64</td><td>str</td><td>str</td><td>str</td><td>str</td><td>str</td><td>f64</td></tr></thead><tbody><tr><td>&quot;16629 Pace Cam…</td><td>&quot;46 in&quot;</td><td>&quot;PM&quot;</td><td>&quot;Opera/9.56.(X1…</td><td>&quot;Martinez-Herma…</td><td>6011929061123406</td><td>&quot;02/20&quot;</td><td>900</td><td>&quot;JCB 16 digit&quot;</td><td>&quot;pdunlap@yahoo.…</td><td>&quot;Scientist, pro…</td><td>&quot;149.146.147.20…</td><td>&quot;el&quot;</td><td>98.14</td></tr><tr><td>&quot;9374 Jasmine S…</td><td>&quot;28 rn&quot;</td><td>&quot;PM&quot;</td><td>&quot;Opera/8.93.(Wi…</td><td>&quot;Fletcher, Rich…</td><td>3337758169645356</td><td>&quot;11/18&quot;</td><td>561</td><td>&quot;Mastercard&quot;</td><td>&quot;anthony41@reed…</td><td>&quot;Drilling engin…</td><td>&quot;15.160.41.51&quot;</td><td>&quot;fr&quot;</td><td>70.73</td></tr><tr><td>&quot;Unit 0065 Box …</td><td>&quot;94 vE&quot;</td><td>&quot;PM&quot;</td><td>&quot;Mozilla/5.0 (c…</td><td>&quot;Simpson, Willi…</td><td>675957666125</td><td>&quot;08/19&quot;</td><td>699</td><td>&quot;JCB 16 digit&quot;</td><td>&quot;amymiller@mora…</td><td>&quot;Customer servi…</td><td>&quot;132.207.160.22…</td><td>&quot;de&quot;</td><td>0.95</td></tr><tr><td>&quot;7780 Julia For…</td><td>&quot;36 vm&quot;</td><td>&quot;PM&quot;</td><td>&quot;Mozilla/5.0 (M…</td><td>&quot;Williams, Mars…</td><td>6011578504430710</td><td>&quot;02/24&quot;</td><td>384</td><td>&quot;Discover&quot;</td><td>&quot;brent16@olson-…</td><td>&quot;Drilling engin…</td><td>&quot;30.250.74.19&quot;</td><td>&quot;es&quot;</td><td>78.04</td></tr><tr><td>&quot;23012 Munoz Dr…</td><td>&quot;20 IE&quot;</td><td>&quot;AM&quot;</td><td>&quot;Opera/9.58.(X1…</td><td>&quot;Brown, Watson …</td><td>6011456623207998</td><td>&quot;10/25&quot;</td><td>678</td><td>&quot;Diners Club / …</td><td>&quot;christopherwri…</td><td>&quot;Fine artist&quot;</td><td>&quot;24.140.33.94&quot;</td><td>&quot;es&quot;</td><td>77.82</td></tr><tr><td>&quot;7502 Powell Mi…</td><td>&quot;21 XT&quot;</td><td>&quot;PM&quot;</td><td>&quot;Mozilla/5.0 (M…</td><td>&quot;Silva-Anderson…</td><td>30246185196287</td><td>&quot;07/25&quot;</td><td>7169</td><td>&quot;Discover&quot;</td><td>&quot;ynguyen@gmail.…</td><td>&quot;Fish farm mana…</td><td>&quot;55.96.152.147&quot;</td><td>&quot;ru&quot;</td><td>25.15</td></tr><tr><td>&quot;93971 Conway C…</td><td>&quot;96 Xt&quot;</td><td>&quot;AM&quot;</td><td>&quot;Mozilla/5.0 (c…</td><td>&quot;Gibson and Son…</td><td>6011398782655569</td><td>&quot;07/24&quot;</td><td>714</td><td>&quot;VISA 16 digit&quot;</td><td>&quot;olivia04@yahoo…</td><td>&quot;Dancer&quot;</td><td>&quot;127.252.144.18…</td><td>&quot;de&quot;</td><td>88.56</td></tr><tr><td>&quot;260 Rachel Pla…</td><td>&quot;96 pG&quot;</td><td>&quot;PM&quot;</td><td>&quot;Mozilla/5.0 (X…</td><td>&quot;Marshall-Colli…</td><td>561252141909</td><td>&quot;06/25&quot;</td><td>256</td><td>&quot;VISA 13 digit&quot;</td><td>&quot;phillip48@park…</td><td>&quot;Event organise…</td><td>&quot;224.247.97.150…</td><td>&quot;pt&quot;</td><td>44.25</td></tr><tr><td>&quot;2129 Dylan Bur…</td><td>&quot;45 JN&quot;</td><td>&quot;PM&quot;</td><td>&quot;Mozilla/5.0 (M…</td><td>&quot;Galloway and S…</td><td>180041795790001</td><td>&quot;04/24&quot;</td><td>899</td><td>&quot;JCB 16 digit&quot;</td><td>&quot;kdavis@rasmuss…</td><td>&quot;Financial mana…</td><td>&quot;146.234.201.22…</td><td>&quot;ru&quot;</td><td>59.54</td></tr><tr><td>&quot;3795 Dawson Ex…</td><td>&quot;15 Ug&quot;</td><td>&quot;AM&quot;</td><td>&quot;Mozilla/5.0 (X…</td><td>&quot;Rivera, Buchan…</td><td>4396283918371</td><td>&quot;01/17&quot;</td><td>931</td><td>&quot;American Expre…</td><td>&quot;qcoleman@hunt-…</td><td>&quot;Forensic scien…</td><td>&quot;236.198.199.8&quot;</td><td>&quot;zh&quot;</td><td>95.63</td></tr><tr><td>&quot;650 Elizabeth …</td><td>&quot;65 Yn&quot;</td><td>&quot;PM&quot;</td><td>&quot;Mozilla/5.0 (i…</td><td>&quot;Strickland, Mi…</td><td>180036417827355</td><td>&quot;02/17&quot;</td><td>754</td><td>&quot;Voyager&quot;</td><td>&quot;ustewart@hotma…</td><td>&quot;Development wo…</td><td>&quot;26.59.93.1&quot;</td><td>&quot;el&quot;</td><td>96.89</td></tr><tr><td>&quot;349 Laurie Par…</td><td>&quot;30 kK&quot;</td><td>&quot;PM&quot;</td><td>&quot;Mozilla/5.0 (X…</td><td>&quot;Kim-Oliver&quot;</td><td>869975209012056</td><td>&quot;06/26&quot;</td><td>9717</td><td>&quot;JCB 15 digit&quot;</td><td>&quot;johnnymiller@c…</td><td>&quot;Diagnostic rad…</td><td>&quot;128.222.40.234…</td><td>&quot;en&quot;</td><td>19.26</td></tr><tr><td>&hellip;</td><td>&hellip;</td><td>&hellip;</td><td>&hellip;</td><td>&hellip;</td><td>&hellip;</td><td>&hellip;</td><td>&hellip;</td><td>&hellip;</td><td>&hellip;</td><td>&hellip;</td><td>&hellip;</td><td>&hellip;</td><td>&hellip;</td></tr><tr><td>&quot;0154 Green For…</td><td>&quot;11 MC&quot;</td><td>&quot;AM&quot;</td><td>&quot;Mozilla/5.0 (c…</td><td>&quot;Williams-Walke…</td><td>4207292109379681</td><td>&quot;10/16&quot;</td><td>571</td><td>&quot;Diners Club / …</td><td>&quot;hudsonmichael@…</td><td>&quot;Charity fundra…</td><td>&quot;136.169.160.82…</td><td>&quot;de&quot;</td><td>89.76</td></tr><tr><td>&quot;5674 Cruz Trac…</td><td>&quot;12 Kf&quot;</td><td>&quot;AM&quot;</td><td>&quot;Mozilla/5.0 (c…</td><td>&quot;Vargas, Nichol…</td><td>5278049688438382</td><td>&quot;12/23&quot;</td><td>996</td><td>&quot;VISA 16 digit&quot;</td><td>&quot;walterswilliam…</td><td>&quot;Community deve…</td><td>&quot;39.162.164.169…</td><td>&quot;pt&quot;</td><td>17.18</td></tr><tr><td>&quot;75731 Molly Sp…</td><td>&quot;93 ty&quot;</td><td>&quot;PM&quot;</td><td>&quot;Mozilla/5.0 (M…</td><td>&quot;Pace, Vazquez …</td><td>869968197049750</td><td>&quot;04/24&quot;</td><td>877</td><td>&quot;JCB 15 digit&quot;</td><td>&quot;andersonmichae…</td><td>&quot;Early years te…</td><td>&quot;54.170.3.185&quot;</td><td>&quot;ru&quot;</td><td>18.35</td></tr><tr><td>&quot;PSC 8165, Box …</td><td>&quot;50 dA&quot;</td><td>&quot;AM&quot;</td><td>&quot;Mozilla/5.0 (c…</td><td>&quot;Snyder Inc&quot;</td><td>4221582137197481</td><td>&quot;02/24&quot;</td><td>969</td><td>&quot;Voyager&quot;</td><td>&quot;kking@wise-liu…</td><td>&quot;IT sales profe…</td><td>&quot;254.25.31.156&quot;</td><td>&quot;el&quot;</td><td>25.93</td></tr><tr><td>&quot;885 Allen Moun…</td><td>&quot;40 vH&quot;</td><td>&quot;PM&quot;</td><td>&quot;Mozilla/5.0 (M…</td><td>&quot;Wells Ltd&quot;</td><td>4664825258997302</td><td>&quot;10/20&quot;</td><td>431</td><td>&quot;Discover&quot;</td><td>&quot;bberry@wright.…</td><td>&quot;Set designer&quot;</td><td>&quot;174.173.51.32&quot;</td><td>&quot;de&quot;</td><td>67.96</td></tr><tr><td>&quot;7555 Larson Lo…</td><td>&quot;72 jg&quot;</td><td>&quot;PM&quot;</td><td>&quot;Mozilla/5.0 (M…</td><td>&quot;Colon and Sons…</td><td>30025560104631</td><td>&quot;10/25&quot;</td><td>629</td><td>&quot;Maestro&quot;</td><td>&quot;chelseawilliam…</td><td>&quot;Designer, exhi…</td><td>&quot;177.46.82.128&quot;</td><td>&quot;el&quot;</td><td>65.61</td></tr><tr><td>&quot;6276 Rojas Hol…</td><td>&quot;93 Ex&quot;</td><td>&quot;PM&quot;</td><td>&quot;Opera/9.68.(X1…</td><td>&quot;Ritter-Smith&quot;</td><td>3112186784121077</td><td>&quot;01/25&quot;</td><td>1823</td><td>&quot;Maestro&quot;</td><td>&quot;iroberts@gmail…</td><td>&quot;Education offi…</td><td>&quot;242.44.112.18&quot;</td><td>&quot;zh&quot;</td><td>31.85</td></tr><tr><td>&quot;966 Castaneda …</td><td>&quot;92 XI&quot;</td><td>&quot;PM&quot;</td><td>&quot;Mozilla/5.0 (W…</td><td>&quot;Randall-Sloan&quot;</td><td>342945015358701</td><td>&quot;03/22&quot;</td><td>838</td><td>&quot;JCB 15 digit&quot;</td><td>&quot;iscott@wade-ga…</td><td>&quot;Printmaker&quot;</td><td>&quot;29.73.197.114&quot;</td><td>&quot;it&quot;</td><td>82.21</td></tr><tr><td>&quot;832 Curtis Dam…</td><td>&quot;41 JY&quot;</td><td>&quot;AM&quot;</td><td>&quot;Mozilla/5.0 (c…</td><td>&quot;Hale, Collins …</td><td>210033169205009</td><td>&quot;07/25&quot;</td><td>207</td><td>&quot;JCB 16 digit&quot;</td><td>&quot;mary85@hotmail…</td><td>&quot;Energy enginee…</td><td>&quot;121.133.168.51…</td><td>&quot;pt&quot;</td><td>25.63</td></tr><tr><td>&quot;Unit 4434 Box …</td><td>&quot;74 Zh&quot;</td><td>&quot;AM&quot;</td><td>&quot;Mozilla/5.0 (M…</td><td>&quot;Anderson Ltd&quot;</td><td>6011539787356311</td><td>&quot;05/21&quot;</td><td>1</td><td>&quot;VISA 16 digit&quot;</td><td>&quot;tyler16@gmail.…</td><td>&quot;Veterinary sur…</td><td>&quot;156.210.0.254&quot;</td><td>&quot;el&quot;</td><td>83.98</td></tr><tr><td>&quot;0096 English R…</td><td>&quot;74 cL&quot;</td><td>&quot;PM&quot;</td><td>&quot;Mozilla/5.0 (M…</td><td>&quot;Cook Inc&quot;</td><td>180003348082930</td><td>&quot;11/17&quot;</td><td>987</td><td>&quot;American Expre…</td><td>&quot;elizabethmoore…</td><td>&quot;Local governme…</td><td>&quot;55.78.26.143&quot;</td><td>&quot;es&quot;</td><td>38.84</td></tr><tr><td>&quot;40674 Barrett …</td><td>&quot;64 Hr&quot;</td><td>&quot;AM&quot;</td><td>&quot;Mozilla/5.0 (X…</td><td>&quot;Greene Inc&quot;</td><td>4139972901927273</td><td>&quot;02/19&quot;</td><td>302</td><td>&quot;JCB 15 digit&quot;</td><td>&quot;rachelford@vau…</td><td>&quot;Embryologist, …</td><td>&quot;176.119.198.19…</td><td>&quot;el&quot;</td><td>67.59</td></tr></tbody></table></div>"
      ],
      "text/plain": [
       "shape: (10_000, 14)\n",
       "┌────────────┬───────┬──────────┬────────────┬───┬────────────┬────────────┬──────────┬────────────┐\n",
       "│ Address    ┆ Lot   ┆ AM or PM ┆ Browser    ┆ … ┆ Job        ┆ IP Address ┆ Language ┆ Purchase   │\n",
       "│ ---        ┆ ---   ┆ ---      ┆ Info       ┆   ┆ ---        ┆ ---        ┆ ---      ┆ Price      │\n",
       "│ str        ┆ str   ┆ str      ┆ ---        ┆   ┆ str        ┆ str        ┆ str      ┆ ---        │\n",
       "│            ┆       ┆          ┆ str        ┆   ┆            ┆            ┆          ┆ f64        │\n",
       "╞════════════╪═══════╪══════════╪════════════╪═══╪════════════╪════════════╪══════════╪════════════╡\n",
       "│ 16629 Pace ┆ 46 in ┆ PM       ┆ Opera/9.56 ┆ … ┆ Scientist, ┆ 149.146.14 ┆ el       ┆ 98.14      │\n",
       "│ Camp Apt.  ┆       ┆          ┆ .(X11;     ┆   ┆ product/pr ┆ 7.205      ┆          ┆            │\n",
       "│ 448\n",
       "        ┆       ┆          ┆ Linux      ┆   ┆ ocess      ┆            ┆          ┆            │\n",
       "│ Alexis…    ┆       ┆          ┆ x86_64; s… ┆   ┆ devel…     ┆            ┆          ┆            │\n",
       "│ 9374       ┆ 28 rn ┆ PM       ┆ Opera/8.93 ┆ … ┆ Drilling   ┆ 15.160.41. ┆ fr       ┆ 70.73      │\n",
       "│ Jasmine    ┆       ┆          ┆ .(Windows  ┆   ┆ engineer   ┆ 51         ┆          ┆            │\n",
       "│ Spurs      ┆       ┆          ┆ 98; Win 9x ┆   ┆            ┆            ┆          ┆            │\n",
       "│ Suite 508\n",
       "  ┆       ┆          ┆ 4…         ┆   ┆            ┆            ┆          ┆            │\n",
       "│ So…        ┆       ┆          ┆            ┆   ┆            ┆            ┆          ┆            │\n",
       "│ Unit 0065  ┆ 94 vE ┆ PM       ┆ Mozilla/5. ┆ … ┆ Customer   ┆ 132.207.16 ┆ de       ┆ 0.95       │\n",
       "│ Box 5052\n",
       "   ┆       ┆          ┆ 0 (compati ┆   ┆ service    ┆ 0.22       ┆          ┆            │\n",
       "│ DPO AP     ┆       ┆          ┆ ble; MSIE  ┆   ┆ manager    ┆            ┆          ┆            │\n",
       "│ 27450      ┆       ┆          ┆ 9.…        ┆   ┆            ┆            ┆          ┆            │\n",
       "│ 7780 Julia ┆ 36 vm ┆ PM       ┆ Mozilla/5. ┆ … ┆ Drilling   ┆ 30.250.74. ┆ es       ┆ 78.04      │\n",
       "│ Fords\n",
       "      ┆       ┆          ┆ 0 (Macinto ┆   ┆ engineer   ┆ 19         ┆          ┆            │\n",
       "│ New Stacy, ┆       ┆          ┆ sh; Intel  ┆   ┆            ┆            ┆          ┆            │\n",
       "│ WA …       ┆       ┆          ┆ Ma…        ┆   ┆            ┆            ┆          ┆            │\n",
       "│ …          ┆ …     ┆ …        ┆ …          ┆ … ┆ …          ┆ …          ┆ …        ┆ …          │\n",
       "│ 832 Curtis ┆ 41 JY ┆ AM       ┆ Mozilla/5. ┆ … ┆ Energy     ┆ 121.133.16 ┆ pt       ┆ 25.63      │\n",
       "│ Dam Suite  ┆       ┆          ┆ 0 (compati ┆   ┆ engineer   ┆ 8.51       ┆          ┆            │\n",
       "│ 785\n",
       "        ┆       ┆          ┆ ble; MSIE  ┆   ┆            ┆            ┆          ┆            │\n",
       "│ North …    ┆       ┆          ┆ 9.…        ┆   ┆            ┆            ┆          ┆            │\n",
       "│ Unit 4434  ┆ 74 Zh ┆ AM       ┆ Mozilla/5. ┆ … ┆ Veterinary ┆ 156.210.0. ┆ el       ┆ 83.98      │\n",
       "│ Box 6343\n",
       "   ┆       ┆          ┆ 0 (Macinto ┆   ┆ surgeon    ┆ 254        ┆          ┆            │\n",
       "│ DPO AE     ┆       ┆          ┆ sh; U;     ┆   ┆            ┆            ┆          ┆            │\n",
       "│ 28026…     ┆       ┆          ┆ Intel…     ┆   ┆            ┆            ┆          ┆            │\n",
       "│ 0096       ┆ 74 cL ┆ PM       ┆ Mozilla/5. ┆ … ┆ Local      ┆ 55.78.26.1 ┆ es       ┆ 38.84      │\n",
       "│ English    ┆       ┆          ┆ 0 (Macinto ┆   ┆ government ┆ 43         ┆          ┆            │\n",
       "│ Rest\n",
       "       ┆       ┆          ┆ sh; Intel  ┆   ┆ officer    ┆            ┆          ┆            │\n",
       "│ Roystad,   ┆       ┆          ┆ Ma…        ┆   ┆            ┆            ┆          ┆            │\n",
       "│ IA 1…      ┆       ┆          ┆            ┆   ┆            ┆            ┆          ┆            │\n",
       "│ 40674      ┆ 64 Hr ┆ AM       ┆ Mozilla/5. ┆ … ┆ Embryologi ┆ 176.119.19 ┆ el       ┆ 67.59      │\n",
       "│ Barrett    ┆       ┆          ┆ 0 (X11;    ┆   ┆ st,        ┆ 8.199      ┆          ┆            │\n",
       "│ Stravenue\n",
       "  ┆       ┆          ┆ Linux      ┆   ┆ clinical   ┆            ┆          ┆            │\n",
       "│ Grimesv…   ┆       ┆          ┆ i686; rv…  ┆   ┆            ┆            ┆          ┆            │\n",
       "└────────────┴───────┴──────────┴────────────┴───┴────────────┴────────────┴──────────┴────────────┘"
      ]
     },
     "execution_count": 8,
     "metadata": {},
     "output_type": "execute_result"
    }
   ],
   "source": [
    "data"
   ]
  },
  {
   "attachments": {},
   "cell_type": "markdown",
   "metadata": {},
   "source": [
    "9.\tShow Highest and Lowest Purchase Prices."
   ]
  },
  {
   "cell_type": "code",
   "execution_count": 9,
   "metadata": {},
   "outputs": [
    {
     "data": {
      "text/html": [
       "<div><style>\n",
       ".dataframe > thead > tr > th,\n",
       ".dataframe > tbody > tr > td {\n",
       "  text-align: right;\n",
       "}\n",
       "</style>\n",
       "<small>shape: (2, 14)</small><table border=\"1\" class=\"dataframe\"><thead><tr><th>Address</th><th>Lot</th><th>AM or PM</th><th>Browser Info</th><th>Company</th><th>Credit Card</th><th>CC Exp Date</th><th>CC Security Code</th><th>CC Provider</th><th>Email</th><th>Job</th><th>IP Address</th><th>Language</th><th>Purchase Price</th></tr><tr><td>str</td><td>str</td><td>str</td><td>str</td><td>str</td><td>i64</td><td>str</td><td>i64</td><td>str</td><td>str</td><td>str</td><td>str</td><td>str</td><td>f64</td></tr></thead><tbody><tr><td>&quot;63773 Shelton …</td><td>&quot;56 lu&quot;</td><td>&quot;AM&quot;</td><td>&quot;Mozilla/5.0 (X…</td><td>&quot;Pitts Group&quot;</td><td>4292741269160</td><td>&quot;06/18&quot;</td><td>824</td><td>&quot;Maestro&quot;</td><td>&quot;heatherwoodard…</td><td>&quot;Surveyor, hydr…</td><td>&quot;172.197.216.22…</td><td>&quot;el&quot;</td><td>99.99</td></tr><tr><td>&quot;PSC 6177, Box …</td><td>&quot;64 Nf&quot;</td><td>&quot;AM&quot;</td><td>&quot;Mozilla/5.0 (M…</td><td>&quot;Porter, Johnso…</td><td>30109394842259</td><td>&quot;11/25&quot;</td><td>918</td><td>&quot;VISA 16 digit&quot;</td><td>&quot;kelli72@gmail.…</td><td>&quot;Surveyor, insu…</td><td>&quot;89.51.92.242&quot;</td><td>&quot;de&quot;</td><td>99.99</td></tr></tbody></table></div>"
      ],
      "text/plain": [
       "shape: (2, 14)\n",
       "┌────────────┬───────┬──────────┬────────────┬───┬────────────┬────────────┬──────────┬────────────┐\n",
       "│ Address    ┆ Lot   ┆ AM or PM ┆ Browser    ┆ … ┆ Job        ┆ IP Address ┆ Language ┆ Purchase   │\n",
       "│ ---        ┆ ---   ┆ ---      ┆ Info       ┆   ┆ ---        ┆ ---        ┆ ---      ┆ Price      │\n",
       "│ str        ┆ str   ┆ str      ┆ ---        ┆   ┆ str        ┆ str        ┆ str      ┆ ---        │\n",
       "│            ┆       ┆          ┆ str        ┆   ┆            ┆            ┆          ┆ f64        │\n",
       "╞════════════╪═══════╪══════════╪════════════╪═══╪════════════╪════════════╪══════════╪════════════╡\n",
       "│ 63773      ┆ 56 lu ┆ AM       ┆ Mozilla/5. ┆ … ┆ Surveyor,  ┆ 172.197.21 ┆ el       ┆ 99.99      │\n",
       "│ Shelton    ┆       ┆          ┆ 0 (X11;    ┆   ┆ hydrograph ┆ 6.229      ┆          ┆            │\n",
       "│ Greens\n",
       "     ┆       ┆          ┆ Linux      ┆   ┆ ic         ┆            ┆          ┆            │\n",
       "│ Ashleyton, ┆       ┆          ┆ x86_64) …  ┆   ┆            ┆            ┆          ┆            │\n",
       "│ …          ┆       ┆          ┆            ┆   ┆            ┆            ┆          ┆            │\n",
       "│ PSC 6177,  ┆ 64 Nf ┆ AM       ┆ Mozilla/5. ┆ … ┆ Surveyor,  ┆ 89.51.92.2 ┆ de       ┆ 99.99      │\n",
       "│ Box 1004\n",
       "   ┆       ┆          ┆ 0 (Macinto ┆   ┆ insurance  ┆ 42         ┆          ┆            │\n",
       "│ APO AA     ┆       ┆          ┆ sh; Intel  ┆   ┆            ┆            ┆          ┆            │\n",
       "│ 57143…     ┆       ┆          ┆ Ma…        ┆   ┆            ┆            ┆          ┆            │\n",
       "└────────────┴───────┴──────────┴────────────┴───┴────────────┴────────────┴──────────┴────────────┘"
      ]
     },
     "execution_count": 9,
     "metadata": {},
     "output_type": "execute_result"
    }
   ],
   "source": [
    "# Highest\n",
    "\n",
    "data.filter(data['Purchase Price'] == data['Purchase Price'].max())"
   ]
  },
  {
   "cell_type": "code",
   "execution_count": 10,
   "metadata": {},
   "outputs": [
    {
     "data": {
      "text/html": [
       "<div><style>\n",
       ".dataframe > thead > tr > th,\n",
       ".dataframe > tbody > tr > td {\n",
       "  text-align: right;\n",
       "}\n",
       "</style>\n",
       "<small>shape: (2, 14)</small><table border=\"1\" class=\"dataframe\"><thead><tr><th>Address</th><th>Lot</th><th>AM or PM</th><th>Browser Info</th><th>Company</th><th>Credit Card</th><th>CC Exp Date</th><th>CC Security Code</th><th>CC Provider</th><th>Email</th><th>Job</th><th>IP Address</th><th>Language</th><th>Purchase Price</th></tr><tr><td>str</td><td>str</td><td>str</td><td>str</td><td>str</td><td>i64</td><td>str</td><td>i64</td><td>str</td><td>str</td><td>str</td><td>str</td><td>str</td><td>f64</td></tr></thead><tbody><tr><td>&quot;332 Jones Park…</td><td>&quot;39 GT&quot;</td><td>&quot;AM&quot;</td><td>&quot;Mozilla/5.0 (M…</td><td>&quot;Lyons, Diaz an…</td><td>4204500444841766</td><td>&quot;01/18&quot;</td><td>38</td><td>&quot;VISA 16 digit&quot;</td><td>&quot;jennifer11@bak…</td><td>&quot;Biomedical sci…</td><td>&quot;223.47.177.174…</td><td>&quot;it&quot;</td><td>0.0</td></tr><tr><td>&quot;465 Mallory Wa…</td><td>&quot;93 OH&quot;</td><td>&quot;PM&quot;</td><td>&quot;Mozilla/5.0 (X…</td><td>&quot;Flynn and Sons…</td><td>30469912089738</td><td>&quot;09/23&quot;</td><td>236</td><td>&quot;Discover&quot;</td><td>&quot;mjohnson@austi…</td><td>&quot;Stage manager&quot;</td><td>&quot;43.99.56.59&quot;</td><td>&quot;zh&quot;</td><td>0.0</td></tr></tbody></table></div>"
      ],
      "text/plain": [
       "shape: (2, 14)\n",
       "┌────────────┬───────┬──────────┬────────────┬───┬────────────┬────────────┬──────────┬────────────┐\n",
       "│ Address    ┆ Lot   ┆ AM or PM ┆ Browser    ┆ … ┆ Job        ┆ IP Address ┆ Language ┆ Purchase   │\n",
       "│ ---        ┆ ---   ┆ ---      ┆ Info       ┆   ┆ ---        ┆ ---        ┆ ---      ┆ Price      │\n",
       "│ str        ┆ str   ┆ str      ┆ ---        ┆   ┆ str        ┆ str        ┆ str      ┆ ---        │\n",
       "│            ┆       ┆          ┆ str        ┆   ┆            ┆            ┆          ┆ f64        │\n",
       "╞════════════╪═══════╪══════════╪════════════╪═══╪════════════╪════════════╪══════════╪════════════╡\n",
       "│ 332 Jones  ┆ 39 GT ┆ AM       ┆ Mozilla/5. ┆ … ┆ Biomedical ┆ 223.47.177 ┆ it       ┆ 0.0        │\n",
       "│ Parkways\n",
       "   ┆       ┆          ┆ 0 (Macinto ┆   ┆ scientist  ┆ .174       ┆          ┆            │\n",
       "│ East       ┆       ┆          ┆ sh; U; PPC ┆   ┆            ┆            ┆          ┆            │\n",
       "│ Katheri…   ┆       ┆          ┆ M…         ┆   ┆            ┆            ┆          ┆            │\n",
       "│ 465        ┆ 93 OH ┆ PM       ┆ Mozilla/5. ┆ … ┆ Stage      ┆ 43.99.56.5 ┆ zh       ┆ 0.0        │\n",
       "│ Mallory    ┆       ┆          ┆ 0 (X11;    ┆   ┆ manager    ┆ 9          ┆          ┆            │\n",
       "│ Ways\n",
       "       ┆       ┆          ┆ Linux      ┆   ┆            ┆            ┆          ┆            │\n",
       "│ North      ┆       ┆          ┆ i686; rv…  ┆   ┆            ┆            ┆          ┆            │\n",
       "│ Rebecca,…  ┆       ┆          ┆            ┆   ┆            ┆            ┆          ┆            │\n",
       "└────────────┴───────┴──────────┴────────────┴───┴────────────┴────────────┴──────────┴────────────┘"
      ]
     },
     "execution_count": 10,
     "metadata": {},
     "output_type": "execute_result"
    }
   ],
   "source": [
    "# Lowest\n",
    "\n",
    "data.filter(data['Purchase Price'] == data['Purchase Price'].min())"
   ]
  },
  {
   "attachments": {},
   "cell_type": "markdown",
   "metadata": {},
   "source": [
    "10.\tShow average purchase price"
   ]
  },
  {
   "cell_type": "code",
   "execution_count": 11,
   "metadata": {},
   "outputs": [
    {
     "data": {
      "text/plain": [
       "50.347302"
      ]
     },
     "execution_count": 11,
     "metadata": {},
     "output_type": "execute_result"
    }
   ],
   "source": [
    "data['Purchase Price'].mean()"
   ]
  },
  {
   "attachments": {},
   "cell_type": "markdown",
   "metadata": {},
   "source": [
    "11.\tHow many people have French 'fr' as their Language?\n",
    "\n",
    "    a.\tFirst show all columns then all languages\n",
    "\n",
    "    b.\tCheck whether 'fr' is there or not\n",
    "\n",
    "    c.\tCompare language to 'fr'\n",
    "    \n"
   ]
  },
  {
   "cell_type": "code",
   "execution_count": 12,
   "metadata": {},
   "outputs": [
    {
     "data": {
      "text/html": [
       "<div><style>\n",
       ".dataframe > thead > tr > th,\n",
       ".dataframe > tbody > tr > td {\n",
       "  text-align: right;\n",
       "}\n",
       "</style>\n",
       "<small>shape: (2, 14)</small><table border=\"1\" class=\"dataframe\"><thead><tr><th>Address</th><th>Lot</th><th>AM or PM</th><th>Browser Info</th><th>Company</th><th>Credit Card</th><th>CC Exp Date</th><th>CC Security Code</th><th>CC Provider</th><th>Email</th><th>Job</th><th>IP Address</th><th>Language</th><th>Purchase Price</th></tr><tr><td>str</td><td>str</td><td>str</td><td>str</td><td>str</td><td>i64</td><td>str</td><td>i64</td><td>str</td><td>str</td><td>str</td><td>str</td><td>str</td><td>f64</td></tr></thead><tbody><tr><td>&quot;16629 Pace Cam…</td><td>&quot;46 in&quot;</td><td>&quot;PM&quot;</td><td>&quot;Opera/9.56.(X1…</td><td>&quot;Martinez-Herma…</td><td>6011929061123406</td><td>&quot;02/20&quot;</td><td>900</td><td>&quot;JCB 16 digit&quot;</td><td>&quot;pdunlap@yahoo.…</td><td>&quot;Scientist, pro…</td><td>&quot;149.146.147.20…</td><td>&quot;el&quot;</td><td>98.14</td></tr><tr><td>&quot;9374 Jasmine S…</td><td>&quot;28 rn&quot;</td><td>&quot;PM&quot;</td><td>&quot;Opera/8.93.(Wi…</td><td>&quot;Fletcher, Rich…</td><td>3337758169645356</td><td>&quot;11/18&quot;</td><td>561</td><td>&quot;Mastercard&quot;</td><td>&quot;anthony41@reed…</td><td>&quot;Drilling engin…</td><td>&quot;15.160.41.51&quot;</td><td>&quot;fr&quot;</td><td>70.73</td></tr></tbody></table></div>"
      ],
      "text/plain": [
       "shape: (2, 14)\n",
       "┌────────────┬───────┬──────────┬────────────┬───┬────────────┬────────────┬──────────┬────────────┐\n",
       "│ Address    ┆ Lot   ┆ AM or PM ┆ Browser    ┆ … ┆ Job        ┆ IP Address ┆ Language ┆ Purchase   │\n",
       "│ ---        ┆ ---   ┆ ---      ┆ Info       ┆   ┆ ---        ┆ ---        ┆ ---      ┆ Price      │\n",
       "│ str        ┆ str   ┆ str      ┆ ---        ┆   ┆ str        ┆ str        ┆ str      ┆ ---        │\n",
       "│            ┆       ┆          ┆ str        ┆   ┆            ┆            ┆          ┆ f64        │\n",
       "╞════════════╪═══════╪══════════╪════════════╪═══╪════════════╪════════════╪══════════╪════════════╡\n",
       "│ 16629 Pace ┆ 46 in ┆ PM       ┆ Opera/9.56 ┆ … ┆ Scientist, ┆ 149.146.14 ┆ el       ┆ 98.14      │\n",
       "│ Camp Apt.  ┆       ┆          ┆ .(X11;     ┆   ┆ product/pr ┆ 7.205      ┆          ┆            │\n",
       "│ 448\n",
       "        ┆       ┆          ┆ Linux      ┆   ┆ ocess      ┆            ┆          ┆            │\n",
       "│ Alexis…    ┆       ┆          ┆ x86_64; s… ┆   ┆ devel…     ┆            ┆          ┆            │\n",
       "│ 9374       ┆ 28 rn ┆ PM       ┆ Opera/8.93 ┆ … ┆ Drilling   ┆ 15.160.41. ┆ fr       ┆ 70.73      │\n",
       "│ Jasmine    ┆       ┆          ┆ .(Windows  ┆   ┆ engineer   ┆ 51         ┆          ┆            │\n",
       "│ Spurs      ┆       ┆          ┆ 98; Win 9x ┆   ┆            ┆            ┆          ┆            │\n",
       "│ Suite 508\n",
       "  ┆       ┆          ┆ 4…         ┆   ┆            ┆            ┆          ┆            │\n",
       "│ So…        ┆       ┆          ┆            ┆   ┆            ┆            ┆          ┆            │\n",
       "└────────────┴───────┴──────────┴────────────┴───┴────────────┴────────────┴──────────┴────────────┘"
      ]
     },
     "metadata": {},
     "output_type": "display_data"
    },
    {
     "data": {
      "text/plain": [
       "1097"
      ]
     },
     "execution_count": 12,
     "metadata": {},
     "output_type": "execute_result"
    }
   ],
   "source": [
    "display(data.head(2))\n",
    "data.filter(data['Language'] == 'fr').__len__()"
   ]
  },
  {
   "attachments": {},
   "cell_type": "markdown",
   "metadata": {},
   "source": [
    "12.\tFind Job Title Contains Engineer word"
   ]
  },
  {
   "cell_type": "code",
   "execution_count": 13,
   "metadata": {},
   "outputs": [
    {
     "data": {
      "text/html": [
       "<div><style>\n",
       ".dataframe > thead > tr > th,\n",
       ".dataframe > tbody > tr > td {\n",
       "  text-align: right;\n",
       "}\n",
       "</style>\n",
       "<small>shape: (984, 14)</small><table border=\"1\" class=\"dataframe\"><thead><tr><th>Address</th><th>Lot</th><th>AM or PM</th><th>Browser Info</th><th>Company</th><th>Credit Card</th><th>CC Exp Date</th><th>CC Security Code</th><th>CC Provider</th><th>Email</th><th>Job</th><th>IP Address</th><th>Language</th><th>Purchase Price</th></tr><tr><td>str</td><td>str</td><td>str</td><td>str</td><td>str</td><td>i64</td><td>str</td><td>i64</td><td>str</td><td>str</td><td>str</td><td>str</td><td>str</td><td>f64</td></tr></thead><tbody><tr><td>&quot;9374 Jasmine S…</td><td>&quot;28 rn&quot;</td><td>&quot;PM&quot;</td><td>&quot;Opera/8.93.(Wi…</td><td>&quot;Fletcher, Rich…</td><td>3337758169645356</td><td>&quot;11/18&quot;</td><td>561</td><td>&quot;Mastercard&quot;</td><td>&quot;anthony41@reed…</td><td>&quot;Drilling engin…</td><td>&quot;15.160.41.51&quot;</td><td>&quot;fr&quot;</td><td>70.73</td></tr><tr><td>&quot;7780 Julia For…</td><td>&quot;36 vm&quot;</td><td>&quot;PM&quot;</td><td>&quot;Mozilla/5.0 (M…</td><td>&quot;Williams, Mars…</td><td>6011578504430710</td><td>&quot;02/24&quot;</td><td>384</td><td>&quot;Discover&quot;</td><td>&quot;brent16@olson-…</td><td>&quot;Drilling engin…</td><td>&quot;30.250.74.19&quot;</td><td>&quot;es&quot;</td><td>78.04</td></tr><tr><td>&quot;41159 Michael …</td><td>&quot;46 Ce&quot;</td><td>&quot;PM&quot;</td><td>&quot;Mozilla/5.0 (W…</td><td>&quot;Wright, Willia…</td><td>4008586485908075</td><td>&quot;05/19&quot;</td><td>945</td><td>&quot;JCB 16 digit&quot;</td><td>&quot;susanvalentine…</td><td>&quot;Mechanical eng…</td><td>&quot;213.203.143.21…</td><td>&quot;de&quot;</td><td>36.85</td></tr><tr><td>&quot;27635 Maureen …</td><td>&quot;59 LJ&quot;</td><td>&quot;AM&quot;</td><td>&quot;Mozilla/5.0 (i…</td><td>&quot;Sims-Lyons&quot;</td><td>3158113629128344</td><td>&quot;09/19&quot;</td><td>857</td><td>&quot;VISA 16 digit&quot;</td><td>&quot;adkinsarthur@y…</td><td>&quot;Engineer, broa…</td><td>&quot;227.235.89.210…</td><td>&quot;pt&quot;</td><td>48.74</td></tr><tr><td>&quot;7126 Katherine…</td><td>&quot;63 qu&quot;</td><td>&quot;AM&quot;</td><td>&quot;Opera/8.68.(X1…</td><td>&quot;Marshall-Ferna…</td><td>349767747049645</td><td>&quot;05/20&quot;</td><td>672</td><td>&quot;JCB 15 digit&quot;</td><td>&quot;sweeneyhannah@…</td><td>&quot;Engineer, agri…</td><td>&quot;197.144.142.10…</td><td>&quot;de&quot;</td><td>20.43</td></tr><tr><td>&quot;937 Weaver Isl…</td><td>&quot;97 QO&quot;</td><td>&quot;AM&quot;</td><td>&quot;Mozilla/5.0 (M…</td><td>&quot;Villa Inc&quot;</td><td>869930676434762</td><td>&quot;11/21&quot;</td><td>578</td><td>&quot;Discover&quot;</td><td>&quot;jason24@gardne…</td><td>&quot;Engineer, civi…</td><td>&quot;218.171.210.9&quot;</td><td>&quot;it&quot;</td><td>72.45</td></tr><tr><td>&quot;493 Smith Vall…</td><td>&quot;35 ls&quot;</td><td>&quot;PM&quot;</td><td>&quot;Mozilla/5.0 (i…</td><td>&quot;Robinson, John…</td><td>4351359627548412</td><td>&quot;06/17&quot;</td><td>937</td><td>&quot;VISA 13 digit&quot;</td><td>&quot;amendez@yahoo.…</td><td>&quot;Engineer, mate…</td><td>&quot;163.129.163.10…</td><td>&quot;fr&quot;</td><td>49.04</td></tr><tr><td>&quot;Unit 9659 Box …</td><td>&quot;37 jN&quot;</td><td>&quot;AM&quot;</td><td>&quot;Mozilla/5.0 (c…</td><td>&quot;Williams, Good…</td><td>4748275281424579</td><td>&quot;01/18&quot;</td><td>496</td><td>&quot;JCB 15 digit&quot;</td><td>&quot;psimmons@harri…</td><td>&quot;Engineer, land…</td><td>&quot;10.172.75.245&quot;</td><td>&quot;zh&quot;</td><td>73.41</td></tr><tr><td>&quot;192 Malone Str…</td><td>&quot;00 zU&quot;</td><td>&quot;AM&quot;</td><td>&quot;Mozilla/5.0 (c…</td><td>&quot;Simpson Inc&quot;</td><td>376660848256225</td><td>&quot;08/23&quot;</td><td>215</td><td>&quot;American Expre…</td><td>&quot;jeanetteburges…</td><td>&quot;Engineer, wate…</td><td>&quot;177.234.46.245…</td><td>&quot;fr&quot;</td><td>38.75</td></tr><tr><td>&quot;480 Ronald Cap…</td><td>&quot;11 wg&quot;</td><td>&quot;AM&quot;</td><td>&quot;Mozilla/5.0 (M…</td><td>&quot;Brown Inc&quot;</td><td>30276609779632</td><td>&quot;03/22&quot;</td><td>676</td><td>&quot;Discover&quot;</td><td>&quot;wtownsend@jack…</td><td>&quot;Technical sale…</td><td>&quot;119.178.136.56…</td><td>&quot;it&quot;</td><td>51.37</td></tr><tr><td>&quot;649 Murphy Est…</td><td>&quot;18 ou&quot;</td><td>&quot;PM&quot;</td><td>&quot;Opera/9.20.(X1…</td><td>&quot;Mendoza Inc&quot;</td><td>4672010364988798</td><td>&quot;12/19&quot;</td><td>326</td><td>&quot;VISA 16 digit&quot;</td><td>&quot;hjohnson@valen…</td><td>&quot;Engineer, aero…</td><td>&quot;239.252.210.12…</td><td>&quot;ru&quot;</td><td>20.42</td></tr><tr><td>&quot;8071 Ellis Cou…</td><td>&quot;12 VI&quot;</td><td>&quot;PM&quot;</td><td>&quot;Mozilla/5.0 (M…</td><td>&quot;Ferrell, Cole …</td><td>6011174506757977</td><td>&quot;07/18&quot;</td><td>451</td><td>&quot;VISA 13 digit&quot;</td><td>&quot;fbrady@gmail.c…</td><td>&quot;Engineering ge…</td><td>&quot;100.80.75.62&quot;</td><td>&quot;en&quot;</td><td>25.64</td></tr><tr><td>&hellip;</td><td>&hellip;</td><td>&hellip;</td><td>&hellip;</td><td>&hellip;</td><td>&hellip;</td><td>&hellip;</td><td>&hellip;</td><td>&hellip;</td><td>&hellip;</td><td>&hellip;</td><td>&hellip;</td><td>&hellip;</td><td>&hellip;</td></tr><tr><td>&quot;640 David Esta…</td><td>&quot;91 wL&quot;</td><td>&quot;AM&quot;</td><td>&quot;Mozilla/5.0 (M…</td><td>&quot;Day, Rodriguez…</td><td>376017272462425</td><td>&quot;10/18&quot;</td><td>418</td><td>&quot;JCB 15 digit&quot;</td><td>&quot;jeffreyluna@ya…</td><td>&quot;Water engineer…</td><td>&quot;234.84.101.179…</td><td>&quot;fr&quot;</td><td>20.33</td></tr><tr><td>&quot;0715 Jennifer …</td><td>&quot;99 nw&quot;</td><td>&quot;PM&quot;</td><td>&quot;Mozilla/5.0 (W…</td><td>&quot;Wright, Maxwel…</td><td>30112144732432</td><td>&quot;08/18&quot;</td><td>270</td><td>&quot;Maestro&quot;</td><td>&quot;stanleyroach@g…</td><td>&quot;Automotive eng…</td><td>&quot;133.138.146.22…</td><td>&quot;es&quot;</td><td>79.37</td></tr><tr><td>&quot;881 Julie Orch…</td><td>&quot;94 yV&quot;</td><td>&quot;PM&quot;</td><td>&quot;Opera/9.22.(Wi…</td><td>&quot;Anderson, Litt…</td><td>30035348786641</td><td>&quot;06/23&quot;</td><td>31</td><td>&quot;VISA 16 digit&quot;</td><td>&quot;harriscarl@dom…</td><td>&quot;Mining enginee…</td><td>&quot;19.11.202.68&quot;</td><td>&quot;fr&quot;</td><td>75.86</td></tr><tr><td>&quot;0850 Joseph Es…</td><td>&quot;82 SJ&quot;</td><td>&quot;AM&quot;</td><td>&quot;Opera/8.29.(Wi…</td><td>&quot;Anderson, Char…</td><td>676344664773</td><td>&quot;12/19&quot;</td><td>572</td><td>&quot;VISA 16 digit&quot;</td><td>&quot;keith96@ross-g…</td><td>&quot;Engineer, elec…</td><td>&quot;225.184.17.88&quot;</td><td>&quot;fr&quot;</td><td>68.13</td></tr><tr><td>&quot;09281 Mills Co…</td><td>&quot;15 PM&quot;</td><td>&quot;PM&quot;</td><td>&quot;Mozilla/5.0 (X…</td><td>&quot;Parker PLC&quot;</td><td>4872299411791</td><td>&quot;11/22&quot;</td><td>974</td><td>&quot;Diners Club / …</td><td>&quot;xholloway@cook…</td><td>&quot;Engineer, mate…</td><td>&quot;175.188.141.23…</td><td>&quot;fr&quot;</td><td>91.75</td></tr><tr><td>&quot;52276 Smith Cl…</td><td>&quot;40 nG&quot;</td><td>&quot;AM&quot;</td><td>&quot;Opera/9.62.(Wi…</td><td>&quot;Clay LLC&quot;</td><td>5148775191773208</td><td>&quot;05/23&quot;</td><td>583</td><td>&quot;VISA 16 digit&quot;</td><td>&quot;popejames@yaho…</td><td>&quot;Consulting civ…</td><td>&quot;130.63.250.128…</td><td>&quot;el&quot;</td><td>99.75</td></tr><tr><td>&quot;693 Gomez Keys…</td><td>&quot;60 tG&quot;</td><td>&quot;PM&quot;</td><td>&quot;Mozilla/5.0 (W…</td><td>&quot;Clay-Johnson&quot;</td><td>4474423068651820</td><td>&quot;10/17&quot;</td><td>216</td><td>&quot;JCB 15 digit&quot;</td><td>&quot;kyle97@gmail.c…</td><td>&quot;Engineer, mate…</td><td>&quot;123.237.158.17…</td><td>&quot;pt&quot;</td><td>51.68</td></tr><tr><td>&quot;95544 Johnson …</td><td>&quot;91 bW&quot;</td><td>&quot;AM&quot;</td><td>&quot;Opera/8.36.(X1…</td><td>&quot;Fox-Peterson&quot;</td><td>4762924304307</td><td>&quot;03/17&quot;</td><td>567</td><td>&quot;Mastercard&quot;</td><td>&quot;haleybenjamin@…</td><td>&quot;Structural eng…</td><td>&quot;120.36.140.58&quot;</td><td>&quot;en&quot;</td><td>71.89</td></tr><tr><td>&quot;9991 Vaughn Hi…</td><td>&quot;36 KC&quot;</td><td>&quot;PM&quot;</td><td>&quot;Mozilla/5.0 (X…</td><td>&quot;Ward, Smith an…</td><td>6011679271321726</td><td>&quot;09/19&quot;</td><td>964</td><td>&quot;Voyager&quot;</td><td>&quot;jonesjennifer@…</td><td>&quot;Engineer, ener…</td><td>&quot;116.228.12.42&quot;</td><td>&quot;es&quot;</td><td>39.63</td></tr><tr><td>&quot;0060 Keith Str…</td><td>&quot;11 nt&quot;</td><td>&quot;PM&quot;</td><td>&quot;Mozilla/5.0 (M…</td><td>&quot;Carpenter, Goo…</td><td>6011485664704662</td><td>&quot;07/19&quot;</td><td>543</td><td>&quot;Discover&quot;</td><td>&quot;rangelbrian@ho…</td><td>&quot;Electrical eng…</td><td>&quot;242.8.85.205&quot;</td><td>&quot;en&quot;</td><td>17.76</td></tr><tr><td>&quot;02182 Keith Ex…</td><td>&quot;34 RL&quot;</td><td>&quot;AM&quot;</td><td>&quot;Mozilla/5.0 (c…</td><td>&quot;Deleon, Jacobs…</td><td>4186094003664688</td><td>&quot;06/21&quot;</td><td>397</td><td>&quot;JCB 16 digit&quot;</td><td>&quot;daltoncarter@y…</td><td>&quot;Biomedical eng…</td><td>&quot;146.238.118.2&quot;</td><td>&quot;fr&quot;</td><td>94.93</td></tr><tr><td>&quot;832 Curtis Dam…</td><td>&quot;41 JY&quot;</td><td>&quot;AM&quot;</td><td>&quot;Mozilla/5.0 (c…</td><td>&quot;Hale, Collins …</td><td>210033169205009</td><td>&quot;07/25&quot;</td><td>207</td><td>&quot;JCB 16 digit&quot;</td><td>&quot;mary85@hotmail…</td><td>&quot;Energy enginee…</td><td>&quot;121.133.168.51…</td><td>&quot;pt&quot;</td><td>25.63</td></tr></tbody></table></div>"
      ],
      "text/plain": [
       "shape: (984, 14)\n",
       "┌────────────┬───────┬──────────┬────────────┬───┬────────────┬────────────┬──────────┬────────────┐\n",
       "│ Address    ┆ Lot   ┆ AM or PM ┆ Browser    ┆ … ┆ Job        ┆ IP Address ┆ Language ┆ Purchase   │\n",
       "│ ---        ┆ ---   ┆ ---      ┆ Info       ┆   ┆ ---        ┆ ---        ┆ ---      ┆ Price      │\n",
       "│ str        ┆ str   ┆ str      ┆ ---        ┆   ┆ str        ┆ str        ┆ str      ┆ ---        │\n",
       "│            ┆       ┆          ┆ str        ┆   ┆            ┆            ┆          ┆ f64        │\n",
       "╞════════════╪═══════╪══════════╪════════════╪═══╪════════════╪════════════╪══════════╪════════════╡\n",
       "│ 9374       ┆ 28 rn ┆ PM       ┆ Opera/8.93 ┆ … ┆ Drilling   ┆ 15.160.41. ┆ fr       ┆ 70.73      │\n",
       "│ Jasmine    ┆       ┆          ┆ .(Windows  ┆   ┆ engineer   ┆ 51         ┆          ┆            │\n",
       "│ Spurs      ┆       ┆          ┆ 98; Win 9x ┆   ┆            ┆            ┆          ┆            │\n",
       "│ Suite 508\n",
       "  ┆       ┆          ┆ 4…         ┆   ┆            ┆            ┆          ┆            │\n",
       "│ So…        ┆       ┆          ┆            ┆   ┆            ┆            ┆          ┆            │\n",
       "│ 7780 Julia ┆ 36 vm ┆ PM       ┆ Mozilla/5. ┆ … ┆ Drilling   ┆ 30.250.74. ┆ es       ┆ 78.04      │\n",
       "│ Fords\n",
       "      ┆       ┆          ┆ 0 (Macinto ┆   ┆ engineer   ┆ 19         ┆          ┆            │\n",
       "│ New Stacy, ┆       ┆          ┆ sh; Intel  ┆   ┆            ┆            ┆          ┆            │\n",
       "│ WA …       ┆       ┆          ┆ Ma…        ┆   ┆            ┆            ┆          ┆            │\n",
       "│ 41159      ┆ 46 Ce ┆ PM       ┆ Mozilla/5. ┆ … ┆ Mechanical ┆ 213.203.14 ┆ de       ┆ 36.85      │\n",
       "│ Michael    ┆       ┆          ┆ 0 (Windows ┆   ┆ engineer   ┆ 3.215      ┆          ┆            │\n",
       "│ Centers\n",
       "    ┆       ┆          ┆ 98; Win 9x ┆   ┆            ┆            ┆          ┆            │\n",
       "│ Adamsfort… ┆       ┆          ┆ …          ┆   ┆            ┆            ┆          ┆            │\n",
       "│ 27635      ┆ 59 LJ ┆ AM       ┆ Mozilla/5. ┆ … ┆ Engineer,  ┆ 227.235.89 ┆ pt       ┆ 48.74      │\n",
       "│ Maureen    ┆       ┆          ┆ 0 (iPod;   ┆   ┆ broadcasti ┆ .210       ┆          ┆            │\n",
       "│ Bypass     ┆       ┆          ┆ U; CPU     ┆   ┆ ng         ┆            ┆          ┆            │\n",
       "│ Apt. 883\n",
       "   ┆       ┆          ┆ iPhone…    ┆   ┆ (operatio… ┆            ┆          ┆            │\n",
       "│ S…         ┆       ┆          ┆            ┆   ┆            ┆            ┆          ┆            │\n",
       "│ …          ┆ …     ┆ …        ┆ …          ┆ … ┆ …          ┆ …          ┆ …        ┆ …          │\n",
       "│ 9991       ┆ 36 KC ┆ PM       ┆ Mozilla/5. ┆ … ┆ Engineer,  ┆ 116.228.12 ┆ es       ┆ 39.63      │\n",
       "│ Vaughn     ┆       ┆          ┆ 0 (X11;    ┆   ┆ energy     ┆ .42        ┆          ┆            │\n",
       "│ Hills\n",
       "      ┆       ┆          ┆ Linux      ┆   ┆            ┆            ┆          ┆            │\n",
       "│ Racheltown ┆       ┆          ┆ i686; rv…  ┆   ┆            ┆            ┆          ┆            │\n",
       "│ , P…       ┆       ┆          ┆            ┆   ┆            ┆            ┆          ┆            │\n",
       "│ 0060 Keith ┆ 11 nt ┆ PM       ┆ Mozilla/5. ┆ … ┆ Electrical ┆ 242.8.85.2 ┆ en       ┆ 17.76      │\n",
       "│ Stream\n",
       "     ┆       ┆          ┆ 0 (Macinto ┆   ┆ engineer   ┆ 05         ┆          ┆            │\n",
       "│ Westport,  ┆       ┆          ┆ sh; U;     ┆   ┆            ┆            ┆          ┆            │\n",
       "│ CO …       ┆       ┆          ┆ Intel…     ┆   ┆            ┆            ┆          ┆            │\n",
       "│ 02182      ┆ 34 RL ┆ AM       ┆ Mozilla/5. ┆ … ┆ Biomedical ┆ 146.238.11 ┆ fr       ┆ 94.93      │\n",
       "│ Keith      ┆       ┆          ┆ 0 (compati ┆   ┆ engineer   ┆ 8.2        ┆          ┆            │\n",
       "│ Expressway\n",
       " ┆       ┆          ┆ ble; MSIE  ┆   ┆            ┆            ┆          ┆            │\n",
       "│ East Sha…  ┆       ┆          ┆ 9.…        ┆   ┆            ┆            ┆          ┆            │\n",
       "│ 832 Curtis ┆ 41 JY ┆ AM       ┆ Mozilla/5. ┆ … ┆ Energy     ┆ 121.133.16 ┆ pt       ┆ 25.63      │\n",
       "│ Dam Suite  ┆       ┆          ┆ 0 (compati ┆   ┆ engineer   ┆ 8.51       ┆          ┆            │\n",
       "│ 785\n",
       "        ┆       ┆          ┆ ble; MSIE  ┆   ┆            ┆            ┆          ┆            │\n",
       "│ North …    ┆       ┆          ┆ 9.…        ┆   ┆            ┆            ┆          ┆            │\n",
       "└────────────┴───────┴──────────┴────────────┴───┴────────────┴────────────┴──────────┴────────────┘"
      ]
     },
     "metadata": {},
     "output_type": "display_data"
    },
    {
     "name": "stdout",
     "output_type": "stream",
     "text": [
      "There are 984 jobs with engineer in the name\n"
     ]
    }
   ],
   "source": [
    "engineer_jobs = data.filter(data['Job'].str.to_lowercase().str.contains('engineer'))\n",
    "display(engineer_jobs)\n",
    "print(f'There are {len(engineer_jobs)} jobs with engineer in the name')"
   ]
  },
  {
   "attachments": {},
   "cell_type": "markdown",
   "metadata": {},
   "source": [
    "13.\tFind The Email of the person with the following IP Address: 132.207.160.22"
   ]
  },
  {
   "cell_type": "code",
   "execution_count": 18,
   "metadata": {},
   "outputs": [
    {
     "data": {
      "text/html": [
       "<div><style>\n",
       ".dataframe > thead > tr > th,\n",
       ".dataframe > tbody > tr > td {\n",
       "  text-align: right;\n",
       "}\n",
       "</style>\n",
       "<small>shape: (1, 14)</small><table border=\"1\" class=\"dataframe\"><thead><tr><th>Address</th><th>Lot</th><th>AM or PM</th><th>Browser Info</th><th>Company</th><th>Credit Card</th><th>CC Exp Date</th><th>CC Security Code</th><th>CC Provider</th><th>Email</th><th>Job</th><th>IP Address</th><th>Language</th><th>Purchase Price</th></tr><tr><td>str</td><td>str</td><td>str</td><td>str</td><td>str</td><td>i64</td><td>str</td><td>i64</td><td>str</td><td>str</td><td>str</td><td>str</td><td>str</td><td>f64</td></tr></thead><tbody><tr><td>&quot;Unit 0065 Box …</td><td>&quot;94 vE&quot;</td><td>&quot;PM&quot;</td><td>&quot;Mozilla/5.0 (c…</td><td>&quot;Simpson, Willi…</td><td>675957666125</td><td>&quot;08/19&quot;</td><td>699</td><td>&quot;JCB 16 digit&quot;</td><td>&quot;amymiller@mora…</td><td>&quot;Customer servi…</td><td>&quot;132.207.160.22…</td><td>&quot;de&quot;</td><td>0.95</td></tr></tbody></table></div>"
      ],
      "text/plain": [
       "shape: (1, 14)\n",
       "┌────────────┬───────┬──────────┬────────────┬───┬────────────┬────────────┬──────────┬────────────┐\n",
       "│ Address    ┆ Lot   ┆ AM or PM ┆ Browser    ┆ … ┆ Job        ┆ IP Address ┆ Language ┆ Purchase   │\n",
       "│ ---        ┆ ---   ┆ ---      ┆ Info       ┆   ┆ ---        ┆ ---        ┆ ---      ┆ Price      │\n",
       "│ str        ┆ str   ┆ str      ┆ ---        ┆   ┆ str        ┆ str        ┆ str      ┆ ---        │\n",
       "│            ┆       ┆          ┆ str        ┆   ┆            ┆            ┆          ┆ f64        │\n",
       "╞════════════╪═══════╪══════════╪════════════╪═══╪════════════╪════════════╪══════════╪════════════╡\n",
       "│ Unit 0065  ┆ 94 vE ┆ PM       ┆ Mozilla/5. ┆ … ┆ Customer   ┆ 132.207.16 ┆ de       ┆ 0.95       │\n",
       "│ Box 5052\n",
       "   ┆       ┆          ┆ 0 (compati ┆   ┆ service    ┆ 0.22       ┆          ┆            │\n",
       "│ DPO AP     ┆       ┆          ┆ ble; MSIE  ┆   ┆ manager    ┆            ┆          ┆            │\n",
       "│ 27450      ┆       ┆          ┆ 9.…        ┆   ┆            ┆            ┆          ┆            │\n",
       "└────────────┴───────┴──────────┴────────────┴───┴────────────┴────────────┴──────────┴────────────┘"
      ]
     },
     "metadata": {},
     "output_type": "display_data"
    },
    {
     "name": "stdout",
     "output_type": "stream",
     "text": [
      "shape: (1, 1)\n",
      "┌────────────────────────────────┐\n",
      "│ Email                          │\n",
      "│ ---                            │\n",
      "│ str                            │\n",
      "╞════════════════════════════════╡\n",
      "│ amymiller@morales-harrison.com │\n",
      "└────────────────────────────────┘\n"
     ]
    }
   ],
   "source": [
    "result = data.filter(data['IP Address'] == '132.207.160.22')\n",
    "\n",
    "display(result)\n",
    "print(result[['Email']])"
   ]
  },
  {
   "attachments": {},
   "cell_type": "markdown",
   "metadata": {},
   "source": [
    "14.\tHow many People have Mastercard as their Credit Card Provider and made a purchase above 50 dollars?"
   ]
  },
  {
   "cell_type": "code",
   "execution_count": 28,
   "metadata": {},
   "outputs": [
    {
     "data": {
      "text/html": [
       "<div><style>\n",
       ".dataframe > thead > tr > th,\n",
       ".dataframe > tbody > tr > td {\n",
       "  text-align: right;\n",
       "}\n",
       "</style>\n",
       "<small>shape: (3, 14)</small><table border=\"1\" class=\"dataframe\"><thead><tr><th>Address</th><th>Lot</th><th>AM or PM</th><th>Browser Info</th><th>Company</th><th>Credit Card</th><th>CC Exp Date</th><th>CC Security Code</th><th>CC Provider</th><th>Email</th><th>Job</th><th>IP Address</th><th>Language</th><th>Purchase Price</th></tr><tr><td>str</td><td>str</td><td>str</td><td>str</td><td>str</td><td>i64</td><td>str</td><td>i64</td><td>str</td><td>str</td><td>str</td><td>str</td><td>str</td><td>f64</td></tr></thead><tbody><tr><td>&quot;9374 Jasmine S…</td><td>&quot;28 rn&quot;</td><td>&quot;PM&quot;</td><td>&quot;Opera/8.93.(Wi…</td><td>&quot;Fletcher, Rich…</td><td>3337758169645356</td><td>&quot;11/18&quot;</td><td>561</td><td>&quot;Mastercard&quot;</td><td>&quot;anthony41@reed…</td><td>&quot;Drilling engin…</td><td>&quot;15.160.41.51&quot;</td><td>&quot;fr&quot;</td><td>70.73</td></tr><tr><td>&quot;461 Christophe…</td><td>&quot;17 SB&quot;</td><td>&quot;PM&quot;</td><td>&quot;Mozilla/5.0 (X…</td><td>&quot;Beard, Abbott …</td><td>6011350184276270</td><td>&quot;12/22&quot;</td><td>767</td><td>&quot;Mastercard&quot;</td><td>&quot;hannah63@yahoo…</td><td>&quot;Photographer&quot;</td><td>&quot;73.250.176.201…</td><td>&quot;el&quot;</td><td>70.15</td></tr><tr><td>&quot;USNS Alvarado\r…</td><td>&quot;26 Lh&quot;</td><td>&quot;PM&quot;</td><td>&quot;Opera/8.84.(X1…</td><td>&quot;Nicholson Grou…</td><td>4614997834548</td><td>&quot;03/22&quot;</td><td>909</td><td>&quot;Mastercard&quot;</td><td>&quot;ashley12@hotma…</td><td>&quot;Sales executiv…</td><td>&quot;94.176.142.201…</td><td>&quot;en&quot;</td><td>94.14</td></tr></tbody></table></div>"
      ],
      "text/plain": [
       "shape: (3, 14)\n",
       "┌────────────┬───────┬──────────┬────────────┬───┬────────────┬────────────┬──────────┬────────────┐\n",
       "│ Address    ┆ Lot   ┆ AM or PM ┆ Browser    ┆ … ┆ Job        ┆ IP Address ┆ Language ┆ Purchase   │\n",
       "│ ---        ┆ ---   ┆ ---      ┆ Info       ┆   ┆ ---        ┆ ---        ┆ ---      ┆ Price      │\n",
       "│ str        ┆ str   ┆ str      ┆ ---        ┆   ┆ str        ┆ str        ┆ str      ┆ ---        │\n",
       "│            ┆       ┆          ┆ str        ┆   ┆            ┆            ┆          ┆ f64        │\n",
       "╞════════════╪═══════╪══════════╪════════════╪═══╪════════════╪════════════╪══════════╪════════════╡\n",
       "│ 9374       ┆ 28 rn ┆ PM       ┆ Opera/8.93 ┆ … ┆ Drilling   ┆ 15.160.41. ┆ fr       ┆ 70.73      │\n",
       "│ Jasmine    ┆       ┆          ┆ .(Windows  ┆   ┆ engineer   ┆ 51         ┆          ┆            │\n",
       "│ Spurs      ┆       ┆          ┆ 98; Win 9x ┆   ┆            ┆            ┆          ┆            │\n",
       "│ Suite 508\n",
       "  ┆       ┆          ┆ 4…         ┆   ┆            ┆            ┆          ┆            │\n",
       "│ So…        ┆       ┆          ┆            ┆   ┆            ┆            ┆          ┆            │\n",
       "│ 461 Christ ┆ 17 SB ┆ PM       ┆ Mozilla/5. ┆ … ┆ Photograph ┆ 73.250.176 ┆ el       ┆ 70.15      │\n",
       "│ opher      ┆       ┆          ┆ 0 (X11;    ┆   ┆ er         ┆ .201       ┆          ┆            │\n",
       "│ Square\n",
       "     ┆       ┆          ┆ Linux      ┆   ┆            ┆            ┆          ┆            │\n",
       "│ West Mic…  ┆       ┆          ┆ i686; rv…  ┆   ┆            ┆            ┆          ┆            │\n",
       "│ USNS       ┆ 26 Lh ┆ PM       ┆ Opera/8.84 ┆ … ┆ Sales      ┆ 94.176.142 ┆ en       ┆ 94.14      │\n",
       "│ Alvarado\n",
       "   ┆       ┆          ┆ .(X11;     ┆   ┆ executive  ┆ .201       ┆          ┆            │\n",
       "│ FPO AA     ┆       ┆          ┆ Linux      ┆   ┆            ┆            ┆          ┆            │\n",
       "│ 27052-1231 ┆       ┆          ┆ i686; sl-… ┆   ┆            ┆            ┆          ┆            │\n",
       "└────────────┴───────┴──────────┴────────────┴───┴────────────┴────────────┴──────────┴────────────┘"
      ]
     },
     "metadata": {},
     "output_type": "display_data"
    },
    {
     "data": {
      "text/html": [
       "<div><style>\n",
       ".dataframe > thead > tr > th,\n",
       ".dataframe > tbody > tr > td {\n",
       "  text-align: right;\n",
       "}\n",
       "</style>\n",
       "<small>shape: (5, 14)</small><table border=\"1\" class=\"dataframe\"><thead><tr><th>Address</th><th>Lot</th><th>AM or PM</th><th>Browser Info</th><th>Company</th><th>Credit Card</th><th>CC Exp Date</th><th>CC Security Code</th><th>CC Provider</th><th>Email</th><th>Job</th><th>IP Address</th><th>Language</th><th>Purchase Price</th></tr><tr><td>str</td><td>str</td><td>str</td><td>str</td><td>str</td><td>i64</td><td>str</td><td>i64</td><td>str</td><td>str</td><td>str</td><td>str</td><td>str</td><td>f64</td></tr></thead><tbody><tr><td>&quot;9374 Jasmine S…</td><td>&quot;28 rn&quot;</td><td>&quot;PM&quot;</td><td>&quot;Opera/8.93.(Wi…</td><td>&quot;Fletcher, Rich…</td><td>3337758169645356</td><td>&quot;11/18&quot;</td><td>561</td><td>&quot;Mastercard&quot;</td><td>&quot;anthony41@reed…</td><td>&quot;Drilling engin…</td><td>&quot;15.160.41.51&quot;</td><td>&quot;fr&quot;</td><td>70.73</td></tr><tr><td>&quot;461 Christophe…</td><td>&quot;17 SB&quot;</td><td>&quot;PM&quot;</td><td>&quot;Mozilla/5.0 (X…</td><td>&quot;Beard, Abbott …</td><td>6011350184276270</td><td>&quot;12/22&quot;</td><td>767</td><td>&quot;Mastercard&quot;</td><td>&quot;hannah63@yahoo…</td><td>&quot;Photographer&quot;</td><td>&quot;73.250.176.201…</td><td>&quot;el&quot;</td><td>70.15</td></tr><tr><td>&quot;USNS Alvarado\r…</td><td>&quot;26 Lh&quot;</td><td>&quot;PM&quot;</td><td>&quot;Opera/8.84.(X1…</td><td>&quot;Nicholson Grou…</td><td>4614997834548</td><td>&quot;03/22&quot;</td><td>909</td><td>&quot;Mastercard&quot;</td><td>&quot;ashley12@hotma…</td><td>&quot;Sales executiv…</td><td>&quot;94.176.142.201…</td><td>&quot;en&quot;</td><td>94.14</td></tr><tr><td>&quot;93392 Webb Gar…</td><td>&quot;37 om&quot;</td><td>&quot;AM&quot;</td><td>&quot;Mozilla/5.0 (M…</td><td>&quot;Mora Ltd&quot;</td><td>6011049630969815</td><td>&quot;09/16&quot;</td><td>367</td><td>&quot;Mastercard&quot;</td><td>&quot;hgonzalez@mcdo…</td><td>&quot;Lecturer, furt…</td><td>&quot;216.23.95.40&quot;</td><td>&quot;zh&quot;</td><td>97.46</td></tr><tr><td>&quot;431 Bowen Ligh…</td><td>&quot;31 tG&quot;</td><td>&quot;AM&quot;</td><td>&quot;Mozilla/5.0 (W…</td><td>&quot;Copeland-Lee&quot;</td><td>639032576097</td><td>&quot;06/18&quot;</td><td>868</td><td>&quot;Mastercard&quot;</td><td>&quot;nrogers@brown.…</td><td>&quot;Teacher, Engli…</td><td>&quot;153.188.13.203…</td><td>&quot;es&quot;</td><td>78.86</td></tr></tbody></table></div>"
      ],
      "text/plain": [
       "shape: (5, 14)\n",
       "┌────────────┬───────┬──────────┬────────────┬───┬────────────┬────────────┬──────────┬────────────┐\n",
       "│ Address    ┆ Lot   ┆ AM or PM ┆ Browser    ┆ … ┆ Job        ┆ IP Address ┆ Language ┆ Purchase   │\n",
       "│ ---        ┆ ---   ┆ ---      ┆ Info       ┆   ┆ ---        ┆ ---        ┆ ---      ┆ Price      │\n",
       "│ str        ┆ str   ┆ str      ┆ ---        ┆   ┆ str        ┆ str        ┆ str      ┆ ---        │\n",
       "│            ┆       ┆          ┆ str        ┆   ┆            ┆            ┆          ┆ f64        │\n",
       "╞════════════╪═══════╪══════════╪════════════╪═══╪════════════╪════════════╪══════════╪════════════╡\n",
       "│ 9374       ┆ 28 rn ┆ PM       ┆ Opera/8.93 ┆ … ┆ Drilling   ┆ 15.160.41. ┆ fr       ┆ 70.73      │\n",
       "│ Jasmine    ┆       ┆          ┆ .(Windows  ┆   ┆ engineer   ┆ 51         ┆          ┆            │\n",
       "│ Spurs      ┆       ┆          ┆ 98; Win 9x ┆   ┆            ┆            ┆          ┆            │\n",
       "│ Suite 508\n",
       "  ┆       ┆          ┆ 4…         ┆   ┆            ┆            ┆          ┆            │\n",
       "│ So…        ┆       ┆          ┆            ┆   ┆            ┆            ┆          ┆            │\n",
       "│ 461 Christ ┆ 17 SB ┆ PM       ┆ Mozilla/5. ┆ … ┆ Photograph ┆ 73.250.176 ┆ el       ┆ 70.15      │\n",
       "│ opher      ┆       ┆          ┆ 0 (X11;    ┆   ┆ er         ┆ .201       ┆          ┆            │\n",
       "│ Square\n",
       "     ┆       ┆          ┆ Linux      ┆   ┆            ┆            ┆          ┆            │\n",
       "│ West Mic…  ┆       ┆          ┆ i686; rv…  ┆   ┆            ┆            ┆          ┆            │\n",
       "│ USNS       ┆ 26 Lh ┆ PM       ┆ Opera/8.84 ┆ … ┆ Sales      ┆ 94.176.142 ┆ en       ┆ 94.14      │\n",
       "│ Alvarado\n",
       "   ┆       ┆          ┆ .(X11;     ┆   ┆ executive  ┆ .201       ┆          ┆            │\n",
       "│ FPO AA     ┆       ┆          ┆ Linux      ┆   ┆            ┆            ┆          ┆            │\n",
       "│ 27052-1231 ┆       ┆          ┆ i686; sl-… ┆   ┆            ┆            ┆          ┆            │\n",
       "│ 93392 Webb ┆ 37 om ┆ AM       ┆ Mozilla/5. ┆ … ┆ Lecturer,  ┆ 216.23.95. ┆ zh       ┆ 97.46      │\n",
       "│ Gardens    ┆       ┆          ┆ 0 (Macinto ┆   ┆ further    ┆ 40         ┆          ┆            │\n",
       "│ Apt. 220\n",
       "   ┆       ┆          ┆ sh; U;     ┆   ┆ education  ┆            ┆          ┆            │\n",
       "│ Lau…       ┆       ┆          ┆ Intel…     ┆   ┆            ┆            ┆          ┆            │\n",
       "│ 431 Bowen  ┆ 31 tG ┆ AM       ┆ Mozilla/5. ┆ … ┆ Teacher,   ┆ 153.188.13 ┆ es       ┆ 78.86      │\n",
       "│ Lights\n",
       "     ┆       ┆          ┆ 0 (Windows ┆   ┆ English as ┆ .203       ┆          ┆            │\n",
       "│ Fergusonbo ┆       ┆          ┆ NT 5.2;    ┆   ┆ a foreign  ┆            ┆          ┆            │\n",
       "│ roug…      ┆       ┆          ┆ it-…       ┆   ┆ la…        ┆            ┆          ┆            │\n",
       "└────────────┴───────┴──────────┴────────────┴───┴────────────┴────────────┴──────────┴────────────┘"
      ]
     },
     "execution_count": 28,
     "metadata": {},
     "output_type": "execute_result"
    }
   ],
   "source": [
    "mastercard = data.filter(data['CC Provider'].str.to_lowercase().str.contains('mastercard'))\n",
    "display(mastercard.head(3))\n",
    "\n",
    "mastercard.filter(mastercard['Purchase Price'] >= 50.00).head(5)"
   ]
  },
  {
   "attachments": {},
   "cell_type": "markdown",
   "metadata": {},
   "source": [
    "15.\tFind the email of the person with the following Credit Card Number: 4664825258997302"
   ]
  },
  {
   "cell_type": "code",
   "execution_count": 30,
   "metadata": {},
   "outputs": [
    {
     "name": "stdout",
     "output_type": "stream",
     "text": [
      "shape: (1, 1)\n",
      "┌───────────────────┐\n",
      "│ Email             │\n",
      "│ ---               │\n",
      "│ str               │\n",
      "╞═══════════════════╡\n",
      "│ bberry@wright.net │\n",
      "└───────────────────┘\n"
     ]
    }
   ],
   "source": [
    "print(data.filter(data['Credit Card'] == 4664825258997302)[['Email']])"
   ]
  },
  {
   "attachments": {},
   "cell_type": "markdown",
   "metadata": {},
   "source": [
    "16.\tHow many people purchase during the AM and how many people purchase during PM?"
   ]
  },
  {
   "cell_type": "code",
   "execution_count": 33,
   "metadata": {},
   "outputs": [
    {
     "name": "stdout",
     "output_type": "stream",
     "text": [
      "There are 4932 AM customers and 5068 PM customers\n"
     ]
    }
   ],
   "source": [
    "am = data.filter(data['AM or PM'] == 'AM').__len__()\n",
    "pm = data.filter(data['AM or PM'] == 'PM').__len__()\n",
    "\n",
    "print(f'There are {am} AM customers and {pm} PM customers')"
   ]
  },
  {
   "attachments": {},
   "cell_type": "markdown",
   "metadata": {},
   "source": [
    "17.\tHow many people have a credit card that expires in 2020?"
   ]
  },
  {
   "cell_type": "code",
   "execution_count": 38,
   "metadata": {},
   "outputs": [
    {
     "data": {
      "text/html": [
       "<div><style>\n",
       ".dataframe > thead > tr > th,\n",
       ".dataframe > tbody > tr > td {\n",
       "  text-align: right;\n",
       "}\n",
       "</style>\n",
       "<small>shape: (4, 14)</small><table border=\"1\" class=\"dataframe\"><thead><tr><th>Address</th><th>Lot</th><th>AM or PM</th><th>Browser Info</th><th>Company</th><th>Credit Card</th><th>CC Exp Date</th><th>CC Security Code</th><th>CC Provider</th><th>Email</th><th>Job</th><th>IP Address</th><th>Language</th><th>Purchase Price</th></tr><tr><td>str</td><td>str</td><td>str</td><td>str</td><td>str</td><td>i64</td><td>str</td><td>i64</td><td>str</td><td>str</td><td>str</td><td>str</td><td>str</td><td>f64</td></tr></thead><tbody><tr><td>&quot;16629 Pace Cam…</td><td>&quot;46 in&quot;</td><td>&quot;PM&quot;</td><td>&quot;Opera/9.56.(X1…</td><td>&quot;Martinez-Herma…</td><td>6011929061123406</td><td>&quot;02/20&quot;</td><td>900</td><td>&quot;JCB 16 digit&quot;</td><td>&quot;pdunlap@yahoo.…</td><td>&quot;Scientist, pro…</td><td>&quot;149.146.147.20…</td><td>&quot;el&quot;</td><td>98.14</td></tr><tr><td>&quot;125 Hall Summi…</td><td>&quot;99 CU&quot;</td><td>&quot;PM&quot;</td><td>&quot;Mozilla/5.0 (c…</td><td>&quot;Turner-Mckinne…</td><td>676343504830</td><td>&quot;02/20&quot;</td><td>440</td><td>&quot;VISA 16 digit&quot;</td><td>&quot;ruiznicole@gma…</td><td>&quot;Designer, inte…</td><td>&quot;25.105.209.214…</td><td>&quot;fr&quot;</td><td>58.39</td></tr><tr><td>&quot;Unit 3628 Box …</td><td>&quot;39 Qm&quot;</td><td>&quot;PM&quot;</td><td>&quot;Mozilla/5.0 (W…</td><td>&quot;Martinez-Wilso…</td><td>4942281854569455</td><td>&quot;01/20&quot;</td><td>8360</td><td>&quot;JCB 16 digit&quot;</td><td>&quot;shane21@atkins…</td><td>&quot;Civil Service …</td><td>&quot;196.37.134.217…</td><td>&quot;pt&quot;</td><td>56.63</td></tr><tr><td>&quot;9374 Skinner C…</td><td>&quot;80 Fq&quot;</td><td>&quot;PM&quot;</td><td>&quot;Mozilla/5.0 (c…</td><td>&quot;Hanna-Grant&quot;</td><td>180042289507877</td><td>&quot;09/20&quot;</td><td>912</td><td>&quot;VISA 16 digit&quot;</td><td>&quot;saundersernest…</td><td>&quot;Animal technol…</td><td>&quot;85.134.58.250&quot;</td><td>&quot;zh&quot;</td><td>9.77</td></tr></tbody></table></div>"
      ],
      "text/plain": [
       "shape: (4, 14)\n",
       "┌────────────┬───────┬──────────┬────────────┬───┬────────────┬────────────┬──────────┬────────────┐\n",
       "│ Address    ┆ Lot   ┆ AM or PM ┆ Browser    ┆ … ┆ Job        ┆ IP Address ┆ Language ┆ Purchase   │\n",
       "│ ---        ┆ ---   ┆ ---      ┆ Info       ┆   ┆ ---        ┆ ---        ┆ ---      ┆ Price      │\n",
       "│ str        ┆ str   ┆ str      ┆ ---        ┆   ┆ str        ┆ str        ┆ str      ┆ ---        │\n",
       "│            ┆       ┆          ┆ str        ┆   ┆            ┆            ┆          ┆ f64        │\n",
       "╞════════════╪═══════╪══════════╪════════════╪═══╪════════════╪════════════╪══════════╪════════════╡\n",
       "│ 16629 Pace ┆ 46 in ┆ PM       ┆ Opera/9.56 ┆ … ┆ Scientist, ┆ 149.146.14 ┆ el       ┆ 98.14      │\n",
       "│ Camp Apt.  ┆       ┆          ┆ .(X11;     ┆   ┆ product/pr ┆ 7.205      ┆          ┆            │\n",
       "│ 448\n",
       "        ┆       ┆          ┆ Linux      ┆   ┆ ocess      ┆            ┆          ┆            │\n",
       "│ Alexis…    ┆       ┆          ┆ x86_64; s… ┆   ┆ devel…     ┆            ┆          ┆            │\n",
       "│ 125 Hall   ┆ 99 CU ┆ PM       ┆ Mozilla/5. ┆ … ┆ Designer,  ┆ 25.105.209 ┆ fr       ┆ 58.39      │\n",
       "│ Summit\n",
       "     ┆       ┆          ┆ 0 (compati ┆   ┆ interior/s ┆ .214       ┆          ┆            │\n",
       "│ Boothton,  ┆       ┆          ┆ ble; MSIE  ┆   ┆ patial     ┆            ┆          ┆            │\n",
       "│ IL 41…     ┆       ┆          ┆ 7.…        ┆   ┆            ┆            ┆          ┆            │\n",
       "│ Unit 3628  ┆ 39 Qm ┆ PM       ┆ Mozilla/5. ┆ … ┆ Civil      ┆ 196.37.134 ┆ pt       ┆ 56.63      │\n",
       "│ Box 6778\n",
       "   ┆       ┆          ┆ 0 (Windows ┆   ┆ Service    ┆ .217       ┆          ┆            │\n",
       "│ DPO AE     ┆       ┆          ┆ 98; Win 9x ┆   ┆ fast       ┆            ┆          ┆            │\n",
       "│ 72362      ┆       ┆          ┆ …          ┆   ┆ streamer   ┆            ┆          ┆            │\n",
       "│ 9374       ┆ 80 Fq ┆ PM       ┆ Mozilla/5. ┆ … ┆ Animal tec ┆ 85.134.58. ┆ zh       ┆ 9.77       │\n",
       "│ Skinner    ┆       ┆          ┆ 0 (compati ┆   ┆ hnologist  ┆ 250        ┆          ┆            │\n",
       "│ Common     ┆       ┆          ┆ ble; MSIE  ┆   ┆            ┆            ┆          ┆            │\n",
       "│ Apt. 254\n",
       "   ┆       ┆          ┆ 9.…        ┆   ┆            ┆            ┆          ┆            │\n",
       "│ Ch…        ┆       ┆          ┆            ┆   ┆            ┆            ┆          ┆            │\n",
       "└────────────┴───────┴──────────┴────────────┴───┴────────────┴────────────┴──────────┴────────────┘"
      ]
     },
     "execution_count": 38,
     "metadata": {},
     "output_type": "execute_result"
    }
   ],
   "source": [
    "expire_20 = data.filter(data['CC Exp Date'].str.contains('20'))\n",
    "expire_20.head(4)"
   ]
  },
  {
   "attachments": {},
   "cell_type": "markdown",
   "metadata": {},
   "source": [
    "18.\tWhat are the top 5 most popular email providers (e.g. Gmail.com, yahoo.com, etc...)"
   ]
  },
  {
   "cell_type": "code",
   "execution_count": 47,
   "metadata": {},
   "outputs": [
    {
     "data": {
      "text/html": [
       "<div><style>\n",
       ".dataframe > thead > tr > th,\n",
       ".dataframe > tbody > tr > td {\n",
       "  text-align: right;\n",
       "}\n",
       "</style>\n",
       "<small>shape: (5, 2)</small><table border=\"1\" class=\"dataframe\"><thead><tr><th>Email</th><th>counts</th></tr><tr><td>str</td><td>u32</td></tr></thead><tbody><tr><td>&quot;hotmail.com&quot;</td><td>1638</td></tr><tr><td>&quot;yahoo.com&quot;</td><td>1616</td></tr><tr><td>&quot;gmail.com&quot;</td><td>1605</td></tr><tr><td>&quot;smith.com&quot;</td><td>42</td></tr><tr><td>&quot;williams.com&quot;</td><td>37</td></tr></tbody></table></div>"
      ],
      "text/plain": [
       "shape: (5, 2)\n",
       "┌──────────────┬────────┐\n",
       "│ Email        ┆ counts │\n",
       "│ ---          ┆ ---    │\n",
       "│ str          ┆ u32    │\n",
       "╞══════════════╪════════╡\n",
       "│ hotmail.com  ┆ 1638   │\n",
       "│ yahoo.com    ┆ 1616   │\n",
       "│ gmail.com    ┆ 1605   │\n",
       "│ smith.com    ┆ 42     │\n",
       "│ williams.com ┆ 37     │\n",
       "└──────────────┴────────┘"
      ]
     },
     "execution_count": 47,
     "metadata": {},
     "output_type": "execute_result"
    }
   ],
   "source": [
    "emails = data['Email'].apply(lambda x: x.split('@', 1)[1])\n",
    "emails.value_counts().sort(by='counts', descending=True).head(5)"
   ]
  }
 ],
 "metadata": {
  "kernelspec": {
   "display_name": "Python 3",
   "language": "python",
   "name": "python3"
  },
  "language_info": {
   "codemirror_mode": {
    "name": "ipython",
    "version": 3
   },
   "file_extension": ".py",
   "mimetype": "text/x-python",
   "name": "python",
   "nbconvert_exporter": "python",
   "pygments_lexer": "ipython3",
   "version": "3.10.5"
  },
  "orig_nbformat": 4
 },
 "nbformat": 4,
 "nbformat_minor": 2
}
